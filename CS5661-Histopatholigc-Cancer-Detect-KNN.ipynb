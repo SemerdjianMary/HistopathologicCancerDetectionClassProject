{
 "cells": [
  {
   "cell_type": "code",
   "execution_count": 1,
   "id": "a01b0293",
   "metadata": {},
   "outputs": [
    {
     "name": "stdout",
     "output_type": "stream",
     "text": [
      "Tensorflow version 2.12.0\n"
     ]
    }
   ],
   "source": [
    "# Importing libraries and packages:\n",
    "\n",
    "from sklearn.neural_network import MLPClassifier\n",
    "\n",
    "from sklearn.model_selection import train_test_split\n",
    "from sklearn.model_selection import cross_val_score\n",
    "from sklearn.metrics import accuracy_score\n",
    "from sklearn import metrics\n",
    "import matplotlib.pyplot as plt\n",
    "\n",
    "# Importing required packages and libraries\n",
    "import numpy as np\n",
    "import pandas as pd\n",
    "\n",
    "import tensorflow as tf\n",
    "from tensorflow import keras\n",
    "\n",
    "import math\n",
    "from sklearn.utils import resample\n",
    "\n",
    "from sklearn.tree import DecisionTreeClassifier\n",
    "from sklearn.ensemble import AdaBoostClassifier\n",
    "from xgboost import XGBClassifier\n",
    "from sklearn.ensemble import RandomForestClassifier\n",
    "from sklearn.linear_model import LogisticRegression\n",
    "from sklearn.neighbors import KNeighborsClassifier\n",
    "from sklearn.ensemble import BaggingClassifier\n",
    "from sklearn.ensemble import ExtraTreesClassifier\n",
    "from sklearn.ensemble import GradientBoostingClassifier\n",
    "\n",
    "from sklearn.decomposition  import  PCA\n",
    "from sklearn import svm\n",
    "\n",
    "from sklearn.preprocessing import scale\n",
    " \n",
    "from sklearn.model_selection  import  GridSearchCV\n",
    "\n",
    "import matplotlib.image as mpimg\n",
    "import random\n",
    "import os,sys\n",
    "from scipy import stats\n",
    " \n",
    "from skimage.color import rgb2gray\n",
    "\n",
    "import re\n",
    "from keras_preprocessing.image import ImageDataGenerator\n",
    "\n",
    "import tifffile as tiff\n",
    "import pandas as pd\n",
    "from PIL import Image\n",
    "\n",
    "import matplotlib.pyplot as plt\n",
    "plt.style.use('default')\n",
    "\n",
    "from glob import glob\n",
    "\n",
    "# Importing libraries and packages:\n",
    "\n",
    "from sklearn.neural_network import MLPClassifier\n",
    "\n",
    "import seaborn as sns\n",
    "from sklearn.naive_bayes import MultinomialNB\n",
    " \n",
    "from sklearn.svm import SVC\n",
    "\n",
    "from sklearn.model_selection import cross_val_score\n",
    " \n",
    "from sklearn.model_selection import train_test_split\n",
    "# from sklearn.metrics import precision_score, recall_score, plot_confusion_matrix, classification_report, accuracy_score, f1_score\n",
    "from sklearn import metrics\n",
    "from sklearn.metrics import roc_curve\n",
    "\n",
    "import warnings\n",
    "warnings.simplefilter(\"ignore\", category=DeprecationWarning)\n",
    "\n",
    "import os\n",
    "import numpy as np\n",
    "from tensorflow.keras.layers import Input, Conv2D, MaxPooling2D, UpSampling2D\n",
    "from tensorflow.keras.models import Model\n",
    "from tensorflow.keras.preprocessing.image import load_img, img_to_array\n",
    "\n",
    "print(f'Tensorflow version {tf.__version__}')\n",
    "\n",
    "from keras.models import Sequential\n",
    "from keras.layers import Dense, Dropout, Activation, Flatten\n",
    "from  keras.wrappers.scikit_learn  import  KerasClassifier\n",
    "from  sklearn.model_selection  import  GridSearchCV\n",
    "from keras.utils import np_utils\n",
    "from PIL import Image\n",
    " \n",
    "import time\n",
    "\n",
    "import logging\n",
    "logging.getLogger(\"tensorflow\").setLevel((logging.WARNING))"
   ]
  },
  {
   "cell_type": "code",
   "execution_count": 2,
   "id": "6bad2107",
   "metadata": {},
   "outputs": [
    {
     "data": {
      "text/plain": [
       "0        1\n",
       "1        1\n",
       "2        1\n",
       "3        0\n",
       "4        1\n",
       "        ..\n",
       "19995    1\n",
       "19996    1\n",
       "19997    0\n",
       "19998    0\n",
       "19999    1\n",
       "Name: label, Length: 20000, dtype: int64"
      ]
     },
     "execution_count": 2,
     "metadata": {},
     "output_type": "execute_result"
    }
   ],
   "source": [
    "# Set the path to the directory containing the tif images\n",
    "img_dir = (\"C:\\\\Users\\\\mseme\\\\OneDrive\\\\Documents\\\\CS5661 Topics in Adv Data Science\\\\FinalProject_Histopathologic_Cancer_Detection\\\\Files\\\\Image\")\n",
    "\n",
    "# Set the path to the CSV file containing the id-label mapping\n",
    "# result = pd.read_csv(\"C:/Users/mseme\\OneDrive\\Documents\\CS5661 Topics in Adv Data Science\\FinalProject_Histopathologic_Cancer_Detection\\Files\\BalancedDataCompressedAutoEncoderPlusPCA.csv\", index_col=0) \n",
    "result = pd.read_csv('BalancedDataCompressedAutoEncoderPlusPCA.csv', index_col=0)\n",
    "\n",
    "label = result['label']\n",
    "\n",
    "label\n",
    "# Load the id-label mapping file into a DataFrame\n",
    "# id_df = pd.read_csv(id_file,index_col=0)\n",
    "\n",
    "# id_df\n",
    "# id_file\n",
    "\n",
    "# id_file['label'].value_counts()"
   ]
  },
  {
   "cell_type": "markdown",
   "id": "35b52eab",
   "metadata": {},
   "source": [
    "\n",
    "## Train Test Split\n"
   ]
  },
  {
   "cell_type": "code",
   "execution_count": 3,
   "id": "9ba1b9b3",
   "metadata": {},
   "outputs": [
    {
     "name": "stdout",
     "output_type": "stream",
     "text": [
      "Start Time:- 2023-04-11 10:05:15.711718\n",
      "\n",
      "\n",
      "(18000, 2115)\n",
      "(18000,)\n",
      "(2000, 2115)\n",
      "(2000,)\n",
      "End Time:- 0:00:00.316362\n"
     ]
    }
   ],
   "source": [
    "import time\n",
    "\n",
    "import datetime\n",
    "\n",
    "# start the time\n",
    "start_time = datetime.datetime.now() \n",
    "print(\"Start Time:-\", start_time) \n",
    "\n",
    "print('\\n')\n",
    "\n",
    "# splitting the dataset randomly with 10% being the testing set\n",
    "X_train, X_test, y_train, y_test = train_test_split((result[result.columns[2:]]), label, test_size=0.1, random_state=42)\n",
    "\n",
    "\n",
    "# print the size of the traning set:\n",
    "print(X_train.shape)\n",
    "print(y_train.shape)\n",
    "\n",
    "# print the size of the testing set:\n",
    "print(X_test.shape)\n",
    "print(y_test.shape)\n",
    "\n",
    "print(\"End Time:-\", (datetime.datetime.now() - start_time))"
   ]
  },
  {
   "cell_type": "markdown",
   "id": "15198244",
   "metadata": {},
   "source": [
    "## KNN"
   ]
  },
  {
   "cell_type": "code",
   "execution_count": 52,
   "id": "b2e9075f",
   "metadata": {},
   "outputs": [
    {
     "name": "stdout",
     "output_type": "stream",
     "text": [
      "Start Time:- 2023-04-11 10:13:57.057140\n",
      "\n",
      "\n",
      "Predicted Labels:\n",
      "\n",
      "[0 1 1 ... 1 0 0]\n",
      "Accuracy Score: 0.81\n",
      "\n",
      "End Time:- 0:00:01.635159\n"
     ]
    }
   ],
   "source": [
    "start_time = datetime.datetime.now() \n",
    "print(\"Start Time:-\", start_time) \n",
    "\n",
    "print('\\n')\n",
    "\n",
    "# Instantiating a KNN object with K=3\n",
    "knn = KNeighborsClassifier(n_neighbors=5, n_jobs = 10)\n",
    "\n",
    "# We are training on the training set only\n",
    "# function 'fit' will train the model using X (features from dataframe) and y (labels from dataframe)\n",
    "knn.fit(X_train, y_train)\n",
    "\n",
    "# Testing on the testing set\n",
    "y_KNNpredict = knn.predict(X_test)\n",
    "\n",
    "print(\"Predicted Labels:\\n\")\n",
    "print(y_KNNpredict)\n",
    "\n",
    "score = accuracy_score(y_test, y_KNNpredict)\n",
    "print(\"Accuracy Score: \" + str(score) + \"\\n\")\n",
    "\n",
    "y_prob = knn.predict_proba(X_test)\n",
    "\n",
    "print(\"End Time:-\", (datetime.datetime.now() - start_time))\n",
    "\n"
   ]
  },
  {
   "cell_type": "code",
   "execution_count": 53,
   "id": "4c840dbe",
   "metadata": {},
   "outputs": [
    {
     "name": "stdout",
     "output_type": "stream",
     "text": [
      "[0.         0.05188199 0.13021363 0.19023398 0.28179044 0.4577823\n",
      " 1.        ]\n",
      "\n",
      "\n",
      "\n",
      "[0.         0.51327434 0.71583088 0.81022616 0.86725664 0.92920354\n",
      " 1.        ]\n",
      "\n",
      "\n",
      "\n"
     ]
    }
   ],
   "source": [
    "# True positive rate and False positive rate\n",
    "fpr_knn, tpr_knn, thresholds = metrics.roc_curve(y_test, y_prob[:,1], pos_label=1)\n",
    "\n",
    "print(fpr_knn)\n",
    "print(\"\\n\\n\")\n",
    "print(tpr_knn)\n",
    "print(\"\\n\\n\")\n",
    "\n"
   ]
  },
  {
   "cell_type": "code",
   "execution_count": 54,
   "id": "1fe5d62a",
   "metadata": {},
   "outputs": [
    {
     "name": "stdout",
     "output_type": "stream",
     "text": [
      "\n",
      "AUC:0.8651485279245703\n"
     ]
    }
   ],
   "source": [
    "# AUC:\n",
    "AUC_knn = metrics.auc(fpr_knn, tpr_knn)\n",
    "print(\"\\nAUC:\" + str(AUC_knn))"
   ]
  },
  {
   "cell_type": "code",
   "execution_count": 55,
   "id": "1f0fb755",
   "metadata": {},
   "outputs": [
    {
     "data": {
      "image/png": "[encoded data removed]",
      "text/plain": [
       "<Figure size 800x800 with 1 Axes>"
      ]
     },
     "metadata": {},
     "output_type": "display_data"
    }
   ],
   "source": [
    "\n",
    "\n",
    "%matplotlib inline\n",
    "\n",
    "plt.figure(figsize=(8,8))\n",
    "# plt.figure()\n",
    "\n",
    "\n",
    "# Roc Curve:\n",
    "plt.plot(fpr_knn, tpr_knn, color='green', lw=2, label='ROC Curve KNN (area = %0.2f)' % AUC_knn)\n",
    " \n",
    "# Random Guess line:\n",
    "plt.plot([0, 1], [0, 1], color='blue', lw=1, linestyle='--')\n",
    "\n",
    "# Defining The Range of X-Axis and Y-Axis:\n",
    "plt.xlim([-0.005, 1.005])\n",
    "plt.ylim([0.0, 1.01])\n",
    "\n",
    "# Labels, Title, Legend:\n",
    "plt.xlabel('False Positive Rate')\n",
    "plt.ylabel('True Positive Rate')\n",
    "plt.title('Receiver operating characteristic')\n",
    "plt.legend(loc=\"lower right\")\n",
    "\n",
    "plt.show()\n",
    "\n"
   ]
  },
  {
   "cell_type": "markdown",
   "id": "8e927ba3",
   "metadata": {},
   "source": [
    "## Confusion Matrix\n"
   ]
  },
  {
   "cell_type": "code",
   "execution_count": 16,
   "id": "f3839182",
   "metadata": {},
   "outputs": [],
   "source": [
    "import matplotlib.pyplot as plt\n",
    "from sklearn.datasets import make_classification\n",
    "from sklearn.metrics import confusion_matrix, ConfusionMatrixDisplay\n",
    "from sklearn.model_selection import train_test_split\n",
    "from sklearn.svm import SVC\n",
    "from sklearn.preprocessing import StandardScaler\n",
    "from sklearn.pipeline import make_pipeline\n",
    "from sklearn.linear_model import LogisticRegression\n",
    "from sklearn.model_selection import train_test_split\n",
    " "
   ]
  },
  {
   "cell_type": "code",
   "execution_count": 17,
   "id": "f473a3ce",
   "metadata": {},
   "outputs": [],
   "source": [
    "cm_KNN = confusion_matrix(y_test,y_KNNpredict)"
   ]
  },
  {
   "cell_type": "code",
   "execution_count": 18,
   "id": "1fe3a6fa",
   "metadata": {},
   "outputs": [
    {
     "data": {
      "image/png": "[encoded data removed]",
      "text/plain": [
       "<Figure size 640x480 with 2 Axes>"
      ]
     },
     "metadata": {},
     "output_type": "display_data"
    }
   ],
   "source": [
    "\n",
    "\n",
    "#Plot the confusion matrix.\n",
    "sns.heatmap(cm_KNN, annot=True, fmt='g', cmap=\"crest\", xticklabels=['non-metastasis', 'metastasis'],yticklabels=['non-metastasis', 'metastasis'])\n",
    "plt.ylabel('Actual Label',fontsize=15)\n",
    "plt.xlabel('Predicted Label',fontsize=15)\n",
    "plt.title('Confusion Matrix for KNN',fontsize=20)\n",
    "plt.show()\n",
    "\n"
   ]
  },
  {
   "cell_type": "code",
   "execution_count": 19,
   "id": "85c17dc2",
   "metadata": {},
   "outputs": [
    {
     "name": "stdout",
     "output_type": "stream",
     "text": [
      "Accuracy for Ada Boost:  0.81\n",
      "Precision for Ada Boost:  0.8150346191889218\n",
      "Recall for Ada Boost:  0.8102261553588987\n",
      "F1-score for Ada Boost:  0.8126232741617357\n"
     ]
    }
   ],
   "source": [
    "\n",
    "\n",
    "# Finding precision and recall\n",
    "#Import the necessary libraries\n",
    "from sklearn.model_selection import train_test_split\n",
    "from sklearn.tree import DecisionTreeClassifier\n",
    "from sklearn.metrics import confusion_matrix\n",
    "import seaborn as sns\n",
    "import matplotlib.pyplot as plt\n",
    "from sklearn.metrics import accuracy_score, precision_score, recall_score, f1_score\n",
    "\n",
    "accuracy = accuracy_score(y_test, y_KNNpredict)\n",
    "print(\"Accuracy for Ada Boost: \", accuracy)\n",
    "precision = precision_score(y_test, y_KNNpredict)\n",
    "print(\"Precision for Ada Boost: \", precision)\n",
    "recall = recall_score(y_test, y_KNNpredict)\n",
    "print(\"Recall for Ada Boost: \", recall)\n",
    "F1_score = f1_score(y_test, y_KNNpredict)\n",
    "print(\"F1-score for Ada Boost: \", F1_score)\n",
    "\n"
   ]
  },
  {
   "cell_type": "code",
   "execution_count": null,
   "id": "563404a2",
   "metadata": {},
   "outputs": [],
   "source": []
  },
  {
   "cell_type": "code",
   "execution_count": null,
   "id": "93fd3fd2",
   "metadata": {},
   "outputs": [],
   "source": []
  },
  {
   "cell_type": "code",
   "execution_count": null,
   "id": "c0daa64e",
   "metadata": {},
   "outputs": [],
   "source": []
  },
  {
   "cell_type": "code",
   "execution_count": null,
   "id": "a3ddc4e3",
   "metadata": {},
   "outputs": [],
   "source": []
  },
  {
   "cell_type": "code",
   "execution_count": null,
   "id": "e254922b",
   "metadata": {},
   "outputs": [],
   "source": []
  },
  {
   "cell_type": "code",
   "execution_count": null,
   "id": "0c021480",
   "metadata": {},
   "outputs": [],
   "source": []
  },
  {
   "cell_type": "code",
   "execution_count": null,
   "id": "315bc2ba",
   "metadata": {},
   "outputs": [],
   "source": []
  },
  {
   "cell_type": "code",
   "execution_count": null,
   "id": "d6d802a5",
   "metadata": {},
   "outputs": [],
   "source": []
  },
  {
   "cell_type": "code",
   "execution_count": null,
   "id": "cda7a60e",
   "metadata": {},
   "outputs": [],
   "source": []
  },
  {
   "cell_type": "code",
   "execution_count": null,
   "id": "e4616ea4",
   "metadata": {},
   "outputs": [],
   "source": []
  },
  {
   "cell_type": "code",
   "execution_count": null,
   "id": "79121fe9",
   "metadata": {},
   "outputs": [],
   "source": []
  },
  {
   "cell_type": "code",
   "execution_count": null,
   "id": "49a2c935",
   "metadata": {},
   "outputs": [],
   "source": []
  },
  {
   "cell_type": "code",
   "execution_count": null,
   "id": "1e0d66b3",
   "metadata": {},
   "outputs": [],
   "source": []
  },
  {
   "cell_type": "code",
   "execution_count": null,
   "id": "a99d3987",
   "metadata": {},
   "outputs": [],
   "source": []
  },
  {
   "cell_type": "code",
   "execution_count": null,
   "id": "6505db7c",
   "metadata": {},
   "outputs": [],
   "source": []
  },
  {
   "cell_type": "code",
   "execution_count": null,
   "id": "51a03eab",
   "metadata": {},
   "outputs": [],
   "source": []
  }
 ],
 "metadata": {
  "kernelspec": {
   "display_name": "Python 3 (ipykernel)",
   "language": "python",
   "name": "python3"
  },
  "language_info": {
   "codemirror_mode": {
    "name": "ipython",
    "version": 3
   },
   "file_extension": ".py",
   "mimetype": "text/x-python",
   "name": "python",
   "nbconvert_exporter": "python",
   "pygments_lexer": "ipython3",
   "version": "3.10.9"
  }
 },
 "nbformat": 4,
 "nbformat_minor": 5
}
