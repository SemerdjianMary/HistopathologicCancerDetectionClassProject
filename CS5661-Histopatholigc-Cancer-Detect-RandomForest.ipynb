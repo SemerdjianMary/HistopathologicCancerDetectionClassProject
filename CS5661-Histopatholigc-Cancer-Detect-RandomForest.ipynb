{
 "cells": [
  {
   "cell_type": "code",
   "execution_count": 1,
   "id": "a01b0293",
   "metadata": {},
   "outputs": [
    {
     "name": "stdout",
     "output_type": "stream",
     "text": [
      "Tensorflow version 2.12.0\n"
     ]
    }
   ],
   "source": [
    "# Importing libraries and packages:\n",
    "\n",
    "from sklearn.neural_network import MLPClassifier\n",
    "\n",
    "from sklearn.model_selection import train_test_split\n",
    "from sklearn.model_selection import cross_val_score\n",
    "from sklearn.metrics import accuracy_score\n",
    "from sklearn import metrics\n",
    "import matplotlib.pyplot as plt\n",
    "\n",
    "# Importing required packages and libraries\n",
    "import numpy as np\n",
    "import pandas as pd\n",
    "\n",
    "import tensorflow as tf\n",
    "from tensorflow import keras\n",
    "\n",
    "import math\n",
    "from sklearn.utils import resample\n",
    "\n",
    "from sklearn.tree import DecisionTreeClassifier\n",
    "from sklearn.ensemble import AdaBoostClassifier\n",
    "from xgboost import XGBClassifier\n",
    "from sklearn.ensemble import RandomForestClassifier\n",
    "from sklearn.linear_model import LogisticRegression\n",
    "from sklearn.neighbors import KNeighborsClassifier\n",
    "from sklearn.ensemble import BaggingClassifier\n",
    "from sklearn.ensemble import ExtraTreesClassifier\n",
    "from sklearn.ensemble import GradientBoostingClassifier\n",
    "\n",
    "from xgboost import XGBClassifier\n",
    "\n",
    "from sklearn.decomposition  import  PCA\n",
    "from sklearn import svm\n",
    "\n",
    "from sklearn.preprocessing import scale\n",
    " \n",
    "from sklearn.model_selection  import  GridSearchCV\n",
    "\n",
    "import matplotlib.image as mpimg\n",
    "import random\n",
    "import os,sys\n",
    "from scipy import stats\n",
    " \n",
    "from skimage.color import rgb2gray\n",
    "\n",
    "import re\n",
    "from keras_preprocessing.image import ImageDataGenerator\n",
    "\n",
    "import tifffile as tiff\n",
    "import pandas as pd\n",
    "from PIL import Image\n",
    "\n",
    "import matplotlib.pyplot as plt\n",
    "plt.style.use('default')\n",
    "\n",
    "from glob import glob\n",
    "\n",
    "# Importing libraries and packages:\n",
    "\n",
    "from sklearn.neural_network import MLPClassifier\n",
    "\n",
    "import seaborn as sns\n",
    "from sklearn.naive_bayes import MultinomialNB\n",
    " \n",
    "from sklearn.svm import SVC\n",
    "\n",
    "from sklearn.model_selection import cross_val_score\n",
    " \n",
    "from sklearn.model_selection import train_test_split\n",
    "# from sklearn.metrics import precision_score, recall_score, plot_confusion_matrix, classification_report, accuracy_score, f1_score\n",
    "from sklearn import metrics\n",
    "from sklearn.metrics import roc_curve\n",
    "\n",
    "import warnings\n",
    "warnings.simplefilter(\"ignore\", category=DeprecationWarning)\n",
    "\n",
    "import os\n",
    "import numpy as np\n",
    "from tensorflow.keras.layers import Input, Conv2D, MaxPooling2D, UpSampling2D\n",
    "from tensorflow.keras.models import Model\n",
    "from tensorflow.keras.preprocessing.image import load_img, img_to_array\n",
    "\n",
    "print(f'Tensorflow version {tf.__version__}')\n",
    "\n",
    "from keras.models import Sequential\n",
    "from keras.layers import Dense, Dropout, Activation, Flatten\n",
    "from  keras.wrappers.scikit_learn  import  KerasClassifier\n",
    "from  sklearn.model_selection  import  GridSearchCV\n",
    "from keras.utils import np_utils\n",
    "from PIL import Image\n",
    " \n",
    "import time\n",
    "\n",
    "import logging\n",
    "logging.getLogger(\"tensorflow\").setLevel((logging.WARNING))"
   ]
  },
  {
   "cell_type": "code",
   "execution_count": 2,
   "id": "6bad2107",
   "metadata": {},
   "outputs": [
    {
     "data": {
      "text/plain": [
       "0        1\n",
       "1        1\n",
       "2        1\n",
       "3        0\n",
       "4        1\n",
       "        ..\n",
       "19995    1\n",
       "19996    1\n",
       "19997    0\n",
       "19998    0\n",
       "19999    1\n",
       "Name: label, Length: 20000, dtype: int64"
      ]
     },
     "execution_count": 2,
     "metadata": {},
     "output_type": "execute_result"
    }
   ],
   "source": [
    "# Set the path to the directory containing the tif images\n",
    "img_dir = (\"C:\\\\Users\\\\mseme\\\\OneDrive\\\\Documents\\\\CS5661 Topics in Adv Data Science\\\\FinalProject_Histopathologic_Cancer_Detection\\\\Files\\\\Image\")\n",
    "\n",
    "# Set the path to the CSV file containing the id-label mapping\n",
    "# result = pd.read_csv(\"C:/Users/mseme\\OneDrive\\Documents\\CS5661 Topics in Adv Data Science\\FinalProject_Histopathologic_Cancer_Detection\\Files\\BalancedDataCompressedAutoEncoderPlusPCA.csv\", index_col=0) \n",
    "result = pd.read_csv('BalancedDataCompressedAutoEncoderPlusPCA.csv', index_col=0)\n",
    "\n",
    "label = result['label']\n",
    "\n",
    "label\n",
    "# Load the id-label mapping file into a DataFrame\n",
    "# id_df = pd.read_csv(id_file,index_col=0)\n",
    "\n",
    "# id_df\n",
    "# id_file\n",
    "\n",
    "# id_file['label'].value_counts()"
   ]
  },
  {
   "cell_type": "markdown",
   "id": "35b52eab",
   "metadata": {},
   "source": [
    "\n",
    "## Train Test Split\n"
   ]
  },
  {
   "cell_type": "code",
   "execution_count": 3,
   "id": "9ba1b9b3",
   "metadata": {},
   "outputs": [
    {
     "name": "stdout",
     "output_type": "stream",
     "text": [
      "Start Time:- 2023-04-09 14:09:52.196360\n",
      "\n",
      "\n",
      "(18000, 2115)\n",
      "(18000,)\n",
      "(2000, 2115)\n",
      "(2000,)\n",
      "End Time:- 0:00:00.245249\n"
     ]
    }
   ],
   "source": [
    "import time\n",
    "\n",
    "import datetime\n",
    "\n",
    "# start the time\n",
    "start_time = datetime.datetime.now() \n",
    "print(\"Start Time:-\", start_time) \n",
    "\n",
    "print('\\n')\n",
    "\n",
    "# splitting the dataset randomly with 10% being the testing set\n",
    "X_train, X_test, y_train, y_test = train_test_split((result[result.columns[2:]]), label, test_size=0.1, random_state=42)\n",
    "\n",
    "\n",
    "# print the size of the traning set:\n",
    "print(X_train.shape)\n",
    "print(y_train.shape)\n",
    "\n",
    "# print the size of the testing set:\n",
    "print(X_test.shape)\n",
    "print(y_test.shape)\n",
    "\n",
    "print(\"End Time:-\", (datetime.datetime.now() - start_time))"
   ]
  },
  {
   "cell_type": "markdown",
   "id": "15198244",
   "metadata": {},
   "source": [
    "## Random Forest"
   ]
  },
  {
   "cell_type": "code",
   "execution_count": 4,
   "id": "b2e9075f",
   "metadata": {},
   "outputs": [
    {
     "name": "stdout",
     "output_type": "stream",
     "text": [
      "Start Time:- 2023-04-09 14:09:52.461806\n",
      "\n",
      "\n",
      "Accuracy Score: 0.769\n",
      "End Time:- 0:01:13.422424\n"
     ]
    }
   ],
   "source": [
    "start_time = datetime.datetime.now() \n",
    "print(\"Start Time:-\", start_time) \n",
    "\n",
    "print('\\n')\n",
    "\n",
    "my_RandomForest = RandomForestClassifier(n_estimators = 45, bootstrap = True, random_state=22)\n",
    "\n",
    "# fitting/training dataset\n",
    "my_RandomForest.fit(X_train, y_train)\n",
    "\n",
    "# predicting labels\n",
    "y_randomForestPredict = my_RandomForest.predict(X_test)\n",
    "\n",
    "# calculating accuracy\n",
    "score = accuracy_score(y_test, y_randomForestPredict)\n",
    "print(\"Accuracy Score: \" + str(score))\n",
    "\n",
    "# estimating probability \n",
    "y_predict_prob = my_RandomForest.predict_proba(X_test)\n",
    "\n",
    "print(\"End Time:-\", (datetime.datetime.now() - start_time))\n",
    "\n"
   ]
  },
  {
   "cell_type": "code",
   "execution_count": 5,
   "id": "4c840dbe",
   "metadata": {},
   "outputs": [
    {
     "name": "stdout",
     "output_type": "stream",
     "text": [
      "[0.         0.         0.         0.         0.         0.\n",
      " 0.         0.         0.00101729 0.00406918 0.00508647 0.00915565\n",
      " 0.01322482 0.0162767  0.02238047 0.03560529 0.04781282 0.06612411\n",
      " 0.08240081 0.10478128 0.14242116 0.19125127 0.23092574 0.28992879\n",
      " 0.35401831 0.44354018 0.52797558 0.60122075 0.66632757 0.72634791\n",
      " 0.77416073 0.81688708 0.85350966 0.87487284 0.89623601 0.91861648\n",
      " 0.92980671 0.94404883 0.95320448 0.96439471 0.96948118 0.98168871\n",
      " 0.98575788 0.99186165 1.        ]\n",
      "\n",
      "\n",
      "\n",
      "[0.         0.00294985 0.00983284 0.0245821  0.04228122 0.06588004\n",
      " 0.09144543 0.12389381 0.1553589  0.1986234  0.23500492 0.26745329\n",
      " 0.31366765 0.36873156 0.41199607 0.47000983 0.52114061 0.55653884\n",
      " 0.6027532  0.64896755 0.68829892 0.73058014 0.77482793 0.81120944\n",
      " 0.84562439 0.87315634 0.89282203 0.91543756 0.9380531  0.96460177\n",
      " 0.97148476 0.98525074 0.99115044 0.99410029 0.99410029 0.99508358\n",
      " 0.99803343 0.99901672 0.99901672 0.99901672 1.         1.\n",
      " 1.         1.         1.        ]\n",
      "\n",
      "\n",
      "\n"
     ]
    }
   ],
   "source": [
    "# calculating false and true positive rate \n",
    "fpr_rforest, tpr_rforest, thresholds = metrics.roc_curve(y_test, y_predict_prob[:,1], pos_label=1)\n",
    "\n",
    "print(fpr_rforest)\n",
    "print(\"\\n\\n\")\n",
    "print(tpr_rforest)\n",
    "print(\"\\n\\n\")\n"
   ]
  },
  {
   "cell_type": "code",
   "execution_count": 6,
   "id": "1fe5d62a",
   "metadata": {},
   "outputs": [
    {
     "name": "stdout",
     "output_type": "stream",
     "text": [
      "AUC: 0.8467081986694155\n"
     ]
    }
   ],
   "source": [
    "# AUC\n",
    "AUC_rforest = metrics.auc(fpr_rforest, tpr_rforest)\n",
    "print(\"AUC: \" + str(AUC_rforest))"
   ]
  },
  {
   "cell_type": "code",
   "execution_count": 7,
   "id": "1f0fb755",
   "metadata": {},
   "outputs": [
    {
     "data": {
      "image/png": "[encoded data removed]",
      "text/plain": [
       "<Figure size 800x800 with 1 Axes>"
      ]
     },
     "metadata": {},
     "output_type": "display_data"
    }
   ],
   "source": [
    "\n",
    "\n",
    "%matplotlib inline\n",
    "\n",
    "plt.figure(figsize=(8,8))\n",
    "# plt.figure()\n",
    "\n",
    "\n",
    "# Roc Curve:\n",
    "plt.plot(fpr_rforest, tpr_rforest, color='green', lw=2, label='ROC Curve Random Forest (area = %0.2f)' % AUC_rforest)\n",
    " \n",
    "# Random Guess line:\n",
    "plt.plot([0, 1], [0, 1], color='blue', lw=1, linestyle='--')\n",
    "\n",
    "# Defining The Range of X-Axis and Y-Axis:\n",
    "plt.xlim([-0.005, 1.005])\n",
    "plt.ylim([0.0, 1.01])\n",
    "\n",
    "# Labels, Title, Legend:\n",
    "plt.xlabel('False Positive Rate')\n",
    "plt.ylabel('True Positive Rate')\n",
    "plt.title('Receiver operating characteristic')\n",
    "plt.legend(loc=\"lower right\")\n",
    "\n",
    "plt.show()\n",
    "\n"
   ]
  },
  {
   "cell_type": "code",
   "execution_count": null,
   "id": "89147ad2",
   "metadata": {},
   "outputs": [],
   "source": []
  },
  {
   "cell_type": "code",
   "execution_count": null,
   "id": "47769a46",
   "metadata": {},
   "outputs": [],
   "source": []
  },
  {
   "cell_type": "code",
   "execution_count": null,
   "id": "5ccd6dda",
   "metadata": {},
   "outputs": [],
   "source": []
  },
  {
   "cell_type": "code",
   "execution_count": null,
   "id": "0ca7efa3",
   "metadata": {},
   "outputs": [],
   "source": []
  },
  {
   "cell_type": "markdown",
   "id": "8e927ba3",
   "metadata": {},
   "source": [
    "## Confusion Matrix\n"
   ]
  },
  {
   "cell_type": "code",
   "execution_count": 8,
   "id": "f3839182",
   "metadata": {},
   "outputs": [],
   "source": [
    "import matplotlib.pyplot as plt\n",
    "from sklearn.datasets import make_classification\n",
    "from sklearn.metrics import confusion_matrix, ConfusionMatrixDisplay\n",
    "from sklearn.model_selection import train_test_split\n",
    "from sklearn.svm import SVC\n",
    "from sklearn.preprocessing import StandardScaler\n",
    "from sklearn.pipeline import make_pipeline\n",
    "from sklearn.linear_model import LogisticRegression\n",
    "from sklearn.model_selection import train_test_split\n",
    " "
   ]
  },
  {
   "cell_type": "code",
   "execution_count": 9,
   "id": "f473a3ce",
   "metadata": {},
   "outputs": [],
   "source": [
    "cm_RandomForest = confusion_matrix(y_test,y_randomForestPredict)"
   ]
  },
  {
   "cell_type": "code",
   "execution_count": 10,
   "id": "1fe3a6fa",
   "metadata": {},
   "outputs": [
    {
     "data": {
      "image/png": "[encoded data removed]",
      "text/plain": [
       "<Figure size 640x480 with 2 Axes>"
      ]
     },
     "metadata": {},
     "output_type": "display_data"
    }
   ],
   "source": [
    "\n",
    "\n",
    "#Plot the confusion matrix.\n",
    "sns.heatmap(cm_RandomForest, annot=True, fmt='g', cmap=\"crest\", xticklabels=['metastasis', 'non-metastasis'], yticklabels=['metastasis', 'non-metastasis'])\n",
    "plt.ylabel('Predicted Label',fontsize=15)\n",
    "plt.xlabel('Actual Label',fontsize=15)\n",
    "plt.title('Confusion Matrix for Random Forest',fontsize=20)\n",
    "plt.show()\n",
    "\n"
   ]
  },
  {
   "cell_type": "code",
   "execution_count": 11,
   "id": "85c17dc2",
   "metadata": {},
   "outputs": [
    {
     "name": "stdout",
     "output_type": "stream",
     "text": [
      "Accuracy for Ada Boost:  0.769\n",
      "Precision for Ada Boost:  0.7980665950590763\n",
      "Recall for Ada Boost:  0.7305801376597837\n",
      "F1-score for Ada Boost:  0.7628336755646818\n"
     ]
    }
   ],
   "source": [
    "\n",
    "\n",
    "# Finding precision and recall\n",
    "#Import the necessary libraries\n",
    "from sklearn.model_selection import train_test_split\n",
    "from sklearn.tree import DecisionTreeClassifier\n",
    "from sklearn.metrics import confusion_matrix\n",
    "import seaborn as sns\n",
    "import matplotlib.pyplot as plt\n",
    "from sklearn.metrics import accuracy_score, precision_score, recall_score, f1_score\n",
    "\n",
    "accuracy = accuracy_score(y_test, y_randomForestPredict)\n",
    "print(\"Accuracy for Ada Boost: \", accuracy)\n",
    "precision = precision_score(y_test, y_randomForestPredict)\n",
    "print(\"Precision for Ada Boost: \", precision)\n",
    "recall = recall_score(y_test, y_randomForestPredict)\n",
    "print(\"Recall for Ada Boost: \", recall)\n",
    "F1_score = f1_score(y_test, y_randomForestPredict)\n",
    "print(\"F1-score for Ada Boost: \", F1_score)\n",
    "\n"
   ]
  },
  {
   "cell_type": "code",
   "execution_count": null,
   "id": "563404a2",
   "metadata": {},
   "outputs": [],
   "source": []
  },
  {
   "cell_type": "code",
   "execution_count": null,
   "id": "030a597b",
   "metadata": {},
   "outputs": [],
   "source": []
  },
  {
   "cell_type": "code",
   "execution_count": null,
   "id": "43a4d64d",
   "metadata": {},
   "outputs": [],
   "source": []
  },
  {
   "cell_type": "code",
   "execution_count": null,
   "id": "8b09e666",
   "metadata": {},
   "outputs": [],
   "source": []
  },
  {
   "cell_type": "code",
   "execution_count": null,
   "id": "64baca19",
   "metadata": {},
   "outputs": [],
   "source": []
  },
  {
   "cell_type": "code",
   "execution_count": null,
   "id": "fb075523",
   "metadata": {},
   "outputs": [],
   "source": []
  },
  {
   "cell_type": "code",
   "execution_count": null,
   "id": "656a75e6",
   "metadata": {},
   "outputs": [],
   "source": []
  },
  {
   "cell_type": "code",
   "execution_count": null,
   "id": "c26aae39",
   "metadata": {},
   "outputs": [],
   "source": []
  },
  {
   "cell_type": "code",
   "execution_count": null,
   "id": "14e937f2",
   "metadata": {},
   "outputs": [],
   "source": []
  },
  {
   "cell_type": "code",
   "execution_count": null,
   "id": "d8e13280",
   "metadata": {},
   "outputs": [],
   "source": []
  }
 ],
 "metadata": {
  "kernelspec": {
   "display_name": "Python 3 (ipykernel)",
   "language": "python",
   "name": "python3"
  },
  "language_info": {
   "codemirror_mode": {
    "name": "ipython",
    "version": 3
   },
   "file_extension": ".py",
   "mimetype": "text/x-python",
   "name": "python",
   "nbconvert_exporter": "python",
   "pygments_lexer": "ipython3",
   "version": "3.10.9"
  }
 },
 "nbformat": 4,
 "nbformat_minor": 5
}
