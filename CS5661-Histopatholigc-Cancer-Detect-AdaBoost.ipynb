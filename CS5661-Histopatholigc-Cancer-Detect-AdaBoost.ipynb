{
 "cells": [
  {
   "cell_type": "code",
   "execution_count": 1,
   "id": "a01b0293",
   "metadata": {},
   "outputs": [
    {
     "name": "stdout",
     "output_type": "stream",
     "text": [
      "Tensorflow version 2.12.0\n"
     ]
    }
   ],
   "source": [
    "# Importing libraries and packages:\n",
    "\n",
    "from sklearn.neural_network import MLPClassifier\n",
    "\n",
    "from sklearn.model_selection import train_test_split\n",
    "from sklearn.model_selection import cross_val_score\n",
    "from sklearn.metrics import accuracy_score\n",
    "from sklearn import metrics\n",
    "import matplotlib.pyplot as plt\n",
    "\n",
    "# Importing required packages and libraries\n",
    "import numpy as np\n",
    "import pandas as pd\n",
    "\n",
    "import tensorflow as tf\n",
    "from tensorflow import keras\n",
    "\n",
    "import math\n",
    "from sklearn.utils import resample\n",
    "\n",
    "from sklearn.tree import DecisionTreeClassifier\n",
    "from sklearn.ensemble import AdaBoostClassifier\n",
    "from xgboost import XGBClassifier\n",
    "from sklearn.ensemble import RandomForestClassifier\n",
    "from sklearn.linear_model import LogisticRegression\n",
    "from sklearn.neighbors import KNeighborsClassifier\n",
    "from sklearn.ensemble import BaggingClassifier\n",
    "from sklearn.ensemble import ExtraTreesClassifier\n",
    "from sklearn.ensemble import GradientBoostingClassifier\n",
    "\n",
    "from sklearn.decomposition  import  PCA\n",
    "from sklearn import svm\n",
    "\n",
    "from sklearn.preprocessing import scale\n",
    " \n",
    "from sklearn.model_selection  import  GridSearchCV\n",
    "\n",
    "import matplotlib.image as mpimg\n",
    "import random\n",
    "import os,sys\n",
    "from scipy import stats\n",
    " \n",
    "from skimage.color import rgb2gray\n",
    "\n",
    "import re\n",
    "from keras_preprocessing.image import ImageDataGenerator\n",
    "\n",
    "import tifffile as tiff\n",
    "import pandas as pd\n",
    "from PIL import Image\n",
    "\n",
    "import matplotlib.pyplot as plt\n",
    "plt.style.use('default')\n",
    "\n",
    "from glob import glob\n",
    "\n",
    "# Importing libraries and packages:\n",
    "\n",
    "from sklearn.neural_network import MLPClassifier\n",
    "\n",
    "import seaborn as sns\n",
    "from sklearn.naive_bayes import MultinomialNB\n",
    " \n",
    "from sklearn.svm import SVC\n",
    "\n",
    "from sklearn.model_selection import cross_val_score\n",
    " \n",
    "from sklearn.model_selection import train_test_split\n",
    "# from sklearn.metrics import precision_score, recall_score, plot_confusion_matrix, classification_report, accuracy_score, f1_score\n",
    "from sklearn import metrics\n",
    "from sklearn.metrics import roc_curve\n",
    "\n",
    "import warnings\n",
    "warnings.simplefilter(\"ignore\", category=DeprecationWarning)\n",
    "\n",
    "import os\n",
    "import numpy as np\n",
    "from tensorflow.keras.layers import Input, Conv2D, MaxPooling2D, UpSampling2D\n",
    "from tensorflow.keras.models import Model\n",
    "from tensorflow.keras.preprocessing.image import load_img, img_to_array\n",
    "\n",
    "print(f'Tensorflow version {tf.__version__}')\n",
    "\n",
    "from keras.models import Sequential\n",
    "from keras.layers import Dense, Dropout, Activation, Flatten\n",
    "from  keras.wrappers.scikit_learn  import  KerasClassifier\n",
    "from  sklearn.model_selection  import  GridSearchCV\n",
    "from keras.utils import np_utils\n",
    "from PIL import Image\n",
    " \n",
    "import time\n",
    "\n",
    "import logging\n",
    "logging.getLogger(\"tensorflow\").setLevel((logging.WARNING))"
   ]
  },
  {
   "cell_type": "code",
   "execution_count": 2,
   "id": "6bad2107",
   "metadata": {},
   "outputs": [
    {
     "data": {
      "text/plain": [
       "0        1\n",
       "1        1\n",
       "2        1\n",
       "3        0\n",
       "4        1\n",
       "        ..\n",
       "19995    1\n",
       "19996    1\n",
       "19997    0\n",
       "19998    0\n",
       "19999    1\n",
       "Name: label, Length: 20000, dtype: int64"
      ]
     },
     "execution_count": 2,
     "metadata": {},
     "output_type": "execute_result"
    }
   ],
   "source": [
    "# Set the path to the directory containing the tif images\n",
    "img_dir = (\"C:\\\\Users\\\\mseme\\\\OneDrive\\\\Documents\\\\CS5661 Topics in Adv Data Science\\\\FinalProject_Histopathologic_Cancer_Detection\\\\Files\\\\Image\")\n",
    "\n",
    "# Set the path to the CSV file containing the id-label mapping\n",
    "# result = pd.read_csv(\"C:/Users/mseme\\OneDrive\\Documents\\CS5661 Topics in Adv Data Science\\FinalProject_Histopathologic_Cancer_Detection\\Files\\BalancedDataCompressedAutoEncoderPlusPCA.csv\", index_col=0) \n",
    "result = pd.read_csv('BalancedDataCompressedAutoEncoderPlusPCA.csv', index_col=0)\n",
    "\n",
    "label = result['label']\n",
    "\n",
    "label\n",
    "# Load the id-label mapping file into a DataFrame\n",
    "# id_df = pd.read_csv(id_file,index_col=0)\n",
    "\n",
    "# id_df\n",
    "# id_file\n",
    "\n",
    "# id_file['label'].value_counts()"
   ]
  },
  {
   "cell_type": "markdown",
   "id": "35b52eab",
   "metadata": {},
   "source": [
    "\n",
    "## Train Test Split\n"
   ]
  },
  {
   "cell_type": "code",
   "execution_count": 3,
   "id": "9ba1b9b3",
   "metadata": {},
   "outputs": [
    {
     "name": "stdout",
     "output_type": "stream",
     "text": [
      "Start Time:- 2023-04-10 19:21:59.977209\n",
      "\n",
      "\n",
      "(18000, 2115)\n",
      "(18000,)\n",
      "(2000, 2115)\n",
      "(2000,)\n",
      "End Time:- 0:00:00.334845\n"
     ]
    }
   ],
   "source": [
    "import time\n",
    "\n",
    "import datetime\n",
    "\n",
    "# start the time\n",
    "start_time = datetime.datetime.now() \n",
    "print(\"Start Time:-\", start_time) \n",
    "\n",
    "print('\\n')\n",
    "\n",
    "# splitting the dataset randomly with 10% being the testing set\n",
    "X_train, X_test, y_train, y_test = train_test_split((result[result.columns[2:]]), label, test_size=0.1, random_state=42)\n",
    "\n",
    "\n",
    "# print the size of the traning set:\n",
    "print(X_train.shape)\n",
    "print(y_train.shape)\n",
    "\n",
    "# print the size of the testing set:\n",
    "print(X_test.shape)\n",
    "print(y_test.shape)\n",
    "\n",
    "print(\"End Time:-\", (datetime.datetime.now() - start_time))"
   ]
  },
  {
   "cell_type": "markdown",
   "id": "15198244",
   "metadata": {},
   "source": [
    "## AdaBoost"
   ]
  },
  {
   "cell_type": "code",
   "execution_count": 4,
   "id": "b2e9075f",
   "metadata": {},
   "outputs": [
    {
     "name": "stdout",
     "output_type": "stream",
     "text": [
      "Start Time:- 2023-04-10 19:22:00.322329\n",
      "\n",
      "\n",
      "Accuracy Score: 0.798\n",
      "End Time:- 0:06:03.066197\n"
     ]
    }
   ],
   "source": [
    "start_time = datetime.datetime.now() \n",
    "print(\"Start Time:-\", start_time) \n",
    "\n",
    "print('\\n')\n",
    "\n",
    "my_AdaBoost = AdaBoostClassifier(n_estimators = 50, random_state=0, learning_rate =0.15)\n",
    "\n",
    "# fitting/training dataset\n",
    "my_AdaBoost.fit(X_train, y_train)\n",
    "\n",
    "# predicting labels\n",
    "y_adaBoostPredict = my_AdaBoost.predict(X_test)\n",
    "\n",
    "# calculating accuracy\n",
    "score = accuracy_score(y_test, y_adaBoostPredict)\n",
    "print(\"Accuracy Score: \" + str(score))\n",
    "\n",
    "# estimating probability \n",
    "y_predict_prob = my_AdaBoost.predict_proba(X_test)\n",
    "\n",
    "\n",
    "print(\"End Time:-\", (datetime.datetime.now() - start_time))\n",
    "\n"
   ]
  },
  {
   "cell_type": "code",
   "execution_count": 5,
   "id": "4c840dbe",
   "metadata": {},
   "outputs": [
    {
     "name": "stdout",
     "output_type": "stream",
     "text": [
      "[0.         0.         0.         0.         0.         0.00101729\n",
      " 0.00101729 0.00101729 0.00101729 0.00203459 0.00203459 0.00203459\n",
      " 0.00203459 0.00305188 0.00406918 0.00406918 0.00406918 0.00406918\n",
      " 0.00406918 0.00610376 0.00610376 0.00610376 0.00610376 0.00610376\n",
      " 0.00712106 0.00712106 0.00712106 0.00813835 0.01017294 0.01017294\n",
      " 0.01322482 0.01322482 0.01322482 0.01525941 0.01525941 0.01525941\n",
      " 0.01932859 0.02034588 0.02034588 0.02034588 0.02238047 0.02339776\n",
      " 0.02543235 0.02543235 0.02543235 0.02543235 0.02644964 0.02848423\n",
      " 0.03051882 0.03051882 0.03153611 0.03153611 0.03153611 0.034588\n",
      " 0.03560529 0.03560529 0.03763988 0.04069176 0.04170905 0.04170905\n",
      " 0.04170905 0.04272635 0.04374364 0.04476094 0.04577823 0.04781282\n",
      " 0.05188199 0.05289929 0.05289929 0.05391658 0.05391658 0.05391658\n",
      " 0.05595117 0.05595117 0.05595117 0.05696846 0.05798576 0.05798576\n",
      " 0.05900305 0.05900305 0.06002035 0.06002035 0.06002035 0.06002035\n",
      " 0.06002035 0.06307223 0.06307223 0.06408952 0.06408952 0.06510682\n",
      " 0.06510682 0.06612411 0.06612411 0.06612411 0.0671414  0.06917599\n",
      " 0.06917599 0.06917599 0.07019329 0.09359105 0.09359105 0.09664293\n",
      " 0.09867752 0.09867752 0.1180061  0.1180061  0.1180061  0.12004069\n",
      " 0.12207528 0.12207528 0.12207528 0.12309257 0.12309257 0.13123093\n",
      " 0.13123093 0.13936928 0.14038657 0.14343845 0.14445575 0.14547304\n",
      " 0.14750763 0.14750763 0.14954222 0.14954222 0.15055951 0.15157681\n",
      " 0.1525941  0.15462869 0.15462869 0.16174975 0.16174975 0.16378433\n",
      " 0.16480163 0.16480163 0.16480163 0.16581892 0.16785351 0.21261445\n",
      " 0.21261445 0.21464903 0.21668362 0.21770092 0.2207528  0.2207528\n",
      " 0.22278739 0.22583927 0.22787386 0.22889115 0.23601221 0.2380468\n",
      " 0.23906409 0.23906409 0.24109868 0.24109868 0.24313327 0.24313327\n",
      " 0.24415056 0.24516785 0.24516785 0.24618515 0.24720244 0.24923703\n",
      " 0.25228891 0.25330621 0.25635809 0.25839268 0.26246185 0.26449644\n",
      " 0.26653103 0.26653103 0.26754832 0.26856562 0.26856562 0.26958291\n",
      " 0.26958291 0.27873856 0.27975585 0.28382503 0.28585961 0.28585961\n",
      " 0.28992879 0.28992879 0.29399797 0.29704985 0.29806714 0.30010173\n",
      " 0.30010173 0.30111902 0.30111902 0.30213632 0.31027467 0.31332655\n",
      " 0.31536114 0.31637843 0.31739573 0.36012208 0.36113937 0.36113937\n",
      " 0.36520855 0.36520855 0.36622584 0.36622584 0.36724313 0.36724313\n",
      " 0.36927772 0.37029502 0.3733469  0.37945066 0.37945066 0.38046796\n",
      " 0.38046796 0.38148525 0.3896236  0.39165819 0.39572737 0.39572737\n",
      " 0.39674466 0.39776195 0.39979654 0.40183113 0.40386572 0.40386572\n",
      " 0.4069176  0.40895219 0.40895219 0.40996948 0.42828077 0.43031536\n",
      " 0.43133266 0.43438454 0.43540183 0.45676501 0.4577823  0.4577823\n",
      " 0.45879959 0.46286877 0.46388606 0.46592065 0.46795524 0.46897253\n",
      " 0.46897253 0.47100712 0.48626653 0.48830112 0.48830112 0.51780264\n",
      " 0.51983723 0.53102747 0.53306205 0.53916582 0.54018311 0.54323499\n",
      " 0.54425229 0.6276704  0.62970498 0.63173957 0.63479145 0.63886063\n",
      " 0.64089522 0.6612411  0.66429298 0.66531027 0.66734486 0.66836216\n",
      " 0.68158698 0.68667345 0.68769074 0.69074262 0.69582909 0.69786368\n",
      " 0.69989827 0.7110885  0.71312309 0.71515768 0.71922686 0.72329603\n",
      " 0.7283825  0.73346897 0.73855544 0.79857579 0.80061038 0.80162767\n",
      " 0.80162767 0.80264496 0.80467955 0.82095626 0.85656155 0.85757884\n",
      " 0.85757884 0.85961343 0.86063072 0.86063072 0.86266531 0.86571719\n",
      " 0.86673449 0.8809766  0.88708037 0.89114954 0.89521872 0.89725331\n",
      " 0.8982706  0.89928789 0.90640895 0.90742625 0.90742625 0.91149542\n",
      " 0.92065107 0.92166836 0.92777213 0.9328586  0.96236012 0.97049847\n",
      " 0.97355036 0.97761953 0.98067141 0.98168871 0.98880977 0.98982706\n",
      " 0.99186165 0.99389624 0.99389624 0.99898271 0.99898271 1.        ]\n",
      "\n",
      "\n",
      "\n",
      "[0.00000000e+00 9.83284169e-04 4.91642085e-03 5.89970501e-03\n",
      " 8.84955752e-03 6.88298918e-02 7.07964602e-02 8.16125860e-02\n",
      " 9.43952802e-02 9.43952802e-02 9.63618486e-02 1.02261554e-01\n",
      " 1.06194690e-01 1.06194690e-01 1.21927237e-01 1.22910521e-01\n",
      " 1.34709931e-01 1.41592920e-01 1.43559489e-01 1.57325467e-01\n",
      " 1.59292035e-01 1.63225172e-01 1.68141593e-01 1.71091445e-01\n",
      " 1.99606686e-01 2.02556539e-01 2.04523107e-01 2.05506391e-01\n",
      " 2.05506391e-01 2.08456244e-01 2.47787611e-01 2.50737463e-01\n",
      " 2.53687316e-01 3.19567355e-01 3.25467060e-01 3.27433628e-01\n",
      " 3.61848574e-01 3.61848574e-01 3.62831858e-01 3.67748279e-01\n",
      " 3.74631268e-01 3.75614553e-01 3.76597837e-01 3.85447394e-01\n",
      " 3.86430678e-01 3.89380531e-01 3.89380531e-01 3.89380531e-01\n",
      " 3.95280236e-01 3.96263520e-01 3.96263520e-01 3.97246804e-01\n",
      " 3.99213373e-01 4.28711898e-01 4.28711898e-01 4.34611603e-01\n",
      " 4.56243854e-01 4.68043265e-01 4.69026549e-01 4.74926254e-01\n",
      " 4.75909538e-01 4.76892822e-01 4.76892822e-01 4.80825959e-01\n",
      " 4.81809243e-01 5.15240905e-01 5.21140610e-01 5.22123894e-01\n",
      " 5.24090462e-01 5.24090462e-01 5.29006883e-01 5.29990167e-01\n",
      " 5.31956735e-01 5.34906588e-01 5.35889872e-01 5.35889872e-01\n",
      " 5.36873156e-01 5.38839725e-01 5.38839725e-01 5.51622419e-01\n",
      " 5.51622419e-01 5.52605703e-01 5.54572271e-01 5.57522124e-01\n",
      " 5.62438545e-01 5.69321534e-01 5.70304818e-01 5.70304818e-01\n",
      " 5.71288102e-01 5.71288102e-01 5.74237955e-01 5.74237955e-01\n",
      " 5.75221239e-01 5.78171091e-01 5.78171091e-01 6.02753196e-01\n",
      " 6.06686332e-01 6.10619469e-01 6.11602753e-01 7.00098328e-01\n",
      " 7.02064897e-01 7.02064897e-01 7.02064897e-01 7.05998033e-01\n",
      " 7.28613569e-01 7.32546706e-01 7.35496559e-01 7.41396264e-01\n",
      " 7.41396264e-01 7.43362832e-01 7.44346116e-01 7.44346116e-01\n",
      " 7.46312684e-01 7.49262537e-01 7.50245821e-01 7.60078663e-01\n",
      " 7.61061947e-01 7.61061947e-01 7.63028515e-01 7.63028515e-01\n",
      " 7.64995084e-01 7.66961652e-01 7.66961652e-01 7.67944936e-01\n",
      " 7.67944936e-01 7.69911504e-01 7.69911504e-01 7.72861357e-01\n",
      " 7.73844641e-01 7.73844641e-01 7.74827925e-01 7.77777778e-01\n",
      " 7.77777778e-01 7.78761062e-01 7.80727630e-01 7.80727630e-01\n",
      " 7.82694199e-01 8.12192724e-01 8.13176008e-01 8.13176008e-01\n",
      " 8.13176008e-01 8.13176008e-01 8.13176008e-01 8.18092429e-01\n",
      " 8.18092429e-01 8.18092429e-01 8.18092429e-01 8.18092429e-01\n",
      " 8.22025565e-01 8.22025565e-01 8.23008850e-01 8.24975418e-01\n",
      " 8.28908555e-01 8.29891839e-01 8.29891839e-01 8.30875123e-01\n",
      " 8.30875123e-01 8.33824975e-01 8.35791544e-01 8.35791544e-01\n",
      " 8.36774828e-01 8.36774828e-01 8.39724680e-01 8.39724680e-01\n",
      " 8.45624385e-01 8.45624385e-01 8.47590954e-01 8.47590954e-01\n",
      " 8.47590954e-01 8.49557522e-01 8.49557522e-01 8.50540806e-01\n",
      " 8.51524090e-01 8.51524090e-01 8.52507375e-01 8.59390364e-01\n",
      " 8.59390364e-01 8.59390364e-01 8.59390364e-01 8.60373648e-01\n",
      " 8.61356932e-01 8.62340216e-01 8.62340216e-01 8.62340216e-01\n",
      " 8.63323500e-01 8.63323500e-01 8.65290069e-01 8.65290069e-01\n",
      " 8.66273353e-01 8.67256637e-01 8.68239921e-01 8.68239921e-01\n",
      " 8.68239921e-01 8.71189774e-01 8.71189774e-01 8.79056047e-01\n",
      " 8.80039331e-01 8.82005900e-01 8.82005900e-01 8.82989184e-01\n",
      " 8.82989184e-01 8.84955752e-01 8.84955752e-01 8.85939036e-01\n",
      " 8.85939036e-01 8.85939036e-01 8.85939036e-01 8.85939036e-01\n",
      " 8.87905605e-01 8.87905605e-01 8.88888889e-01 8.88888889e-01\n",
      " 8.90855457e-01 8.90855457e-01 8.90855457e-01 8.91838741e-01\n",
      " 8.91838741e-01 8.92822026e-01 8.92822026e-01 8.92822026e-01\n",
      " 8.93805310e-01 8.94788594e-01 8.94788594e-01 8.95771878e-01\n",
      " 8.96755162e-01 8.96755162e-01 9.04621436e-01 9.04621436e-01\n",
      " 9.04621436e-01 9.04621436e-01 9.04621436e-01 9.08554572e-01\n",
      " 9.08554572e-01 9.10521141e-01 9.10521141e-01 9.11504425e-01\n",
      " 9.11504425e-01 9.15437561e-01 9.20353982e-01 9.20353982e-01\n",
      " 9.21337266e-01 9.22320551e-01 9.22320551e-01 9.22320551e-01\n",
      " 9.24287119e-01 9.27236971e-01 9.27236971e-01 9.30186824e-01\n",
      " 9.30186824e-01 9.32153392e-01 9.32153392e-01 9.33136676e-01\n",
      " 9.33136676e-01 9.36086529e-01 9.36086529e-01 9.36086529e-01\n",
      " 9.36086529e-01 9.39036382e-01 9.39036382e-01 9.41002950e-01\n",
      " 9.41002950e-01 9.41986234e-01 9.41986234e-01 9.41986234e-01\n",
      " 9.47885939e-01 9.47885939e-01 9.47885939e-01 9.50835792e-01\n",
      " 9.50835792e-01 9.50835792e-01 9.51819076e-01 9.53785644e-01\n",
      " 9.53785644e-01 9.53785644e-01 9.53785644e-01 9.53785644e-01\n",
      " 9.53785644e-01 9.56735497e-01 9.57718781e-01 9.61651917e-01\n",
      " 9.61651917e-01 9.61651917e-01 9.62635202e-01 9.62635202e-01\n",
      " 9.62635202e-01 9.64601770e-01 9.72468043e-01 9.72468043e-01\n",
      " 9.74434612e-01 9.74434612e-01 9.75417896e-01 9.76401180e-01\n",
      " 9.76401180e-01 9.77384464e-01 9.77384464e-01 9.78367748e-01\n",
      " 9.78367748e-01 9.78367748e-01 9.79351032e-01 9.79351032e-01\n",
      " 9.80334317e-01 9.80334317e-01 9.80334317e-01 9.81317601e-01\n",
      " 9.82300885e-01 9.85250737e-01 9.86234022e-01 9.86234022e-01\n",
      " 9.88200590e-01 9.88200590e-01 9.92133727e-01 9.96066863e-01\n",
      " 9.96066863e-01 9.96066863e-01 9.96066863e-01 9.97050147e-01\n",
      " 9.97050147e-01 9.98033432e-01 9.98033432e-01 9.98033432e-01\n",
      " 9.99016716e-01 9.99016716e-01 1.00000000e+00 1.00000000e+00]\n",
      "\n",
      "\n",
      "\n"
     ]
    }
   ],
   "source": [
    "# calculating false and true positive rate \n",
    "fpr_ada, tpr_ada, thresholds = metrics.roc_curve(y_test, y_predict_prob[:,1], pos_label=1)\n",
    "\n",
    "print(fpr_ada)\n",
    "print(\"\\n\\n\")\n",
    "print(tpr_ada)\n",
    "print(\"\\n\\n\")\n"
   ]
  },
  {
   "cell_type": "code",
   "execution_count": 6,
   "id": "1fe5d62a",
   "metadata": {},
   "outputs": [
    {
     "name": "stdout",
     "output_type": "stream",
     "text": [
      "AUC: 0.8666154518655891\n"
     ]
    }
   ],
   "source": [
    "# AUC\n",
    "AUC_ada = metrics.auc(fpr_ada, tpr_ada)\n",
    "print(\"AUC: \" + str(AUC_ada))"
   ]
  },
  {
   "cell_type": "code",
   "execution_count": 7,
   "id": "1f0fb755",
   "metadata": {},
   "outputs": [
    {
     "ename": "NameError",
     "evalue": "name 'AUC_xgb' is not defined",
     "output_type": "error",
     "traceback": [
      "\u001b[1;31m---------------------------------------------------------------------------\u001b[0m",
      "\u001b[1;31mNameError\u001b[0m                                 Traceback (most recent call last)",
      "Cell \u001b[1;32mIn[7], line 8\u001b[0m\n\u001b[0;32m      3\u001b[0m plt\u001b[38;5;241m.\u001b[39mfigure(figsize\u001b[38;5;241m=\u001b[39m(\u001b[38;5;241m8\u001b[39m,\u001b[38;5;241m8\u001b[39m))\n\u001b[0;32m      4\u001b[0m \u001b[38;5;66;03m# plt.figure()\u001b[39;00m\n\u001b[0;32m      5\u001b[0m \n\u001b[0;32m      6\u001b[0m \n\u001b[0;32m      7\u001b[0m \u001b[38;5;66;03m# Roc Curve:\u001b[39;00m\n\u001b[1;32m----> 8\u001b[0m plt\u001b[38;5;241m.\u001b[39mplot(fpr_ada, tpr_ada, color\u001b[38;5;241m=\u001b[39m\u001b[38;5;124m'\u001b[39m\u001b[38;5;124mgreen\u001b[39m\u001b[38;5;124m'\u001b[39m, lw\u001b[38;5;241m=\u001b[39m\u001b[38;5;241m2\u001b[39m, label\u001b[38;5;241m=\u001b[39m\u001b[38;5;124m'\u001b[39m\u001b[38;5;124mROC Curve AdaBoost (area = \u001b[39m\u001b[38;5;132;01m%0.2f\u001b[39;00m\u001b[38;5;124m)\u001b[39m\u001b[38;5;124m'\u001b[39m \u001b[38;5;241m%\u001b[39m \u001b[43mAUC_xgb\u001b[49m)\n\u001b[0;32m     10\u001b[0m \u001b[38;5;66;03m# Random Guess line:\u001b[39;00m\n\u001b[0;32m     11\u001b[0m plt\u001b[38;5;241m.\u001b[39mplot([\u001b[38;5;241m0\u001b[39m, \u001b[38;5;241m1\u001b[39m], [\u001b[38;5;241m0\u001b[39m, \u001b[38;5;241m1\u001b[39m], color\u001b[38;5;241m=\u001b[39m\u001b[38;5;124m'\u001b[39m\u001b[38;5;124mblue\u001b[39m\u001b[38;5;124m'\u001b[39m, lw\u001b[38;5;241m=\u001b[39m\u001b[38;5;241m1\u001b[39m, linestyle\u001b[38;5;241m=\u001b[39m\u001b[38;5;124m'\u001b[39m\u001b[38;5;124m--\u001b[39m\u001b[38;5;124m'\u001b[39m)\n",
      "\u001b[1;31mNameError\u001b[0m: name 'AUC_xgb' is not defined"
     ]
    },
    {
     "data": {
      "text/plain": [
       "<Figure size 800x800 with 0 Axes>"
      ]
     },
     "metadata": {},
     "output_type": "display_data"
    }
   ],
   "source": [
    "\n",
    "\n",
    "%matplotlib inline\n",
    "\n",
    "plt.figure(figsize=(8,8))\n",
    "# plt.figure()\n",
    "\n",
    "\n",
    "# Roc Curve:\n",
    "plt.plot(fpr_ada, tpr_ada, color='green', lw=2, label='ROC Curve AdaBoost (area = %0.2f)' % AUC_xgb)\n",
    " \n",
    "# Random Guess line:\n",
    "plt.plot([0, 1], [0, 1], color='blue', lw=1, linestyle='--')\n",
    "\n",
    "# Defining The Range of X-Axis and Y-Axis:\n",
    "plt.xlim([-0.005, 1.005])\n",
    "plt.ylim([0.0, 1.01])\n",
    "\n",
    "# Labels, Title, Legend:\n",
    "plt.xlabel('False Positive Rate')\n",
    "plt.ylabel('True Positive Rate')\n",
    "plt.title('Receiver operating characteristic')\n",
    "plt.legend(loc=\"lower right\")\n",
    "\n",
    "plt.show()\n",
    "\n"
   ]
  },
  {
   "cell_type": "code",
   "execution_count": null,
   "id": "5b3ed72d",
   "metadata": {},
   "outputs": [],
   "source": []
  },
  {
   "cell_type": "code",
   "execution_count": null,
   "id": "5662f563",
   "metadata": {},
   "outputs": [],
   "source": []
  },
  {
   "cell_type": "code",
   "execution_count": null,
   "id": "7ca7120d",
   "metadata": {},
   "outputs": [],
   "source": []
  },
  {
   "cell_type": "code",
   "execution_count": null,
   "id": "dca69b74",
   "metadata": {},
   "outputs": [],
   "source": []
  },
  {
   "cell_type": "markdown",
   "id": "8e927ba3",
   "metadata": {},
   "source": [
    "## Confusion Matrix\n"
   ]
  },
  {
   "cell_type": "code",
   "execution_count": null,
   "id": "f3839182",
   "metadata": {},
   "outputs": [],
   "source": [
    "import matplotlib.pyplot as plt\n",
    "from sklearn.datasets import make_classification\n",
    "from sklearn.metrics import confusion_matrix, ConfusionMatrixDisplay\n",
    "from sklearn.model_selection import train_test_split\n",
    "from sklearn.svm import SVC\n",
    "from sklearn.preprocessing import StandardScaler\n",
    "from sklearn.pipeline import make_pipeline\n",
    "from sklearn.linear_model import LogisticRegression\n",
    "from sklearn.model_selection import train_test_split\n",
    " "
   ]
  },
  {
   "cell_type": "code",
   "execution_count": null,
   "id": "f473a3ce",
   "metadata": {},
   "outputs": [],
   "source": [
    "cm_AdaBoost = confusion_matrix(y_test,y_adaBoostPredict)"
   ]
  },
  {
   "cell_type": "code",
   "execution_count": null,
   "id": "1fe3a6fa",
   "metadata": {},
   "outputs": [],
   "source": [
    "\n",
    "\n",
    "#Plot the confusion matrix.\n",
    "sns.heatmap(cm_AdaBoost, annot=True, fmt='g', cmap=\"crest\", xticklabels=['non-metastasis', 'metastasis'],yticklabels=['non-metastasis', 'metastasis'])\n",
    "plt.ylabel('Actual Label',fontsize=15)\n",
    "plt.xlabel('Predicted Label',fontsize=15)\n",
    "plt.title('Confusion Matrix for AdaBoost',fontsize=20)\n",
    "plt.show()\n",
    "\n"
   ]
  },
  {
   "cell_type": "code",
   "execution_count": null,
   "id": "85c17dc2",
   "metadata": {},
   "outputs": [],
   "source": [
    "\n",
    "\n",
    "# Finding precision and recall\n",
    "#Import the necessary libraries\n",
    "from sklearn.model_selection import train_test_split\n",
    "from sklearn.tree import DecisionTreeClassifier\n",
    "from sklearn.metrics import confusion_matrix\n",
    "import seaborn as sns\n",
    "import matplotlib.pyplot as plt\n",
    "from sklearn.metrics import accuracy_score, precision_score, recall_score, f1_score\n",
    "\n",
    "accuracy = accuracy_score(y_test, y_adaBoostPredict)\n",
    "print(\"Accuracy for Ada Boost: \", accuracy)\n",
    "precision = precision_score(y_test, y_adaBoostPredict)\n",
    "print(\"Precision for Ada Boost: \", precision)\n",
    "recall = recall_score(y_test, y_adaBoostPredict)\n",
    "print(\"Recall for Ada Boost: \", recall)\n",
    "F1_score = f1_score(y_test, y_adaBoostPredict)\n",
    "print(\"F1-score for Ada Boost: \", F1_score)\n",
    "\n"
   ]
  },
  {
   "cell_type": "code",
   "execution_count": null,
   "id": "563404a2",
   "metadata": {},
   "outputs": [],
   "source": []
  },
  {
   "cell_type": "code",
   "execution_count": null,
   "id": "93fd3fd2",
   "metadata": {},
   "outputs": [],
   "source": []
  },
  {
   "cell_type": "code",
   "execution_count": null,
   "id": "c0daa64e",
   "metadata": {},
   "outputs": [],
   "source": []
  },
  {
   "cell_type": "code",
   "execution_count": null,
   "id": "a3ddc4e3",
   "metadata": {},
   "outputs": [],
   "source": []
  },
  {
   "cell_type": "code",
   "execution_count": null,
   "id": "e254922b",
   "metadata": {},
   "outputs": [],
   "source": []
  },
  {
   "cell_type": "code",
   "execution_count": null,
   "id": "0c021480",
   "metadata": {},
   "outputs": [],
   "source": []
  },
  {
   "cell_type": "code",
   "execution_count": null,
   "id": "315bc2ba",
   "metadata": {},
   "outputs": [],
   "source": []
  },
  {
   "cell_type": "code",
   "execution_count": null,
   "id": "d6d802a5",
   "metadata": {},
   "outputs": [],
   "source": []
  },
  {
   "cell_type": "code",
   "execution_count": null,
   "id": "cda7a60e",
   "metadata": {},
   "outputs": [],
   "source": []
  },
  {
   "cell_type": "code",
   "execution_count": null,
   "id": "e4616ea4",
   "metadata": {},
   "outputs": [],
   "source": []
  },
  {
   "cell_type": "code",
   "execution_count": null,
   "id": "79121fe9",
   "metadata": {},
   "outputs": [],
   "source": []
  },
  {
   "cell_type": "code",
   "execution_count": null,
   "id": "49a2c935",
   "metadata": {},
   "outputs": [],
   "source": []
  },
  {
   "cell_type": "code",
   "execution_count": null,
   "id": "1e0d66b3",
   "metadata": {},
   "outputs": [],
   "source": []
  },
  {
   "cell_type": "code",
   "execution_count": null,
   "id": "a99d3987",
   "metadata": {},
   "outputs": [],
   "source": []
  },
  {
   "cell_type": "code",
   "execution_count": null,
   "id": "6505db7c",
   "metadata": {},
   "outputs": [],
   "source": []
  },
  {
   "cell_type": "code",
   "execution_count": null,
   "id": "51a03eab",
   "metadata": {},
   "outputs": [],
   "source": []
  }
 ],
 "metadata": {
  "kernelspec": {
   "display_name": "Python 3 (ipykernel)",
   "language": "python",
   "name": "python3"
  },
  "language_info": {
   "codemirror_mode": {
    "name": "ipython",
    "version": 3
   },
   "file_extension": ".py",
   "mimetype": "text/x-python",
   "name": "python",
   "nbconvert_exporter": "python",
   "pygments_lexer": "ipython3",
   "version": "3.10.9"
  }
 },
 "nbformat": 4,
 "nbformat_minor": 5
}
