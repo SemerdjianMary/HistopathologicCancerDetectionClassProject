{
 "cells": [
  {
   "cell_type": "code",
   "execution_count": 1,
   "id": "a01b0293",
   "metadata": {},
   "outputs": [
    {
     "name": "stdout",
     "output_type": "stream",
     "text": [
      "Tensorflow version 2.12.0\n"
     ]
    }
   ],
   "source": [
    "# Importing libraries and packages:\n",
    "\n",
    "from sklearn.neural_network import MLPClassifier\n",
    "\n",
    "from sklearn.model_selection import train_test_split\n",
    "from sklearn.model_selection import cross_val_score\n",
    "from sklearn.metrics import accuracy_score\n",
    "from sklearn import metrics\n",
    "import matplotlib.pyplot as plt\n",
    "\n",
    "# Importing required packages and libraries\n",
    "import numpy as np\n",
    "import pandas as pd\n",
    "\n",
    "import tensorflow as tf\n",
    "from tensorflow import keras\n",
    "\n",
    "import math\n",
    "from sklearn.utils import resample\n",
    "\n",
    "from sklearn.tree import DecisionTreeClassifier\n",
    "from sklearn.ensemble import AdaBoostClassifier\n",
    "from xgboost import XGBClassifier\n",
    "from sklearn.ensemble import RandomForestClassifier\n",
    "from sklearn.linear_model import LogisticRegression\n",
    "from sklearn.neighbors import KNeighborsClassifier\n",
    "from sklearn.ensemble import BaggingClassifier\n",
    "from sklearn.ensemble import ExtraTreesClassifier\n",
    "from sklearn.ensemble import GradientBoostingClassifier\n",
    "\n",
    "from sklearn.decomposition  import  PCA\n",
    "from sklearn import svm\n",
    "\n",
    "from sklearn.preprocessing import scale\n",
    " \n",
    "from sklearn.model_selection  import  GridSearchCV\n",
    "\n",
    "import matplotlib.image as mpimg\n",
    "import random\n",
    "import os,sys\n",
    "from scipy import stats\n",
    " \n",
    "from skimage.color import rgb2gray\n",
    "\n",
    "import re\n",
    "from keras_preprocessing.image import ImageDataGenerator\n",
    "\n",
    "import tifffile as tiff\n",
    "import pandas as pd\n",
    "from PIL import Image\n",
    "\n",
    "import matplotlib.pyplot as plt\n",
    "plt.style.use('default')\n",
    "\n",
    "from glob import glob\n",
    "\n",
    "# Importing libraries and packages:\n",
    "\n",
    "from sklearn.neural_network import MLPClassifier\n",
    "\n",
    "import seaborn as sns\n",
    "from sklearn.naive_bayes import MultinomialNB\n",
    " \n",
    "from sklearn.svm import SVC\n",
    "\n",
    "from sklearn.model_selection import cross_val_score\n",
    " \n",
    "from sklearn.model_selection import train_test_split\n",
    "# from sklearn.metrics import precision_score, recall_score, plot_confusion_matrix, classification_report, accuracy_score, f1_score\n",
    "from sklearn import metrics\n",
    "from sklearn.metrics import roc_curve\n",
    "\n",
    "import warnings\n",
    "warnings.simplefilter(\"ignore\", category=DeprecationWarning)\n",
    "\n",
    "import os\n",
    "import numpy as np\n",
    "from tensorflow.keras.layers import Input, Conv2D, MaxPooling2D, UpSampling2D\n",
    "from tensorflow.keras.models import Model\n",
    "from tensorflow.keras.preprocessing.image import load_img, img_to_array\n",
    "\n",
    "print(f'Tensorflow version {tf.__version__}')\n",
    "\n",
    "from keras.models import Sequential\n",
    "from keras.layers import Dense, Dropout, Activation, Flatten\n",
    "from  keras.wrappers.scikit_learn  import  KerasClassifier\n",
    "from  sklearn.model_selection  import  GridSearchCV\n",
    "from keras.utils import np_utils\n",
    "from PIL import Image\n",
    " \n",
    "import time\n",
    "\n",
    "import logging\n",
    "logging.getLogger(\"tensorflow\").setLevel((logging.WARNING))"
   ]
  },
  {
   "cell_type": "code",
   "execution_count": 2,
   "id": "6bad2107",
   "metadata": {},
   "outputs": [
    {
     "data": {
      "text/plain": [
       "0        1\n",
       "1        1\n",
       "2        1\n",
       "3        0\n",
       "4        1\n",
       "        ..\n",
       "19995    1\n",
       "19996    1\n",
       "19997    0\n",
       "19998    0\n",
       "19999    1\n",
       "Name: label, Length: 20000, dtype: int64"
      ]
     },
     "execution_count": 2,
     "metadata": {},
     "output_type": "execute_result"
    }
   ],
   "source": [
    "# Set the path to the directory containing the tif images\n",
    "img_dir = (\"C:\\\\Users\\\\mseme\\\\OneDrive\\\\Documents\\\\CS5661 Topics in Adv Data Science\\\\FinalProject_Histopathologic_Cancer_Detection\\\\Files\\\\Image\")\n",
    "\n",
    "# Set the path to the CSV file containing the id-label mapping\n",
    "# result = pd.read_csv(\"C:/Users/mseme\\OneDrive\\Documents\\CS5661 Topics in Adv Data Science\\FinalProject_Histopathologic_Cancer_Detection\\Files\\BalancedDataCompressedAutoEncoderPlusPCA.csv\", index_col=0) \n",
    "result = pd.read_csv('BalancedDataCompressedAutoEncoderPlusPCA.csv', index_col=0)\n",
    "\n",
    "label = result['label']\n",
    "\n",
    "label\n",
    "# Load the id-label mapping file into a DataFrame\n",
    "# id_df = pd.read_csv(id_file,index_col=0)\n",
    "\n",
    "# id_df\n",
    "# id_file\n",
    "\n",
    "# id_file['label'].value_counts()"
   ]
  },
  {
   "cell_type": "markdown",
   "id": "35b52eab",
   "metadata": {},
   "source": [
    "\n",
    "## Train Test Split\n"
   ]
  },
  {
   "cell_type": "code",
   "execution_count": 3,
   "id": "9ba1b9b3",
   "metadata": {},
   "outputs": [
    {
     "name": "stdout",
     "output_type": "stream",
     "text": [
      "Start Time:- 2023-04-10 21:59:43.056141\n",
      "\n",
      "\n",
      "(18000, 2115)\n",
      "(18000,)\n",
      "(2000, 2115)\n",
      "(2000,)\n",
      "End Time:- 0:00:02.025910\n"
     ]
    }
   ],
   "source": [
    "import time\n",
    "\n",
    "import datetime\n",
    "\n",
    "# start the time\n",
    "start_time = datetime.datetime.now() \n",
    "print(\"Start Time:-\", start_time) \n",
    "\n",
    "print('\\n')\n",
    "\n",
    "# splitting the dataset randomly with 10% being the testing set\n",
    "X_train, X_test, y_train, y_test = train_test_split((result[result.columns[2:]]), label, test_size=0.1, random_state=42)\n",
    "\n",
    "\n",
    "# print the size of the traning set:\n",
    "print(X_train.shape)\n",
    "print(y_train.shape)\n",
    "\n",
    "# print the size of the testing set:\n",
    "print(X_test.shape)\n",
    "print(y_test.shape)\n",
    "\n",
    "print(\"End Time:-\", (datetime.datetime.now() - start_time))"
   ]
  },
  {
   "cell_type": "markdown",
   "id": "15198244",
   "metadata": {},
   "source": [
    "## AdaBoost"
   ]
  },
  {
   "cell_type": "code",
   "execution_count": 4,
   "id": "b2e9075f",
   "metadata": {},
   "outputs": [
    {
     "name": "stdout",
     "output_type": "stream",
     "text": [
      "Start Time:- 2023-04-10 21:59:45.110367\n",
      "\n",
      "\n",
      "Accuracy Score: 0.794\n",
      "End Time:- 0:03:19.627064\n"
     ]
    }
   ],
   "source": [
    "start_time = datetime.datetime.now() \n",
    "print(\"Start Time:-\", start_time) \n",
    "\n",
    "print('\\n')\n",
    "\n",
    "my_AdaBoost = AdaBoostClassifier(n_estimators = 30, random_state=2, learning_rate =0.15)\n",
    "\n",
    "# fitting/training dataset\n",
    "my_AdaBoost.fit(X_train, y_train)\n",
    "\n",
    "# predicting labels\n",
    "y_adaBoostPredict = my_AdaBoost.predict(X_test)\n",
    "\n",
    "# calculating accuracy\n",
    "score = accuracy_score(y_test, y_adaBoostPredict)\n",
    "print(\"Accuracy Score: \" + str(score))\n",
    "\n",
    "# estimating probability \n",
    "y_predict_prob = my_AdaBoost.predict_proba(X_test)\n",
    "\n",
    "\n",
    "print(\"End Time:-\", (datetime.datetime.now() - start_time))\n",
    "\n"
   ]
  },
  {
   "cell_type": "code",
   "execution_count": 5,
   "id": "4c840dbe",
   "metadata": {},
   "outputs": [
    {
     "name": "stdout",
     "output_type": "stream",
     "text": [
      "[0.         0.         0.         0.         0.00101729 0.00101729\n",
      " 0.00203459 0.00203459 0.00406918 0.00406918 0.00508647 0.00508647\n",
      " 0.00813835 0.00915565 0.00915565 0.01017294 0.01017294 0.01017294\n",
      " 0.01322482 0.01322482 0.01322482 0.01525941 0.01831129 0.02034588\n",
      " 0.03153611 0.03255341 0.03255341 0.034588   0.034588   0.03662258\n",
      " 0.03865717 0.04272635 0.04374364 0.04577823 0.04984741 0.04984741\n",
      " 0.05289929 0.05289929 0.05391658 0.05595117 0.05595117 0.05595117\n",
      " 0.06002035 0.06103764 0.06103764 0.06205493 0.06205493 0.06307223\n",
      " 0.06612411 0.0681587  0.07121058 0.07121058 0.12716175 0.12716175\n",
      " 0.12817904 0.12919634 0.13021363 0.13224822 0.13326551 0.14547304\n",
      " 0.14547304 0.14649034 0.15462869 0.15768057 0.15768057 0.15971516\n",
      " 0.16174975 0.16276704 0.16378433 0.16785351 0.1688708  0.17090539\n",
      " 0.17090539 0.17599186 0.17599186 0.17802645 0.22380468 0.22380468\n",
      " 0.22380468 0.22482197 0.23092574 0.23397762 0.23499491 0.2370295\n",
      " 0.2370295  0.23906409 0.23906409 0.24008138 0.24720244 0.24923703\n",
      " 0.25228891 0.25228891 0.25330621 0.26449644 0.26653103 0.26754832\n",
      " 0.26856562 0.2706002  0.27365209 0.27873856 0.27873856 0.28077314\n",
      " 0.28077314 0.28484232 0.2889115  0.29399797 0.30315361 0.30824008\n",
      " 0.30824008 0.30925738 0.31129196 0.31129196 0.31230926 0.31434385\n",
      " 0.31536114 0.31637843 0.31739573 0.32858596 0.33062055 0.33062055\n",
      " 0.33265514 0.33265514 0.37639878 0.37843337 0.37945066 0.38351984\n",
      " 0.41302136 0.41403866 0.41403866 0.41505595 0.41607325 0.41607325\n",
      " 0.41810783 0.42217701 0.42828077 0.42929807 0.43133266 0.43336724\n",
      " 0.43743642 0.44455748 0.46286877 0.46286877 0.46998983 0.474059\n",
      " 0.474059   0.47609359 0.48016277 0.50457782 0.51373347 0.51678535\n",
      " 0.51780264 0.52899288 0.52899288 0.53611394 0.53713123 0.70295015\n",
      " 0.70498474 0.74262462 0.74465921 0.74669379 0.75178026 0.75483215\n",
      " 0.82807731 0.83214649 0.83418108 0.83825025 0.83926755 0.83926755\n",
      " 0.84028484 0.84435402 0.88606307 0.89013225 0.89521872 0.8982706\n",
      " 0.90742625 0.90946083 0.91047813 0.91047813 0.95625636 0.96032553\n",
      " 0.96134283 0.96337742 0.9664293  0.96744659 0.97761953 0.98575788\n",
      " 0.98880977 0.98982706 0.99084435 0.99186165 0.99389624 0.99491353\n",
      " 0.99593082 0.99796541 0.99898271 0.99898271 1.        ]\n",
      "\n",
      "\n",
      "\n",
      "[0.         0.00196657 0.00393314 0.00491642 0.00884956 0.00983284\n",
      " 0.08751229 0.0993117  0.11406096 0.12192724 0.14060964 0.14355949\n",
      " 0.17600787 0.20747296 0.21042281 0.2114061  0.21435595 0.21533923\n",
      " 0.2546706  0.25860374 0.26647001 0.26745329 0.26843658 0.27630285\n",
      " 0.41297935 0.41297935 0.41396264 0.42084562 0.42182891 0.43362832\n",
      " 0.43362832 0.4719764  0.4719764  0.48377581 0.49852507 0.49950836\n",
      " 0.52114061 0.52409046 0.52507375 0.52507375 0.52704031 0.53097345\n",
      " 0.54768928 0.54768928 0.54867257 0.54965585 0.55162242 0.55162242\n",
      " 0.55162242 0.5526057  0.5840708  0.58505408 0.73254671 0.73647984\n",
      " 0.73647984 0.73844641 0.7394297  0.7394297  0.7394297  0.74827925\n",
      " 0.74926254 0.74926254 0.75909538 0.76499508 0.76597837 0.76597837\n",
      " 0.76597837 0.76892822 0.77089479 0.77286136 0.77286136 0.77384464\n",
      " 0.77482793 0.77974435 0.7826942  0.7826942  0.81219272 0.81317601\n",
      " 0.81514258 0.81514258 0.820059   0.820059   0.820059   0.82399213\n",
      " 0.82497542 0.82497542 0.8259587  0.8259587  0.82989184 0.82989184\n",
      " 0.83185841 0.83382498 0.83382498 0.84955752 0.84955752 0.84955752\n",
      " 0.85054081 0.85054081 0.85054081 0.85349066 0.85447394 0.85447394\n",
      " 0.85545723 0.85545723 0.85644051 0.85840708 0.86529007 0.86529007\n",
      " 0.86823992 0.86922321 0.86922321 0.87020649 0.87118977 0.87118977\n",
      " 0.87610619 0.87708948 0.87708948 0.87905605 0.87905605 0.88003933\n",
      " 0.88003933 0.88102262 0.88888889 0.88888889 0.88987217 0.88987217\n",
      " 0.89183874 0.89183874 0.89282203 0.89380531 0.89380531 0.89478859\n",
      " 0.89478859 0.89478859 0.89478859 0.89577188 0.89577188 0.89577188\n",
      " 0.89675516 0.89675516 0.90462144 0.90560472 0.90757129 0.91150442\n",
      " 0.91248771 0.91248771 0.91347099 0.92232055 0.92330383 0.92330383\n",
      " 0.92330383 0.92625369 0.92822026 0.93215339 0.93215339 0.9439528\n",
      " 0.9439528  0.94788594 0.94886922 0.94886922 0.94886922 0.94886922\n",
      " 0.95870206 0.9626352  0.96361849 0.96361849 0.96361849 0.96460177\n",
      " 0.96460177 0.96460177 0.9754179  0.9754179  0.97640118 0.97935103\n",
      " 0.97935103 0.97935103 0.97935103 0.98033432 0.98820059 0.99115044\n",
      " 0.99115044 0.99213373 0.99213373 0.99213373 0.99705015 0.99705015\n",
      " 0.99705015 0.99705015 0.99803343 0.99803343 0.99803343 0.99803343\n",
      " 0.99901672 0.99901672 0.99901672 1.         1.        ]\n",
      "\n",
      "\n",
      "\n"
     ]
    }
   ],
   "source": [
    "# calculating false and true positive rate \n",
    "fpr_ada, tpr_ada, thresholds = metrics.roc_curve(y_test, y_predict_prob[:,1], pos_label=1)\n",
    "\n",
    "print(fpr_ada)\n",
    "print(\"\\n\\n\")\n",
    "print(tpr_ada)\n",
    "print(\"\\n\\n\")\n"
   ]
  },
  {
   "cell_type": "code",
   "execution_count": 6,
   "id": "1fe5d62a",
   "metadata": {},
   "outputs": [
    {
     "name": "stdout",
     "output_type": "stream",
     "text": [
      "AUC: 0.8596254317497756\n"
     ]
    }
   ],
   "source": [
    "# AUC\n",
    "AUC_ada = metrics.auc(fpr_ada, tpr_ada)\n",
    "print(\"AUC: \" + str(AUC_ada))"
   ]
  },
  {
   "cell_type": "code",
   "execution_count": 7,
   "id": "1f0fb755",
   "metadata": {},
   "outputs": [
    {
     "data": {
      "image/png": "[encoded data removed]",
      "text/plain": [
       "<Figure size 800x800 with 1 Axes>"
      ]
     },
     "metadata": {},
     "output_type": "display_data"
    }
   ],
   "source": [
    "\n",
    "\n",
    "%matplotlib inline\n",
    "\n",
    "plt.figure(figsize=(8,8))\n",
    "# plt.figure()\n",
    "\n",
    "\n",
    "# Roc Curve:\n",
    "plt.plot(fpr_ada, tpr_ada, color='green', lw=2, label='ROC Curve AdaBoost (area = %0.2f)' % AUC_ada)\n",
    " \n",
    "# Random Guess line:\n",
    "plt.plot([0, 1], [0, 1], color='blue', lw=1, linestyle='--')\n",
    "\n",
    "# Defining The Range of X-Axis and Y-Axis:\n",
    "plt.xlim([-0.005, 1.005])\n",
    "plt.ylim([0.0, 1.01])\n",
    "\n",
    "# Labels, Title, Legend:\n",
    "plt.xlabel('False Positive Rate')\n",
    "plt.ylabel('True Positive Rate')\n",
    "plt.title('Receiver operating characteristic')\n",
    "plt.legend(loc=\"lower right\")\n",
    "\n",
    "plt.show()\n",
    "\n"
   ]
  },
  {
   "cell_type": "code",
   "execution_count": null,
   "id": "5b3ed72d",
   "metadata": {},
   "outputs": [],
   "source": []
  },
  {
   "cell_type": "code",
   "execution_count": null,
   "id": "5662f563",
   "metadata": {},
   "outputs": [],
   "source": []
  },
  {
   "cell_type": "code",
   "execution_count": null,
   "id": "7ca7120d",
   "metadata": {},
   "outputs": [],
   "source": []
  },
  {
   "cell_type": "code",
   "execution_count": null,
   "id": "dca69b74",
   "metadata": {},
   "outputs": [],
   "source": []
  },
  {
   "cell_type": "markdown",
   "id": "8e927ba3",
   "metadata": {},
   "source": [
    "## Confusion Matrix\n"
   ]
  },
  {
   "cell_type": "code",
   "execution_count": 8,
   "id": "f3839182",
   "metadata": {},
   "outputs": [],
   "source": [
    "import matplotlib.pyplot as plt\n",
    "from sklearn.datasets import make_classification\n",
    "from sklearn.metrics import confusion_matrix, ConfusionMatrixDisplay\n",
    "from sklearn.model_selection import train_test_split\n",
    "from sklearn.svm import SVC\n",
    "from sklearn.preprocessing import StandardScaler\n",
    "from sklearn.pipeline import make_pipeline\n",
    "from sklearn.linear_model import LogisticRegression\n",
    "from sklearn.model_selection import train_test_split\n",
    " "
   ]
  },
  {
   "cell_type": "code",
   "execution_count": 9,
   "id": "f473a3ce",
   "metadata": {},
   "outputs": [],
   "source": [
    "cm_AdaBoost = confusion_matrix(y_test,y_adaBoostPredict)"
   ]
  },
  {
   "cell_type": "code",
   "execution_count": 10,
   "id": "1fe3a6fa",
   "metadata": {},
   "outputs": [
    {
     "data": {
      "image/png": "[encoded data removed]",
      "text/plain": [
       "<Figure size 640x480 with 2 Axes>"
      ]
     },
     "metadata": {},
     "output_type": "display_data"
    }
   ],
   "source": [
    "\n",
    "\n",
    "#Plot the confusion matrix.\n",
    "sns.heatmap(cm_AdaBoost, annot=True, fmt='g', cmap=\"crest\", xticklabels=['non-metastasis', 'metastasis'],yticklabels=['non-metastasis', 'metastasis'])\n",
    "plt.ylabel('Actual Label',fontsize=15)\n",
    "plt.xlabel('Predicted Label',fontsize=15)\n",
    "plt.title('Confusion Matrix for AdaBoost',fontsize=20)\n",
    "plt.show()\n",
    "\n"
   ]
  },
  {
   "cell_type": "code",
   "execution_count": 11,
   "id": "85c17dc2",
   "metadata": {},
   "outputs": [
    {
     "name": "stdout",
     "output_type": "stream",
     "text": [
      "Accuracy for Ada Boost:  0.794\n",
      "Precision for Ada Boost:  0.7824463118580766\n",
      "Recall for Ada Boost:  0.823992133726647\n",
      "F1-score for Ada Boost:  0.8026819923371649\n"
     ]
    }
   ],
   "source": [
    "\n",
    "\n",
    "# Finding precision and recall\n",
    "#Import the necessary libraries\n",
    "from sklearn.model_selection import train_test_split\n",
    "from sklearn.tree import DecisionTreeClassifier\n",
    "from sklearn.metrics import confusion_matrix\n",
    "import seaborn as sns\n",
    "import matplotlib.pyplot as plt\n",
    "from sklearn.metrics import accuracy_score, precision_score, recall_score, f1_score\n",
    "\n",
    "accuracy = accuracy_score(y_test, y_adaBoostPredict)\n",
    "print(\"Accuracy for Ada Boost: \", accuracy)\n",
    "precision = precision_score(y_test, y_adaBoostPredict)\n",
    "print(\"Precision for Ada Boost: \", precision)\n",
    "recall = recall_score(y_test, y_adaBoostPredict)\n",
    "print(\"Recall for Ada Boost: \", recall)\n",
    "F1_score = f1_score(y_test, y_adaBoostPredict)\n",
    "print(\"F1-score for Ada Boost: \", F1_score)\n",
    "\n"
   ]
  },
  {
   "cell_type": "code",
   "execution_count": null,
   "id": "563404a2",
   "metadata": {},
   "outputs": [],
   "source": []
  },
  {
   "cell_type": "code",
   "execution_count": null,
   "id": "93fd3fd2",
   "metadata": {},
   "outputs": [],
   "source": []
  },
  {
   "cell_type": "code",
   "execution_count": null,
   "id": "c0daa64e",
   "metadata": {},
   "outputs": [],
   "source": []
  },
  {
   "cell_type": "code",
   "execution_count": null,
   "id": "a3ddc4e3",
   "metadata": {},
   "outputs": [],
   "source": []
  },
  {
   "cell_type": "code",
   "execution_count": null,
   "id": "e254922b",
   "metadata": {},
   "outputs": [],
   "source": []
  },
  {
   "cell_type": "code",
   "execution_count": null,
   "id": "0c021480",
   "metadata": {},
   "outputs": [],
   "source": []
  },
  {
   "cell_type": "code",
   "execution_count": null,
   "id": "315bc2ba",
   "metadata": {},
   "outputs": [],
   "source": []
  },
  {
   "cell_type": "code",
   "execution_count": null,
   "id": "d6d802a5",
   "metadata": {},
   "outputs": [],
   "source": []
  },
  {
   "cell_type": "code",
   "execution_count": null,
   "id": "cda7a60e",
   "metadata": {},
   "outputs": [],
   "source": []
  },
  {
   "cell_type": "code",
   "execution_count": null,
   "id": "e4616ea4",
   "metadata": {},
   "outputs": [],
   "source": []
  },
  {
   "cell_type": "code",
   "execution_count": null,
   "id": "79121fe9",
   "metadata": {},
   "outputs": [],
   "source": []
  },
  {
   "cell_type": "code",
   "execution_count": null,
   "id": "49a2c935",
   "metadata": {},
   "outputs": [],
   "source": []
  },
  {
   "cell_type": "code",
   "execution_count": null,
   "id": "1e0d66b3",
   "metadata": {},
   "outputs": [],
   "source": []
  },
  {
   "cell_type": "code",
   "execution_count": null,
   "id": "a99d3987",
   "metadata": {},
   "outputs": [],
   "source": []
  },
  {
   "cell_type": "code",
   "execution_count": null,
   "id": "6505db7c",
   "metadata": {},
   "outputs": [],
   "source": []
  },
  {
   "cell_type": "code",
   "execution_count": null,
   "id": "51a03eab",
   "metadata": {},
   "outputs": [],
   "source": []
  }
 ],
 "metadata": {
  "kernelspec": {
   "display_name": "Python 3 (ipykernel)",
   "language": "python",
   "name": "python3"
  },
  "language_info": {
   "codemirror_mode": {
    "name": "ipython",
    "version": 3
   },
   "file_extension": ".py",
   "mimetype": "text/x-python",
   "name": "python",
   "nbconvert_exporter": "python",
   "pygments_lexer": "ipython3",
   "version": "3.10.9"
  }
 },
 "nbformat": 4,
 "nbformat_minor": 5
}
