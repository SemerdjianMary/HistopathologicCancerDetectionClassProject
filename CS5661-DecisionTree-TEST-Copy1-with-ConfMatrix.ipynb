{
 "cells": [
  {
   "cell_type": "code",
   "execution_count": 1,
   "id": "c4105632",
   "metadata": {},
   "outputs": [],
   "source": [
    "# Importing libraries and packages:\n",
    "\n",
    "from sklearn.neural_network import MLPClassifier\n",
    "\n",
    "from sklearn.model_selection import train_test_split\n",
    "from sklearn.model_selection import cross_val_score\n",
    "from sklearn.metrics import accuracy_score\n",
    "from sklearn import metrics\n",
    "import matplotlib.pyplot as plt\n",
    " \n",
    "\n",
    "\n",
    "# Importing required packages and libraries\n",
    "import numpy as np\n",
    "import pandas as pd\n",
    "\n",
    "import tensorflow as tf\n",
    "from tensorflow import keras\n",
    "\n",
    "import math\n",
    "from sklearn.utils import resample\n",
    "\n",
    "from sklearn.tree import DecisionTreeClassifier\n",
    "from sklearn.ensemble import AdaBoostClassifier\n",
    "from xgboost import XGBClassifier\n",
    "from sklearn.ensemble import RandomForestClassifier\n",
    "from sklearn.linear_model import LogisticRegression\n",
    "from sklearn.neighbors import KNeighborsClassifier\n",
    "\n",
    "from  sklearn.decomposition  import  PCA\n",
    "from sklearn import svm\n",
    "\n",
    "import matplotlib.pyplot as plt\n",
    "\n",
    "from sklearn.neural_network import MLPClassifier\n",
    "from sklearn.preprocessing import scale\n",
    " \n",
    "from  sklearn.model_selection  import  GridSearchCV\n",
    "\n",
    "import matplotlib.image as mpimg\n",
    "import random\n",
    "import os,sys\n",
    "from scipy import stats\n",
    " \n",
    "from skimage.color import rgb2gray\n",
    "\n",
    "import re\n",
    "from keras_preprocessing.image import ImageDataGenerator\n",
    "\n",
    "import tifffile as tiff\n",
    "import pandas as pd\n",
    "from PIL import Image\n",
    "\n",
    "import matplotlib.pyplot as plt\n",
    "plt.style.use('default')\n",
    "\n",
    "from glob import glob\n",
    "\n",
    "# Importing libraries and packages:\n",
    "\n",
    "from sklearn.neural_network import MLPClassifier\n",
    "\n",
    "from sklearn.model_selection import train_test_split\n",
    "from sklearn.model_selection import cross_val_score\n",
    "from sklearn.metrics import accuracy_score\n",
    "from sklearn import metrics\n",
    "import matplotlib.pyplot as plt\n",
    "\n",
    "import seaborn as sns\n",
    "from sklearn.naive_bayes import MultinomialNB\n",
    " \n",
    "from sklearn.svm import SVC\n",
    " \n",
    "from sklearn.ensemble import BaggingClassifier\n",
    "from sklearn.ensemble import ExtraTreesClassifier\n",
    "from sklearn.ensemble import GradientBoostingClassifier\n",
    "\n",
    "from xgboost import XGBClassifier\n",
    "from sklearn.model_selection import cross_val_score\n",
    " \n",
    "from sklearn.model_selection import train_test_split\n",
    "# from sklearn.metrics import precision_score, recall_score, plot_confusion_matrix, classification_report, accuracy_score, f1_score\n",
    "from sklearn import metrics\n",
    "from sklearn.metrics import roc_curve\n",
    "\n",
    "import warnings\n",
    "warnings.simplefilter(\"ignore\", category=DeprecationWarning)\n",
    "\n",
    "import os\n",
    "import numpy as np\n",
    "from tensorflow.keras.layers import Input, Conv2D, MaxPooling2D, UpSampling2D\n",
    "from tensorflow.keras.models import Model\n",
    "from tensorflow.keras.preprocessing.image import load_img, img_to_array\n",
    "\n",
    "from keras.models import Sequential\n",
    "from keras.layers import Dense, Dropout, Activation, Flatten\n",
    "from  keras.wrappers.scikit_learn  import  KerasClassifier\n",
    "from  sklearn.model_selection  import  GridSearchCV\n",
    "from keras.utils import np_utils\n",
    "from PIL import Image\n",
    " \n",
    "import time\n"
   ]
  },
  {
   "cell_type": "code",
   "execution_count": 2,
   "id": "a86acf55",
   "metadata": {},
   "outputs": [
    {
     "data": {
      "text/plain": [
       "0        1\n",
       "1        1\n",
       "2        1\n",
       "3        0\n",
       "4        1\n",
       "        ..\n",
       "19995    1\n",
       "19996    1\n",
       "19997    0\n",
       "19998    0\n",
       "19999    1\n",
       "Name: label, Length: 20000, dtype: int64"
      ]
     },
     "execution_count": 2,
     "metadata": {},
     "output_type": "execute_result"
    }
   ],
   "source": [
    "\n",
    "# Set the path to the directory containing the tif images\n",
    "img_dir = (\"C:\\\\Users\\\\mseme\\\\OneDrive\\\\Documents\\\\CS5661 Topics in Adv Data Science\\\\FinalProject_Histopathologic_Cancer_Detection\\\\Files\\\\Image\")\n",
    "\n",
    "# Set the path to the CSV file containing the id-label mapping\n",
    "# result = pd.read_csv(\"C:/Users/mseme\\OneDrive\\Documents\\CS5661 Topics in Adv Data Science\\FinalProject_Histopathologic_Cancer_Detection\\Files\\BalancedDataCompressedAutoEncoderPlusPCA.csv\", index_col=0) \n",
    "result = pd.read_csv('BalancedDataCompressedAutoEncoderPlusPCA.csv', index_col=0)\n",
    "\n",
    "label = result['label']\n",
    "\n",
    "label\n",
    "# Load the id-label mapping file into a DataFrame\n",
    "# id_df = pd.read_csv(id_file,index_col=0)\n",
    "\n",
    "# id_df\n",
    "# id_file\n",
    "\n",
    "# id_file['label'].value_counts()\n",
    " "
   ]
  },
  {
   "cell_type": "code",
   "execution_count": 3,
   "id": "831271cb",
   "metadata": {},
   "outputs": [
    {
     "data": {
      "text/plain": [
       "0    1\n",
       "1    1\n",
       "2    1\n",
       "3    0\n",
       "4    1\n",
       "Name: label, dtype: int64"
      ]
     },
     "execution_count": 3,
     "metadata": {},
     "output_type": "execute_result"
    }
   ],
   "source": [
    "label.head()"
   ]
  },
  {
   "cell_type": "code",
   "execution_count": 4,
   "id": "21cdc072",
   "metadata": {},
   "outputs": [
    {
     "data": {
      "text/plain": [
       "count    20000.000000\n",
       "mean         0.500000\n",
       "std          0.500013\n",
       "min          0.000000\n",
       "25%          0.000000\n",
       "50%          0.500000\n",
       "75%          1.000000\n",
       "max          1.000000\n",
       "Name: label, dtype: float64"
      ]
     },
     "execution_count": 4,
     "metadata": {},
     "output_type": "execute_result"
    }
   ],
   "source": [
    "label.describe()"
   ]
  },
  {
   "cell_type": "code",
   "execution_count": 5,
   "id": "f3b0f10e",
   "metadata": {},
   "outputs": [
    {
     "data": {
      "text/html": [
       "<div>\n",
       "<style scoped>\n",
       "    .dataframe tbody tr th:only-of-type {\n",
       "        vertical-align: middle;\n",
       "    }\n",
       "\n",
       "    .dataframe tbody tr th {\n",
       "        vertical-align: top;\n",
       "    }\n",
       "\n",
       "    .dataframe thead th {\n",
       "        text-align: right;\n",
       "    }\n",
       "</style>\n",
       "<table border=\"1\" class=\"dataframe\">\n",
       "  <thead>\n",
       "    <tr style=\"text-align: right;\">\n",
       "      <th></th>\n",
       "      <th>file name</th>\n",
       "      <th>label</th>\n",
       "      <th>0</th>\n",
       "      <th>1</th>\n",
       "      <th>2</th>\n",
       "      <th>3</th>\n",
       "      <th>4</th>\n",
       "      <th>5</th>\n",
       "      <th>6</th>\n",
       "      <th>7</th>\n",
       "      <th>...</th>\n",
       "      <th>2105</th>\n",
       "      <th>2106</th>\n",
       "      <th>2107</th>\n",
       "      <th>2108</th>\n",
       "      <th>2109</th>\n",
       "      <th>2110</th>\n",
       "      <th>2111</th>\n",
       "      <th>2112</th>\n",
       "      <th>2113</th>\n",
       "      <th>2114</th>\n",
       "    </tr>\n",
       "  </thead>\n",
       "  <tbody>\n",
       "    <tr>\n",
       "      <th>0</th>\n",
       "      <td>fe520665f21f76336f312f8f68bcd4831c057dd5</td>\n",
       "      <td>1</td>\n",
       "      <td>0.177551</td>\n",
       "      <td>-9.586820</td>\n",
       "      <td>-8.566801</td>\n",
       "      <td>-2.741533</td>\n",
       "      <td>4.088705</td>\n",
       "      <td>-2.601283</td>\n",
       "      <td>-2.538927</td>\n",
       "      <td>0.708467</td>\n",
       "      <td>...</td>\n",
       "      <td>-0.081534</td>\n",
       "      <td>-0.002311</td>\n",
       "      <td>-0.057945</td>\n",
       "      <td>0.017998</td>\n",
       "      <td>0.130523</td>\n",
       "      <td>-0.149506</td>\n",
       "      <td>0.013944</td>\n",
       "      <td>-0.100151</td>\n",
       "      <td>0.081980</td>\n",
       "      <td>0.089024</td>\n",
       "    </tr>\n",
       "    <tr>\n",
       "      <th>1</th>\n",
       "      <td>7cf8a043a6185d130ac7b3ac29131ef56a0a1dea</td>\n",
       "      <td>1</td>\n",
       "      <td>-2.219753</td>\n",
       "      <td>-8.986357</td>\n",
       "      <td>-7.431108</td>\n",
       "      <td>0.039660</td>\n",
       "      <td>3.985695</td>\n",
       "      <td>-1.272582</td>\n",
       "      <td>1.870875</td>\n",
       "      <td>1.217411</td>\n",
       "      <td>...</td>\n",
       "      <td>0.104494</td>\n",
       "      <td>-0.241981</td>\n",
       "      <td>0.085478</td>\n",
       "      <td>-0.134899</td>\n",
       "      <td>-0.016479</td>\n",
       "      <td>0.083136</td>\n",
       "      <td>-0.155667</td>\n",
       "      <td>-0.050047</td>\n",
       "      <td>0.081754</td>\n",
       "      <td>-0.144524</td>\n",
       "    </tr>\n",
       "    <tr>\n",
       "      <th>2</th>\n",
       "      <td>b1bbbb20cf222ebc90058e3b28c1b57d460375a3</td>\n",
       "      <td>1</td>\n",
       "      <td>-7.285353</td>\n",
       "      <td>-4.389901</td>\n",
       "      <td>-2.301738</td>\n",
       "      <td>3.631255</td>\n",
       "      <td>-5.471744</td>\n",
       "      <td>-3.653268</td>\n",
       "      <td>0.952643</td>\n",
       "      <td>-0.615656</td>\n",
       "      <td>...</td>\n",
       "      <td>0.048240</td>\n",
       "      <td>-0.052129</td>\n",
       "      <td>0.172595</td>\n",
       "      <td>-0.095746</td>\n",
       "      <td>0.076016</td>\n",
       "      <td>0.112851</td>\n",
       "      <td>-0.026718</td>\n",
       "      <td>0.071247</td>\n",
       "      <td>-0.051166</td>\n",
       "      <td>0.142570</td>\n",
       "    </tr>\n",
       "    <tr>\n",
       "      <th>3</th>\n",
       "      <td>eda2fdea00f4d45ffeab69bef3905bd00439c3f9</td>\n",
       "      <td>0</td>\n",
       "      <td>7.198379</td>\n",
       "      <td>8.367715</td>\n",
       "      <td>-1.824436</td>\n",
       "      <td>0.058183</td>\n",
       "      <td>-0.578592</td>\n",
       "      <td>3.013971</td>\n",
       "      <td>4.789231</td>\n",
       "      <td>1.722777</td>\n",
       "      <td>...</td>\n",
       "      <td>0.130234</td>\n",
       "      <td>-0.018426</td>\n",
       "      <td>0.001495</td>\n",
       "      <td>0.043898</td>\n",
       "      <td>0.018813</td>\n",
       "      <td>-0.057775</td>\n",
       "      <td>0.011729</td>\n",
       "      <td>0.051898</td>\n",
       "      <td>-0.030612</td>\n",
       "      <td>0.071710</td>\n",
       "    </tr>\n",
       "    <tr>\n",
       "      <th>4</th>\n",
       "      <td>d7786b09f5fc66182046e4742667a7529a8fa71b</td>\n",
       "      <td>1</td>\n",
       "      <td>-8.866398</td>\n",
       "      <td>15.523893</td>\n",
       "      <td>2.956651</td>\n",
       "      <td>1.666184</td>\n",
       "      <td>-1.177167</td>\n",
       "      <td>-1.440076</td>\n",
       "      <td>6.350306</td>\n",
       "      <td>1.654882</td>\n",
       "      <td>...</td>\n",
       "      <td>-0.057908</td>\n",
       "      <td>0.072258</td>\n",
       "      <td>0.060307</td>\n",
       "      <td>-0.121543</td>\n",
       "      <td>0.086209</td>\n",
       "      <td>0.025314</td>\n",
       "      <td>0.078836</td>\n",
       "      <td>0.083207</td>\n",
       "      <td>-0.023780</td>\n",
       "      <td>0.093864</td>\n",
       "    </tr>\n",
       "    <tr>\n",
       "      <th>...</th>\n",
       "      <td>...</td>\n",
       "      <td>...</td>\n",
       "      <td>...</td>\n",
       "      <td>...</td>\n",
       "      <td>...</td>\n",
       "      <td>...</td>\n",
       "      <td>...</td>\n",
       "      <td>...</td>\n",
       "      <td>...</td>\n",
       "      <td>...</td>\n",
       "      <td>...</td>\n",
       "      <td>...</td>\n",
       "      <td>...</td>\n",
       "      <td>...</td>\n",
       "      <td>...</td>\n",
       "      <td>...</td>\n",
       "      <td>...</td>\n",
       "      <td>...</td>\n",
       "      <td>...</td>\n",
       "      <td>...</td>\n",
       "      <td>...</td>\n",
       "    </tr>\n",
       "    <tr>\n",
       "      <th>19995</th>\n",
       "      <td>ad24cc8089e87731ec6d963dee09e0b697441866</td>\n",
       "      <td>1</td>\n",
       "      <td>-2.386042</td>\n",
       "      <td>15.283563</td>\n",
       "      <td>-0.677916</td>\n",
       "      <td>1.990766</td>\n",
       "      <td>0.924039</td>\n",
       "      <td>3.198889</td>\n",
       "      <td>3.348169</td>\n",
       "      <td>-0.447658</td>\n",
       "      <td>...</td>\n",
       "      <td>0.088011</td>\n",
       "      <td>0.023495</td>\n",
       "      <td>0.037156</td>\n",
       "      <td>-0.036155</td>\n",
       "      <td>0.000122</td>\n",
       "      <td>-0.025709</td>\n",
       "      <td>0.041122</td>\n",
       "      <td>-0.051271</td>\n",
       "      <td>0.058958</td>\n",
       "      <td>0.058770</td>\n",
       "    </tr>\n",
       "    <tr>\n",
       "      <th>19996</th>\n",
       "      <td>6a0f67b9058a94ebd4b03662b1817cc39476b4a7</td>\n",
       "      <td>1</td>\n",
       "      <td>0.013430</td>\n",
       "      <td>-1.198561</td>\n",
       "      <td>-3.107152</td>\n",
       "      <td>4.725783</td>\n",
       "      <td>-0.544180</td>\n",
       "      <td>0.520402</td>\n",
       "      <td>1.201299</td>\n",
       "      <td>-0.671730</td>\n",
       "      <td>...</td>\n",
       "      <td>0.035696</td>\n",
       "      <td>0.049471</td>\n",
       "      <td>0.030775</td>\n",
       "      <td>-0.213990</td>\n",
       "      <td>-0.213677</td>\n",
       "      <td>0.187356</td>\n",
       "      <td>0.117131</td>\n",
       "      <td>0.034502</td>\n",
       "      <td>-0.046804</td>\n",
       "      <td>0.120294</td>\n",
       "    </tr>\n",
       "    <tr>\n",
       "      <th>19997</th>\n",
       "      <td>5e11ba7e44f309f02f26ec4fd430330f40f16bc2</td>\n",
       "      <td>0</td>\n",
       "      <td>-13.904292</td>\n",
       "      <td>-14.768571</td>\n",
       "      <td>-4.799007</td>\n",
       "      <td>-3.501939</td>\n",
       "      <td>-0.518888</td>\n",
       "      <td>0.456912</td>\n",
       "      <td>-1.825171</td>\n",
       "      <td>-0.374967</td>\n",
       "      <td>...</td>\n",
       "      <td>-0.025817</td>\n",
       "      <td>0.043884</td>\n",
       "      <td>0.053620</td>\n",
       "      <td>0.080060</td>\n",
       "      <td>0.119396</td>\n",
       "      <td>0.185163</td>\n",
       "      <td>-0.049184</td>\n",
       "      <td>0.206338</td>\n",
       "      <td>-0.162770</td>\n",
       "      <td>-0.105561</td>\n",
       "    </tr>\n",
       "    <tr>\n",
       "      <th>19998</th>\n",
       "      <td>2b4de74b8920bdc174e9330a916f9903c4001b43</td>\n",
       "      <td>0</td>\n",
       "      <td>22.093441</td>\n",
       "      <td>-0.437056</td>\n",
       "      <td>2.179865</td>\n",
       "      <td>-2.586366</td>\n",
       "      <td>1.197968</td>\n",
       "      <td>-0.401659</td>\n",
       "      <td>1.514603</td>\n",
       "      <td>-4.124180</td>\n",
       "      <td>...</td>\n",
       "      <td>0.007796</td>\n",
       "      <td>0.007779</td>\n",
       "      <td>-0.083116</td>\n",
       "      <td>-0.095148</td>\n",
       "      <td>0.079233</td>\n",
       "      <td>0.035925</td>\n",
       "      <td>0.044013</td>\n",
       "      <td>0.005759</td>\n",
       "      <td>0.001792</td>\n",
       "      <td>-0.166266</td>\n",
       "    </tr>\n",
       "    <tr>\n",
       "      <th>19999</th>\n",
       "      <td>eb5cf45917011541c933e870256453f958f8ff09</td>\n",
       "      <td>1</td>\n",
       "      <td>4.685195</td>\n",
       "      <td>0.890130</td>\n",
       "      <td>-2.971548</td>\n",
       "      <td>4.557341</td>\n",
       "      <td>-0.260885</td>\n",
       "      <td>1.873094</td>\n",
       "      <td>-1.494823</td>\n",
       "      <td>-0.484378</td>\n",
       "      <td>...</td>\n",
       "      <td>0.024796</td>\n",
       "      <td>0.075012</td>\n",
       "      <td>-0.064453</td>\n",
       "      <td>0.040620</td>\n",
       "      <td>-0.110745</td>\n",
       "      <td>0.060827</td>\n",
       "      <td>0.101685</td>\n",
       "      <td>-0.011612</td>\n",
       "      <td>-0.025600</td>\n",
       "      <td>0.037704</td>\n",
       "    </tr>\n",
       "  </tbody>\n",
       "</table>\n",
       "<p>20000 rows × 2117 columns</p>\n",
       "</div>"
      ],
      "text/plain": [
       "                                      file name  label          0          1  \\\n",
       "0      fe520665f21f76336f312f8f68bcd4831c057dd5      1   0.177551  -9.586820   \n",
       "1      7cf8a043a6185d130ac7b3ac29131ef56a0a1dea      1  -2.219753  -8.986357   \n",
       "2      b1bbbb20cf222ebc90058e3b28c1b57d460375a3      1  -7.285353  -4.389901   \n",
       "3      eda2fdea00f4d45ffeab69bef3905bd00439c3f9      0   7.198379   8.367715   \n",
       "4      d7786b09f5fc66182046e4742667a7529a8fa71b      1  -8.866398  15.523893   \n",
       "...                                         ...    ...        ...        ...   \n",
       "19995  ad24cc8089e87731ec6d963dee09e0b697441866      1  -2.386042  15.283563   \n",
       "19996  6a0f67b9058a94ebd4b03662b1817cc39476b4a7      1   0.013430  -1.198561   \n",
       "19997  5e11ba7e44f309f02f26ec4fd430330f40f16bc2      0 -13.904292 -14.768571   \n",
       "19998  2b4de74b8920bdc174e9330a916f9903c4001b43      0  22.093441  -0.437056   \n",
       "19999  eb5cf45917011541c933e870256453f958f8ff09      1   4.685195   0.890130   \n",
       "\n",
       "              2         3         4         5         6         7  ...  \\\n",
       "0     -8.566801 -2.741533  4.088705 -2.601283 -2.538927  0.708467  ...   \n",
       "1     -7.431108  0.039660  3.985695 -1.272582  1.870875  1.217411  ...   \n",
       "2     -2.301738  3.631255 -5.471744 -3.653268  0.952643 -0.615656  ...   \n",
       "3     -1.824436  0.058183 -0.578592  3.013971  4.789231  1.722777  ...   \n",
       "4      2.956651  1.666184 -1.177167 -1.440076  6.350306  1.654882  ...   \n",
       "...         ...       ...       ...       ...       ...       ...  ...   \n",
       "19995 -0.677916  1.990766  0.924039  3.198889  3.348169 -0.447658  ...   \n",
       "19996 -3.107152  4.725783 -0.544180  0.520402  1.201299 -0.671730  ...   \n",
       "19997 -4.799007 -3.501939 -0.518888  0.456912 -1.825171 -0.374967  ...   \n",
       "19998  2.179865 -2.586366  1.197968 -0.401659  1.514603 -4.124180  ...   \n",
       "19999 -2.971548  4.557341 -0.260885  1.873094 -1.494823 -0.484378  ...   \n",
       "\n",
       "           2105      2106      2107      2108      2109      2110      2111  \\\n",
       "0     -0.081534 -0.002311 -0.057945  0.017998  0.130523 -0.149506  0.013944   \n",
       "1      0.104494 -0.241981  0.085478 -0.134899 -0.016479  0.083136 -0.155667   \n",
       "2      0.048240 -0.052129  0.172595 -0.095746  0.076016  0.112851 -0.026718   \n",
       "3      0.130234 -0.018426  0.001495  0.043898  0.018813 -0.057775  0.011729   \n",
       "4     -0.057908  0.072258  0.060307 -0.121543  0.086209  0.025314  0.078836   \n",
       "...         ...       ...       ...       ...       ...       ...       ...   \n",
       "19995  0.088011  0.023495  0.037156 -0.036155  0.000122 -0.025709  0.041122   \n",
       "19996  0.035696  0.049471  0.030775 -0.213990 -0.213677  0.187356  0.117131   \n",
       "19997 -0.025817  0.043884  0.053620  0.080060  0.119396  0.185163 -0.049184   \n",
       "19998  0.007796  0.007779 -0.083116 -0.095148  0.079233  0.035925  0.044013   \n",
       "19999  0.024796  0.075012 -0.064453  0.040620 -0.110745  0.060827  0.101685   \n",
       "\n",
       "           2112      2113      2114  \n",
       "0     -0.100151  0.081980  0.089024  \n",
       "1     -0.050047  0.081754 -0.144524  \n",
       "2      0.071247 -0.051166  0.142570  \n",
       "3      0.051898 -0.030612  0.071710  \n",
       "4      0.083207 -0.023780  0.093864  \n",
       "...         ...       ...       ...  \n",
       "19995 -0.051271  0.058958  0.058770  \n",
       "19996  0.034502 -0.046804  0.120294  \n",
       "19997  0.206338 -0.162770 -0.105561  \n",
       "19998  0.005759  0.001792 -0.166266  \n",
       "19999 -0.011612 -0.025600  0.037704  \n",
       "\n",
       "[20000 rows x 2117 columns]"
      ]
     },
     "execution_count": 5,
     "metadata": {},
     "output_type": "execute_result"
    }
   ],
   "source": [
    "result"
   ]
  },
  {
   "cell_type": "code",
   "execution_count": 6,
   "id": "9d182253",
   "metadata": {},
   "outputs": [
    {
     "data": {
      "text/html": [
       "<div>\n",
       "<style scoped>\n",
       "    .dataframe tbody tr th:only-of-type {\n",
       "        vertical-align: middle;\n",
       "    }\n",
       "\n",
       "    .dataframe tbody tr th {\n",
       "        vertical-align: top;\n",
       "    }\n",
       "\n",
       "    .dataframe thead th {\n",
       "        text-align: right;\n",
       "    }\n",
       "</style>\n",
       "<table border=\"1\" class=\"dataframe\">\n",
       "  <thead>\n",
       "    <tr style=\"text-align: right;\">\n",
       "      <th></th>\n",
       "      <th>file name</th>\n",
       "      <th>label</th>\n",
       "      <th>0</th>\n",
       "      <th>1</th>\n",
       "      <th>2</th>\n",
       "      <th>3</th>\n",
       "      <th>4</th>\n",
       "      <th>5</th>\n",
       "      <th>6</th>\n",
       "      <th>7</th>\n",
       "      <th>...</th>\n",
       "      <th>2105</th>\n",
       "      <th>2106</th>\n",
       "      <th>2107</th>\n",
       "      <th>2108</th>\n",
       "      <th>2109</th>\n",
       "      <th>2110</th>\n",
       "      <th>2111</th>\n",
       "      <th>2112</th>\n",
       "      <th>2113</th>\n",
       "      <th>2114</th>\n",
       "    </tr>\n",
       "  </thead>\n",
       "  <tbody>\n",
       "    <tr>\n",
       "      <th>0</th>\n",
       "      <td>fe520665f21f76336f312f8f68bcd4831c057dd5</td>\n",
       "      <td>1</td>\n",
       "      <td>0.177551</td>\n",
       "      <td>-9.586820</td>\n",
       "      <td>-8.566801</td>\n",
       "      <td>-2.741533</td>\n",
       "      <td>4.088705</td>\n",
       "      <td>-2.601283</td>\n",
       "      <td>-2.538927</td>\n",
       "      <td>0.708467</td>\n",
       "      <td>...</td>\n",
       "      <td>-0.081534</td>\n",
       "      <td>-0.002311</td>\n",
       "      <td>-0.057945</td>\n",
       "      <td>0.017998</td>\n",
       "      <td>0.130523</td>\n",
       "      <td>-0.149506</td>\n",
       "      <td>0.013944</td>\n",
       "      <td>-0.100151</td>\n",
       "      <td>0.081980</td>\n",
       "      <td>0.089024</td>\n",
       "    </tr>\n",
       "    <tr>\n",
       "      <th>1</th>\n",
       "      <td>7cf8a043a6185d130ac7b3ac29131ef56a0a1dea</td>\n",
       "      <td>1</td>\n",
       "      <td>-2.219753</td>\n",
       "      <td>-8.986357</td>\n",
       "      <td>-7.431108</td>\n",
       "      <td>0.039660</td>\n",
       "      <td>3.985695</td>\n",
       "      <td>-1.272582</td>\n",
       "      <td>1.870875</td>\n",
       "      <td>1.217411</td>\n",
       "      <td>...</td>\n",
       "      <td>0.104494</td>\n",
       "      <td>-0.241981</td>\n",
       "      <td>0.085478</td>\n",
       "      <td>-0.134899</td>\n",
       "      <td>-0.016479</td>\n",
       "      <td>0.083136</td>\n",
       "      <td>-0.155667</td>\n",
       "      <td>-0.050047</td>\n",
       "      <td>0.081754</td>\n",
       "      <td>-0.144524</td>\n",
       "    </tr>\n",
       "    <tr>\n",
       "      <th>2</th>\n",
       "      <td>b1bbbb20cf222ebc90058e3b28c1b57d460375a3</td>\n",
       "      <td>1</td>\n",
       "      <td>-7.285353</td>\n",
       "      <td>-4.389901</td>\n",
       "      <td>-2.301738</td>\n",
       "      <td>3.631255</td>\n",
       "      <td>-5.471744</td>\n",
       "      <td>-3.653268</td>\n",
       "      <td>0.952643</td>\n",
       "      <td>-0.615656</td>\n",
       "      <td>...</td>\n",
       "      <td>0.048240</td>\n",
       "      <td>-0.052129</td>\n",
       "      <td>0.172595</td>\n",
       "      <td>-0.095746</td>\n",
       "      <td>0.076016</td>\n",
       "      <td>0.112851</td>\n",
       "      <td>-0.026718</td>\n",
       "      <td>0.071247</td>\n",
       "      <td>-0.051166</td>\n",
       "      <td>0.142570</td>\n",
       "    </tr>\n",
       "    <tr>\n",
       "      <th>3</th>\n",
       "      <td>eda2fdea00f4d45ffeab69bef3905bd00439c3f9</td>\n",
       "      <td>0</td>\n",
       "      <td>7.198379</td>\n",
       "      <td>8.367715</td>\n",
       "      <td>-1.824436</td>\n",
       "      <td>0.058183</td>\n",
       "      <td>-0.578592</td>\n",
       "      <td>3.013971</td>\n",
       "      <td>4.789231</td>\n",
       "      <td>1.722777</td>\n",
       "      <td>...</td>\n",
       "      <td>0.130234</td>\n",
       "      <td>-0.018426</td>\n",
       "      <td>0.001495</td>\n",
       "      <td>0.043898</td>\n",
       "      <td>0.018813</td>\n",
       "      <td>-0.057775</td>\n",
       "      <td>0.011729</td>\n",
       "      <td>0.051898</td>\n",
       "      <td>-0.030612</td>\n",
       "      <td>0.071710</td>\n",
       "    </tr>\n",
       "    <tr>\n",
       "      <th>4</th>\n",
       "      <td>d7786b09f5fc66182046e4742667a7529a8fa71b</td>\n",
       "      <td>1</td>\n",
       "      <td>-8.866398</td>\n",
       "      <td>15.523893</td>\n",
       "      <td>2.956651</td>\n",
       "      <td>1.666184</td>\n",
       "      <td>-1.177167</td>\n",
       "      <td>-1.440076</td>\n",
       "      <td>6.350306</td>\n",
       "      <td>1.654882</td>\n",
       "      <td>...</td>\n",
       "      <td>-0.057908</td>\n",
       "      <td>0.072258</td>\n",
       "      <td>0.060307</td>\n",
       "      <td>-0.121543</td>\n",
       "      <td>0.086209</td>\n",
       "      <td>0.025314</td>\n",
       "      <td>0.078836</td>\n",
       "      <td>0.083207</td>\n",
       "      <td>-0.023780</td>\n",
       "      <td>0.093864</td>\n",
       "    </tr>\n",
       "  </tbody>\n",
       "</table>\n",
       "<p>5 rows × 2117 columns</p>\n",
       "</div>"
      ],
      "text/plain": [
       "                                  file name  label         0          1  \\\n",
       "0  fe520665f21f76336f312f8f68bcd4831c057dd5      1  0.177551  -9.586820   \n",
       "1  7cf8a043a6185d130ac7b3ac29131ef56a0a1dea      1 -2.219753  -8.986357   \n",
       "2  b1bbbb20cf222ebc90058e3b28c1b57d460375a3      1 -7.285353  -4.389901   \n",
       "3  eda2fdea00f4d45ffeab69bef3905bd00439c3f9      0  7.198379   8.367715   \n",
       "4  d7786b09f5fc66182046e4742667a7529a8fa71b      1 -8.866398  15.523893   \n",
       "\n",
       "          2         3         4         5         6         7  ...      2105  \\\n",
       "0 -8.566801 -2.741533  4.088705 -2.601283 -2.538927  0.708467  ... -0.081534   \n",
       "1 -7.431108  0.039660  3.985695 -1.272582  1.870875  1.217411  ...  0.104494   \n",
       "2 -2.301738  3.631255 -5.471744 -3.653268  0.952643 -0.615656  ...  0.048240   \n",
       "3 -1.824436  0.058183 -0.578592  3.013971  4.789231  1.722777  ...  0.130234   \n",
       "4  2.956651  1.666184 -1.177167 -1.440076  6.350306  1.654882  ... -0.057908   \n",
       "\n",
       "       2106      2107      2108      2109      2110      2111      2112  \\\n",
       "0 -0.002311 -0.057945  0.017998  0.130523 -0.149506  0.013944 -0.100151   \n",
       "1 -0.241981  0.085478 -0.134899 -0.016479  0.083136 -0.155667 -0.050047   \n",
       "2 -0.052129  0.172595 -0.095746  0.076016  0.112851 -0.026718  0.071247   \n",
       "3 -0.018426  0.001495  0.043898  0.018813 -0.057775  0.011729  0.051898   \n",
       "4  0.072258  0.060307 -0.121543  0.086209  0.025314  0.078836  0.083207   \n",
       "\n",
       "       2113      2114  \n",
       "0  0.081980  0.089024  \n",
       "1  0.081754 -0.144524  \n",
       "2 -0.051166  0.142570  \n",
       "3 -0.030612  0.071710  \n",
       "4 -0.023780  0.093864  \n",
       "\n",
       "[5 rows x 2117 columns]"
      ]
     },
     "execution_count": 6,
     "metadata": {},
     "output_type": "execute_result"
    }
   ],
   "source": [
    "result.head()"
   ]
  },
  {
   "cell_type": "code",
   "execution_count": 7,
   "id": "2e2d2a3f",
   "metadata": {},
   "outputs": [
    {
     "data": {
      "text/html": [
       "<div>\n",
       "<style scoped>\n",
       "    .dataframe tbody tr th:only-of-type {\n",
       "        vertical-align: middle;\n",
       "    }\n",
       "\n",
       "    .dataframe tbody tr th {\n",
       "        vertical-align: top;\n",
       "    }\n",
       "\n",
       "    .dataframe thead th {\n",
       "        text-align: right;\n",
       "    }\n",
       "</style>\n",
       "<table border=\"1\" class=\"dataframe\">\n",
       "  <thead>\n",
       "    <tr style=\"text-align: right;\">\n",
       "      <th></th>\n",
       "      <th>label</th>\n",
       "      <th>0</th>\n",
       "      <th>1</th>\n",
       "      <th>2</th>\n",
       "      <th>3</th>\n",
       "      <th>4</th>\n",
       "      <th>5</th>\n",
       "      <th>6</th>\n",
       "      <th>7</th>\n",
       "      <th>8</th>\n",
       "      <th>...</th>\n",
       "      <th>2105</th>\n",
       "      <th>2106</th>\n",
       "      <th>2107</th>\n",
       "      <th>2108</th>\n",
       "      <th>2109</th>\n",
       "      <th>2110</th>\n",
       "      <th>2111</th>\n",
       "      <th>2112</th>\n",
       "      <th>2113</th>\n",
       "      <th>2114</th>\n",
       "    </tr>\n",
       "  </thead>\n",
       "  <tbody>\n",
       "    <tr>\n",
       "      <th>count</th>\n",
       "      <td>20000.000000</td>\n",
       "      <td>2.000000e+04</td>\n",
       "      <td>2.000000e+04</td>\n",
       "      <td>2.000000e+04</td>\n",
       "      <td>2.000000e+04</td>\n",
       "      <td>2.000000e+04</td>\n",
       "      <td>2.000000e+04</td>\n",
       "      <td>2.000000e+04</td>\n",
       "      <td>2.000000e+04</td>\n",
       "      <td>2.000000e+04</td>\n",
       "      <td>...</td>\n",
       "      <td>2.000000e+04</td>\n",
       "      <td>2.000000e+04</td>\n",
       "      <td>2.000000e+04</td>\n",
       "      <td>2.000000e+04</td>\n",
       "      <td>2.000000e+04</td>\n",
       "      <td>2.000000e+04</td>\n",
       "      <td>2.000000e+04</td>\n",
       "      <td>2.000000e+04</td>\n",
       "      <td>2.000000e+04</td>\n",
       "      <td>2.000000e+04</td>\n",
       "    </tr>\n",
       "    <tr>\n",
       "      <th>mean</th>\n",
       "      <td>0.500000</td>\n",
       "      <td>2.088126e-07</td>\n",
       "      <td>-9.166484e-08</td>\n",
       "      <td>-1.363365e-08</td>\n",
       "      <td>1.949323e-08</td>\n",
       "      <td>-3.865410e-08</td>\n",
       "      <td>2.421482e-07</td>\n",
       "      <td>-1.282729e-07</td>\n",
       "      <td>7.775408e-08</td>\n",
       "      <td>-2.262162e-08</td>\n",
       "      <td>...</td>\n",
       "      <td>3.995237e-08</td>\n",
       "      <td>9.920124e-08</td>\n",
       "      <td>-1.547733e-08</td>\n",
       "      <td>1.968654e-08</td>\n",
       "      <td>-2.427242e-09</td>\n",
       "      <td>3.186554e-08</td>\n",
       "      <td>8.509374e-08</td>\n",
       "      <td>1.281236e-08</td>\n",
       "      <td>-8.182578e-08</td>\n",
       "      <td>-5.632186e-08</td>\n",
       "    </tr>\n",
       "    <tr>\n",
       "      <th>std</th>\n",
       "      <td>0.500013</td>\n",
       "      <td>1.474024e+01</td>\n",
       "      <td>9.102001e+00</td>\n",
       "      <td>5.039059e+00</td>\n",
       "      <td>3.733585e+00</td>\n",
       "      <td>3.213848e+00</td>\n",
       "      <td>3.195338e+00</td>\n",
       "      <td>2.347137e+00</td>\n",
       "      <td>2.018530e+00</td>\n",
       "      <td>1.987067e+00</td>\n",
       "      <td>...</td>\n",
       "      <td>8.096455e-02</td>\n",
       "      <td>8.086915e-02</td>\n",
       "      <td>8.073678e-02</td>\n",
       "      <td>8.065372e-02</td>\n",
       "      <td>8.053316e-02</td>\n",
       "      <td>8.033270e-02</td>\n",
       "      <td>8.015819e-02</td>\n",
       "      <td>8.008096e-02</td>\n",
       "      <td>7.997957e-02</td>\n",
       "      <td>7.981441e-02</td>\n",
       "    </tr>\n",
       "    <tr>\n",
       "      <th>min</th>\n",
       "      <td>0.000000</td>\n",
       "      <td>-4.596950e+01</td>\n",
       "      <td>-2.253896e+01</td>\n",
       "      <td>-1.104017e+01</td>\n",
       "      <td>-1.494886e+01</td>\n",
       "      <td>-2.340400e+01</td>\n",
       "      <td>-2.584538e+01</td>\n",
       "      <td>-1.305435e+01</td>\n",
       "      <td>-1.582628e+01</td>\n",
       "      <td>-1.433706e+01</td>\n",
       "      <td>...</td>\n",
       "      <td>-3.260214e-01</td>\n",
       "      <td>-3.446910e-01</td>\n",
       "      <td>-3.356873e-01</td>\n",
       "      <td>-3.587885e-01</td>\n",
       "      <td>-3.469533e-01</td>\n",
       "      <td>-3.396295e-01</td>\n",
       "      <td>-3.539658e-01</td>\n",
       "      <td>-3.557822e-01</td>\n",
       "      <td>-3.502170e-01</td>\n",
       "      <td>-3.119349e-01</td>\n",
       "    </tr>\n",
       "    <tr>\n",
       "      <th>25%</th>\n",
       "      <td>0.000000</td>\n",
       "      <td>-1.109097e+01</td>\n",
       "      <td>-7.444768e+00</td>\n",
       "      <td>-3.316816e+00</td>\n",
       "      <td>-2.250826e+00</td>\n",
       "      <td>-1.211048e+00</td>\n",
       "      <td>-1.264179e+00</td>\n",
       "      <td>-1.370580e+00</td>\n",
       "      <td>-8.672520e-01</td>\n",
       "      <td>-8.947568e-01</td>\n",
       "      <td>...</td>\n",
       "      <td>-5.151960e-02</td>\n",
       "      <td>-5.123389e-02</td>\n",
       "      <td>-5.133718e-02</td>\n",
       "      <td>-5.177023e-02</td>\n",
       "      <td>-5.048248e-02</td>\n",
       "      <td>-5.090635e-02</td>\n",
       "      <td>-5.094431e-02</td>\n",
       "      <td>-5.136374e-02</td>\n",
       "      <td>-5.082025e-02</td>\n",
       "      <td>-5.152954e-02</td>\n",
       "    </tr>\n",
       "    <tr>\n",
       "      <th>50%</th>\n",
       "      <td>0.500000</td>\n",
       "      <td>-2.002943e+00</td>\n",
       "      <td>-1.044415e+00</td>\n",
       "      <td>-9.810855e-01</td>\n",
       "      <td>-1.578701e-01</td>\n",
       "      <td>1.877456e-02</td>\n",
       "      <td>-4.557872e-02</td>\n",
       "      <td>8.391320e-02</td>\n",
       "      <td>2.989235e-02</td>\n",
       "      <td>-3.360247e-02</td>\n",
       "      <td>...</td>\n",
       "      <td>-4.782086e-04</td>\n",
       "      <td>5.375167e-05</td>\n",
       "      <td>-1.433565e-04</td>\n",
       "      <td>1.871385e-04</td>\n",
       "      <td>2.811646e-04</td>\n",
       "      <td>-5.335054e-04</td>\n",
       "      <td>4.918452e-06</td>\n",
       "      <td>5.419119e-04</td>\n",
       "      <td>-2.469770e-04</td>\n",
       "      <td>-6.682177e-04</td>\n",
       "    </tr>\n",
       "    <tr>\n",
       "      <th>75%</th>\n",
       "      <td>1.000000</td>\n",
       "      <td>9.258100e+00</td>\n",
       "      <td>7.796474e+00</td>\n",
       "      <td>2.659549e+00</td>\n",
       "      <td>2.177795e+00</td>\n",
       "      <td>1.232336e+00</td>\n",
       "      <td>1.149010e+00</td>\n",
       "      <td>1.425016e+00</td>\n",
       "      <td>8.909989e-01</td>\n",
       "      <td>8.343419e-01</td>\n",
       "      <td>...</td>\n",
       "      <td>5.171099e-02</td>\n",
       "      <td>5.130615e-02</td>\n",
       "      <td>5.128162e-02</td>\n",
       "      <td>5.162291e-02</td>\n",
       "      <td>5.086908e-02</td>\n",
       "      <td>5.076226e-02</td>\n",
       "      <td>5.085868e-02</td>\n",
       "      <td>5.055725e-02</td>\n",
       "      <td>4.971059e-02</td>\n",
       "      <td>5.082354e-02</td>\n",
       "    </tr>\n",
       "    <tr>\n",
       "      <th>max</th>\n",
       "      <td>1.000000</td>\n",
       "      <td>4.747200e+01</td>\n",
       "      <td>2.279270e+01</td>\n",
       "      <td>5.523403e+01</td>\n",
       "      <td>1.752578e+01</td>\n",
       "      <td>2.500739e+01</td>\n",
       "      <td>2.595269e+01</td>\n",
       "      <td>1.506131e+01</td>\n",
       "      <td>1.606234e+01</td>\n",
       "      <td>1.883499e+01</td>\n",
       "      <td>...</td>\n",
       "      <td>3.556041e-01</td>\n",
       "      <td>3.802525e-01</td>\n",
       "      <td>3.685075e-01</td>\n",
       "      <td>3.648540e-01</td>\n",
       "      <td>4.047183e-01</td>\n",
       "      <td>4.578056e-01</td>\n",
       "      <td>4.466569e-01</td>\n",
       "      <td>3.734620e-01</td>\n",
       "      <td>3.989320e-01</td>\n",
       "      <td>3.654689e-01</td>\n",
       "    </tr>\n",
       "  </tbody>\n",
       "</table>\n",
       "<p>8 rows × 2116 columns</p>\n",
       "</div>"
      ],
      "text/plain": [
       "              label             0             1             2             3  \\\n",
       "count  20000.000000  2.000000e+04  2.000000e+04  2.000000e+04  2.000000e+04   \n",
       "mean       0.500000  2.088126e-07 -9.166484e-08 -1.363365e-08  1.949323e-08   \n",
       "std        0.500013  1.474024e+01  9.102001e+00  5.039059e+00  3.733585e+00   \n",
       "min        0.000000 -4.596950e+01 -2.253896e+01 -1.104017e+01 -1.494886e+01   \n",
       "25%        0.000000 -1.109097e+01 -7.444768e+00 -3.316816e+00 -2.250826e+00   \n",
       "50%        0.500000 -2.002943e+00 -1.044415e+00 -9.810855e-01 -1.578701e-01   \n",
       "75%        1.000000  9.258100e+00  7.796474e+00  2.659549e+00  2.177795e+00   \n",
       "max        1.000000  4.747200e+01  2.279270e+01  5.523403e+01  1.752578e+01   \n",
       "\n",
       "                  4             5             6             7             8  \\\n",
       "count  2.000000e+04  2.000000e+04  2.000000e+04  2.000000e+04  2.000000e+04   \n",
       "mean  -3.865410e-08  2.421482e-07 -1.282729e-07  7.775408e-08 -2.262162e-08   \n",
       "std    3.213848e+00  3.195338e+00  2.347137e+00  2.018530e+00  1.987067e+00   \n",
       "min   -2.340400e+01 -2.584538e+01 -1.305435e+01 -1.582628e+01 -1.433706e+01   \n",
       "25%   -1.211048e+00 -1.264179e+00 -1.370580e+00 -8.672520e-01 -8.947568e-01   \n",
       "50%    1.877456e-02 -4.557872e-02  8.391320e-02  2.989235e-02 -3.360247e-02   \n",
       "75%    1.232336e+00  1.149010e+00  1.425016e+00  8.909989e-01  8.343419e-01   \n",
       "max    2.500739e+01  2.595269e+01  1.506131e+01  1.606234e+01  1.883499e+01   \n",
       "\n",
       "       ...          2105          2106          2107          2108  \\\n",
       "count  ...  2.000000e+04  2.000000e+04  2.000000e+04  2.000000e+04   \n",
       "mean   ...  3.995237e-08  9.920124e-08 -1.547733e-08  1.968654e-08   \n",
       "std    ...  8.096455e-02  8.086915e-02  8.073678e-02  8.065372e-02   \n",
       "min    ... -3.260214e-01 -3.446910e-01 -3.356873e-01 -3.587885e-01   \n",
       "25%    ... -5.151960e-02 -5.123389e-02 -5.133718e-02 -5.177023e-02   \n",
       "50%    ... -4.782086e-04  5.375167e-05 -1.433565e-04  1.871385e-04   \n",
       "75%    ...  5.171099e-02  5.130615e-02  5.128162e-02  5.162291e-02   \n",
       "max    ...  3.556041e-01  3.802525e-01  3.685075e-01  3.648540e-01   \n",
       "\n",
       "               2109          2110          2111          2112          2113  \\\n",
       "count  2.000000e+04  2.000000e+04  2.000000e+04  2.000000e+04  2.000000e+04   \n",
       "mean  -2.427242e-09  3.186554e-08  8.509374e-08  1.281236e-08 -8.182578e-08   \n",
       "std    8.053316e-02  8.033270e-02  8.015819e-02  8.008096e-02  7.997957e-02   \n",
       "min   -3.469533e-01 -3.396295e-01 -3.539658e-01 -3.557822e-01 -3.502170e-01   \n",
       "25%   -5.048248e-02 -5.090635e-02 -5.094431e-02 -5.136374e-02 -5.082025e-02   \n",
       "50%    2.811646e-04 -5.335054e-04  4.918452e-06  5.419119e-04 -2.469770e-04   \n",
       "75%    5.086908e-02  5.076226e-02  5.085868e-02  5.055725e-02  4.971059e-02   \n",
       "max    4.047183e-01  4.578056e-01  4.466569e-01  3.734620e-01  3.989320e-01   \n",
       "\n",
       "               2114  \n",
       "count  2.000000e+04  \n",
       "mean  -5.632186e-08  \n",
       "std    7.981441e-02  \n",
       "min   -3.119349e-01  \n",
       "25%   -5.152954e-02  \n",
       "50%   -6.682177e-04  \n",
       "75%    5.082354e-02  \n",
       "max    3.654689e-01  \n",
       "\n",
       "[8 rows x 2116 columns]"
      ]
     },
     "execution_count": 7,
     "metadata": {},
     "output_type": "execute_result"
    }
   ],
   "source": [
    "result.describe()"
   ]
  },
  {
   "cell_type": "code",
   "execution_count": null,
   "id": "d7f02f39",
   "metadata": {},
   "outputs": [],
   "source": []
  },
  {
   "cell_type": "code",
   "execution_count": 8,
   "id": "bfd2945c",
   "metadata": {},
   "outputs": [],
   "source": [
    "from sklearn.model_selection import train_test_split"
   ]
  },
  {
   "cell_type": "code",
   "execution_count": 9,
   "id": "1040ddac",
   "metadata": {},
   "outputs": [],
   "source": [
    "X_train, X_test, y_train, y_test = train_test_split((result[result.columns[2:]]), label, test_size=0.3, random_state=1)"
   ]
  },
  {
   "cell_type": "code",
   "execution_count": 10,
   "id": "f2dbf27e",
   "metadata": {
    "scrolled": true
   },
   "outputs": [
    {
     "name": "stdout",
     "output_type": "stream",
     "text": [
      "               0          1         2          3         4         5  \\\n",
      "11408  -2.248636  -9.143990 -7.781368  -1.733500 -0.840036 -0.098615   \n",
      "3616   -8.405453  12.071984 -1.743248  -3.189389 -1.163217  0.895615   \n",
      "9747   21.492823   3.005786  3.347923  -1.100967 -1.638999  4.087186   \n",
      "6915  -12.314317  -3.291711  0.536032   5.664044  3.613076  2.868855   \n",
      "4888   -3.691460   9.611960 -2.253286  -1.473136 -0.828848  0.198434   \n",
      "...          ...        ...       ...        ...       ...       ...   \n",
      "10955   1.250090   6.814649 -0.973645  11.783412 -0.390814  0.898112   \n",
      "17289 -14.840370   0.456261  4.888221   9.242828 -1.943980 -2.678756   \n",
      "5192   -3.879322   1.898334 -2.188115   5.584607  2.923353  2.372623   \n",
      "12172  -2.521931   0.534134 -2.666053   5.133602 -2.017707 -6.379038   \n",
      "235     7.683032  10.980227 -1.188711   0.604425  2.099032  2.426074   \n",
      "\n",
      "              6         7         8         9  ...      2105      2106  \\\n",
      "11408 -1.097777 -0.100142 -0.012249 -0.151186  ... -0.061065 -0.142926   \n",
      "3616  -4.978249 -0.874919  0.556239 -0.207127  ... -0.005989  0.080757   \n",
      "9747  -1.111167  1.427730 -0.138394 -1.543792  ...  0.032787  0.055267   \n",
      "6915   0.713406  1.507961  3.088880 -0.436238  ... -0.010382  0.234660   \n",
      "4888   1.249163  0.884653 -1.042741  0.201714  ... -0.047767 -0.216759   \n",
      "...         ...       ...       ...       ...  ...       ...       ...   \n",
      "10955  4.572942  2.324158 -0.243151 -0.568664  ... -0.017554 -0.176141   \n",
      "17289  1.111040 -0.619673 -0.909682 -0.375615  ... -0.089618 -0.019767   \n",
      "5192  -2.254700  1.309220  2.112124 -1.081535  ... -0.064364 -0.031977   \n",
      "12172  1.647984 -1.428918  2.459176 -0.253702  ...  0.057474 -0.057842   \n",
      "235   -0.219293 -0.297432  1.042607  2.051525  ...  0.023858 -0.020562   \n",
      "\n",
      "           2107      2108      2109      2110      2111      2112      2113  \\\n",
      "11408 -0.176121  0.130308 -0.049872 -0.022622 -0.119103  0.034069  0.014300   \n",
      "3616  -0.030782 -0.022670 -0.010967 -0.007319 -0.133375  0.025194  0.070056   \n",
      "9747  -0.056138 -0.054752  0.069586 -0.066447  0.005457 -0.005887  0.036595   \n",
      "6915  -0.044596 -0.016144  0.015313 -0.100636  0.075998 -0.025697  0.012905   \n",
      "4888  -0.065430  0.037178 -0.081003  0.004419  0.004463  0.062426  0.027449   \n",
      "...         ...       ...       ...       ...       ...       ...       ...   \n",
      "10955 -0.032934  0.057585 -0.040501 -0.020303  0.030119 -0.002306 -0.026639   \n",
      "17289 -0.031092 -0.044475 -0.015604 -0.001178  0.001326 -0.093870 -0.196661   \n",
      "5192  -0.119742  0.026432  0.092705  0.043000  0.133112 -0.160592 -0.101555   \n",
      "12172  0.069053  0.099768 -0.083533  0.017208  0.122247 -0.057429 -0.029051   \n",
      "235   -0.034757  0.000626  0.091321 -0.071964  0.034789  0.005434  0.110629   \n",
      "\n",
      "           2114  \n",
      "11408  0.148115  \n",
      "3616  -0.022911  \n",
      "9747   0.086660  \n",
      "6915  -0.077481  \n",
      "4888   0.087266  \n",
      "...         ...  \n",
      "10955 -0.004995  \n",
      "17289  0.066798  \n",
      "5192   0.095824  \n",
      "12172 -0.005426  \n",
      "235   -0.028760  \n",
      "\n",
      "[14000 rows x 2115 columns]\n"
     ]
    }
   ],
   "source": [
    "print(X_train)"
   ]
  },
  {
   "cell_type": "code",
   "execution_count": 11,
   "id": "1ed15c55",
   "metadata": {
    "scrolled": true
   },
   "outputs": [
    {
     "name": "stdout",
     "output_type": "stream",
     "text": [
      "               0          1          2         3         4         5  \\\n",
      "11456  -5.786971  15.892533  -0.990600  0.177045 -1.172815  1.928713   \n",
      "16528 -15.800930 -12.090265  -0.897042 -0.139967 -1.990583 -4.482400   \n",
      "3253   21.760777  -1.699984   3.787650  1.380079 -5.518615  1.712931   \n",
      "18614  -9.435073  -3.035465  -3.264546  4.533225  0.880271 -1.044563   \n",
      "1544    3.476434  10.189993  -3.258479 -1.772435  0.122395  0.232063   \n",
      "...          ...        ...        ...       ...       ...       ...   \n",
      "12696   8.022386  -4.826607  -2.647975  1.400437 -6.806574  3.003703   \n",
      "14288  -0.626596   0.486542  -3.666177  5.307048 -0.378192 -0.583206   \n",
      "18768 -21.056020   4.791933   9.517598 -5.331087  1.071535 -2.912932   \n",
      "3950  -13.447669 -10.114277  -4.235023 -1.196568 -0.561449 -1.816325   \n",
      "8871   38.799770  -5.864591  11.868583 -1.157948  0.524142 -0.593029   \n",
      "\n",
      "              6         7         8         9  ...      2105      2106  \\\n",
      "11456 -0.535719 -0.794647 -0.070952  0.627668  ...  0.035518 -0.058456   \n",
      "16528 -0.134667  2.182024  0.684796  1.782012  ...  0.106865  0.035414   \n",
      "3253  -0.112053 -3.179350 -6.614129  2.039212  ... -0.076696 -0.005144   \n",
      "18614  0.549795  0.351549 -0.338666  0.539936  ...  0.112233 -0.066640   \n",
      "1544   3.165997  0.843847 -0.423166 -0.028787  ... -0.018555  0.045977   \n",
      "...         ...       ...       ...       ...  ...       ...       ...   \n",
      "12696  2.738437 -2.127073  1.493201 -4.060775  ... -0.106817  0.057686   \n",
      "14288  2.194632 -2.043231 -0.313827 -1.058108  ...  0.078032  0.035663   \n",
      "18768  3.771350  0.190053 -0.173820 -0.299361  ...  0.159792 -0.193357   \n",
      "3950  -2.332463  1.102793 -2.306055 -0.189788  ...  0.054918 -0.118390   \n",
      "8871  -0.430194 -0.238389  0.186461  0.044525  ...  0.027263 -0.015242   \n",
      "\n",
      "           2107      2108      2109      2110      2111      2112      2113  \\\n",
      "11456 -0.077720  0.063509  0.063598 -0.014136 -0.042834  0.096390 -0.036655   \n",
      "16528 -0.012151  0.013440 -0.059749 -0.079097 -0.134589  0.052859 -0.016654   \n",
      "3253  -0.003474 -0.011519 -0.091114  0.035773  0.020587 -0.061881 -0.022000   \n",
      "18614 -0.041019 -0.025176  0.023006  0.062410  0.018315 -0.060491 -0.023106   \n",
      "1544   0.068734 -0.078078  0.016767  0.017588  0.018741  0.066719 -0.033212   \n",
      "...         ...       ...       ...       ...       ...       ...       ...   \n",
      "12696  0.108139  0.097086 -0.167974  0.048005 -0.035107  0.050394 -0.033670   \n",
      "14288 -0.022176  0.105699 -0.007171 -0.084992 -0.022423 -0.059858 -0.075205   \n",
      "18768  0.028459 -0.051966  0.056965 -0.211884  0.123318  0.051365  0.048959   \n",
      "3950  -0.117489 -0.005556  0.116507  0.315283 -0.189359  0.024508  0.226017   \n",
      "8871   0.011822 -0.026101  0.000692 -0.023308  0.000158  0.017828  0.003318   \n",
      "\n",
      "           2114  \n",
      "11456  0.047851  \n",
      "16528 -0.074637  \n",
      "3253   0.024907  \n",
      "18614 -0.030563  \n",
      "1544   0.085464  \n",
      "...         ...  \n",
      "12696 -0.108085  \n",
      "14288  0.026159  \n",
      "18768  0.118487  \n",
      "3950   0.022636  \n",
      "8871  -0.001566  \n",
      "\n",
      "[6000 rows x 2115 columns]\n"
     ]
    }
   ],
   "source": [
    "print(X_test)"
   ]
  },
  {
   "cell_type": "code",
   "execution_count": 12,
   "id": "b0c800ac",
   "metadata": {},
   "outputs": [
    {
     "name": "stdout",
     "output_type": "stream",
     "text": [
      "11408    1\n",
      "3616     1\n",
      "9747     1\n",
      "6915     1\n",
      "4888     1\n",
      "        ..\n",
      "10955    1\n",
      "17289    1\n",
      "5192     1\n",
      "12172    1\n",
      "235      1\n",
      "Name: label, Length: 14000, dtype: int64\n"
     ]
    }
   ],
   "source": [
    "print(y_train)"
   ]
  },
  {
   "cell_type": "code",
   "execution_count": 13,
   "id": "ead1b1bd",
   "metadata": {},
   "outputs": [
    {
     "name": "stdout",
     "output_type": "stream",
     "text": [
      "11456    1\n",
      "16528    1\n",
      "3253     0\n",
      "18614    1\n",
      "1544     1\n",
      "        ..\n",
      "12696    1\n",
      "14288    1\n",
      "18768    0\n",
      "3950     1\n",
      "8871     0\n",
      "Name: label, Length: 6000, dtype: int64\n"
     ]
    }
   ],
   "source": [
    "print(y_test)"
   ]
  },
  {
   "cell_type": "code",
   "execution_count": 14,
   "id": "d3033170",
   "metadata": {},
   "outputs": [],
   "source": [
    "# results to be able too print and compare them later\n",
    "\n",
    "printResults = []"
   ]
  },
  {
   "cell_type": "code",
   "execution_count": 15,
   "id": "a4e2f0fb",
   "metadata": {},
   "outputs": [
    {
     "name": "stdout",
     "output_type": "stream",
     "text": [
      "The Decision Tree Accuracy Score is: 0.7205\n"
     ]
    }
   ],
   "source": [
    "# decision tree classifier object\n",
    "dTree = DecisionTreeClassifier(random_state=1)\n",
    "\n",
    "# fitting/training dataset\n",
    "dTree.fit(X_train, y_train)\n",
    "\n",
    "# predicting the labels\n",
    "y_predict = dTree.predict(X_test)\n",
    "\n",
    "# calculating the accuracy\n",
    "score = accuracy_score(y_test, y_predict)\n",
    "print(\"The Decision Tree Accuracy Score is: \" + str(score))"
   ]
  },
  {
   "cell_type": "code",
   "execution_count": 16,
   "id": "3cb458e9",
   "metadata": {},
   "outputs": [
    {
     "name": "stdout",
     "output_type": "stream",
     "text": [
      "[0.         0.27785146 1.        ]\n",
      "\n",
      "\n",
      "[0.         0.71883378 1.        ]\n"
     ]
    }
   ],
   "source": [
    "# estimating the probability \n",
    "y_predict_prob = dTree.predict_proba(X_test)\n",
    "\n",
    "# calculating false and true positive rates\n",
    "fpr_dtree, tpr_dtree, thresholds = metrics.roc_curve(y_test, y_predict_prob[:,1], pos_label=1)\n",
    "\n",
    "print(fpr_dtree)\n",
    "print(\"\\n\")\n",
    "print(tpr_dtree)"
   ]
  },
  {
   "cell_type": "code",
   "execution_count": 17,
   "id": "e36e3fee",
   "metadata": {},
   "outputs": [
    {
     "name": "stdout",
     "output_type": "stream",
     "text": [
      "AUC: 0.720491160637458\n"
     ]
    }
   ],
   "source": [
    "# AUC\n",
    "AUC_dtree = metrics.auc(fpr_dtree, tpr_dtree)\n",
    "print(\"AUC: \" + str(AUC_dtree))"
   ]
  },
  {
   "cell_type": "code",
   "execution_count": 18,
   "id": "48952a44",
   "metadata": {},
   "outputs": [],
   "source": [
    "printResults.append(\"Decision Tree:Accuracy: \" + str(score))\n",
    "printResults.append(\"AUC: \" + str(AUC_dtree))"
   ]
  },
  {
   "cell_type": "code",
   "execution_count": 19,
   "id": "d8b19e44",
   "metadata": {},
   "outputs": [
    {
     "name": "stdout",
     "output_type": "stream",
     "text": [
      "['Decision Tree:Accuracy: 0.7205', 'AUC: 0.720491160637458']\n"
     ]
    }
   ],
   "source": [
    "print(printResults)"
   ]
  },
  {
   "cell_type": "code",
   "execution_count": 20,
   "id": "d231ee9b",
   "metadata": {},
   "outputs": [
    {
     "data": {
      "image/png": "[encoded data removed]",
      "text/plain": [
       "<Figure size 640x480 with 1 Axes>"
      ]
     },
     "metadata": {},
     "output_type": "display_data"
    }
   ],
   "source": [
    "# Importing the \"pyplot\" package of \"matplotlib\" library of python to generate \n",
    "# graphs and plot curves:\n",
    "import matplotlib.pyplot as plt\n",
    "\n",
    "# The following line will tell Jupyter Notebook to keep the figures inside the explorer page \n",
    "# rather than openng a new figure window:\n",
    "%matplotlib inline\n",
    "\n",
    "plt.figure()\n",
    "\n",
    "# Roc Curve:\n",
    "\n",
    "plt.plot(fpr_dtree, tpr_dtree, color='red', lw=2, \n",
    "         label='ROC Curve Decision Tree (area = %0.2f)' % AUC_dtree)\n",
    "\n",
    "# plt.plot(fpr, tpr, color='red', lw=2, \n",
    "         # label='ROC Curve (area = %0.2f)' % AUC)\n",
    "\n",
    "# Random Guess line:\n",
    "plt.plot([0, 1], [0, 1], color='blue', lw=1, linestyle='--')\n",
    "\n",
    "# Defining The Range of X-Axis and Y-Axis:\n",
    "plt.xlim([-0.005, 1.005])\n",
    "plt.ylim([0.0, 1.01])\n",
    "\n",
    "# Labels, Title, Legend:\n",
    "plt.xlabel('False Positive Rate')\n",
    "plt.ylabel('True Positive Rate')\n",
    "plt.title('Receiver operating characteristic')\n",
    "plt.legend(loc=\"lower right\")\n",
    "\n",
    "plt.show()"
   ]
  },
  {
   "cell_type": "code",
   "execution_count": 21,
   "id": "6ea6de8b",
   "metadata": {},
   "outputs": [
    {
     "name": "stdout",
     "output_type": "stream",
     "text": [
      "Decision Tree:Accuracy: 0.7205\n",
      "AUC: 0.720491160637458\n"
     ]
    }
   ],
   "source": [
    "for results in printResults:\n",
    "    print(results)"
   ]
  },
  {
   "cell_type": "code",
   "execution_count": null,
   "id": "5e67fe87",
   "metadata": {},
   "outputs": [],
   "source": []
  },
  {
   "cell_type": "code",
   "execution_count": null,
   "id": "8f643db9",
   "metadata": {},
   "outputs": [],
   "source": []
  },
  {
   "cell_type": "code",
   "execution_count": 22,
   "id": "017d8f3c",
   "metadata": {},
   "outputs": [],
   "source": [
    "# 1 Hidden Layer with 100 neurons:\n",
    "my_ANN = MLPClassifier(hidden_layer_sizes=(100,), activation= 'logistic', \n",
    "                       solver='adam', alpha=1, random_state=1, \n",
    "                       learning_rate_init = 0.2, verbose=True)"
   ]
  },
  {
   "cell_type": "code",
   "execution_count": 23,
   "id": "559afa6c",
   "metadata": {},
   "outputs": [
    {
     "name": "stdout",
     "output_type": "stream",
     "text": [
      "Iteration 1, loss = 2.35700550\n",
      "Iteration 2, loss = 0.97308977\n",
      "Iteration 3, loss = 1.02964508\n",
      "Iteration 4, loss = 0.99787030\n",
      "Iteration 5, loss = 0.99079358\n",
      "Iteration 6, loss = 1.01648442\n",
      "Iteration 7, loss = 1.01717796\n",
      "Iteration 8, loss = 1.01054669\n",
      "Iteration 9, loss = 0.97114483\n",
      "Iteration 10, loss = 0.94520268\n",
      "Iteration 11, loss = 0.93865829\n",
      "Iteration 12, loss = 0.99377280\n",
      "Iteration 13, loss = 0.92222109\n",
      "Iteration 14, loss = 0.92301101\n",
      "Iteration 15, loss = 0.88914110\n",
      "Iteration 16, loss = 0.89536181\n",
      "Iteration 17, loss = 0.89529418\n",
      "Iteration 18, loss = 0.90256218\n",
      "Iteration 19, loss = 0.89563479\n",
      "Iteration 20, loss = 0.88114109\n",
      "Iteration 21, loss = 0.86017445\n",
      "Iteration 22, loss = 0.85900590\n",
      "Iteration 23, loss = 0.84786297\n",
      "Iteration 24, loss = 0.82656498\n",
      "Iteration 25, loss = 0.83725990\n",
      "Iteration 26, loss = 0.82773987\n",
      "Iteration 27, loss = 0.85044975\n",
      "Iteration 28, loss = 0.83997579\n",
      "Iteration 29, loss = 0.85453916\n",
      "Iteration 30, loss = 0.84593978\n",
      "Iteration 31, loss = 0.80282949\n",
      "Iteration 32, loss = 0.83586281\n",
      "Iteration 33, loss = 0.85788254\n",
      "Iteration 34, loss = 0.84248065\n",
      "Iteration 35, loss = 0.86111000\n",
      "Iteration 36, loss = 0.85022931\n",
      "Iteration 37, loss = 0.84535031\n",
      "Iteration 38, loss = 0.83576781\n",
      "Iteration 39, loss = 0.83374223\n",
      "Iteration 40, loss = 0.84023927\n",
      "Iteration 41, loss = 0.83363991\n",
      "Iteration 42, loss = 0.83868514\n",
      "Training loss did not improve more than tol=0.000100 for 10 consecutive epochs. Stopping.\n"
     ]
    },
    {
     "data": {
      "text/html": [
       "<style>#sk-container-id-1 {color: black;background-color: white;}#sk-container-id-1 pre{padding: 0;}#sk-container-id-1 div.sk-toggleable {background-color: white;}#sk-container-id-1 label.sk-toggleable__label {cursor: pointer;display: block;width: 100%;margin-bottom: 0;padding: 0.3em;box-sizing: border-box;text-align: center;}#sk-container-id-1 label.sk-toggleable__label-arrow:before {content: \"▸\";float: left;margin-right: 0.25em;color: #696969;}#sk-container-id-1 label.sk-toggleable__label-arrow:hover:before {color: black;}#sk-container-id-1 div.sk-estimator:hover label.sk-toggleable__label-arrow:before {color: black;}#sk-container-id-1 div.sk-toggleable__content {max-height: 0;max-width: 0;overflow: hidden;text-align: left;background-color: #f0f8ff;}#sk-container-id-1 div.sk-toggleable__content pre {margin: 0.2em;color: black;border-radius: 0.25em;background-color: #f0f8ff;}#sk-container-id-1 input.sk-toggleable__control:checked~div.sk-toggleable__content {max-height: 200px;max-width: 100%;overflow: auto;}#sk-container-id-1 input.sk-toggleable__control:checked~label.sk-toggleable__label-arrow:before {content: \"▾\";}#sk-container-id-1 div.sk-estimator input.sk-toggleable__control:checked~label.sk-toggleable__label {background-color: #d4ebff;}#sk-container-id-1 div.sk-label input.sk-toggleable__control:checked~label.sk-toggleable__label {background-color: #d4ebff;}#sk-container-id-1 input.sk-hidden--visually {border: 0;clip: rect(1px 1px 1px 1px);clip: rect(1px, 1px, 1px, 1px);height: 1px;margin: -1px;overflow: hidden;padding: 0;position: absolute;width: 1px;}#sk-container-id-1 div.sk-estimator {font-family: monospace;background-color: #f0f8ff;border: 1px dotted black;border-radius: 0.25em;box-sizing: border-box;margin-bottom: 0.5em;}#sk-container-id-1 div.sk-estimator:hover {background-color: #d4ebff;}#sk-container-id-1 div.sk-parallel-item::after {content: \"\";width: 100%;border-bottom: 1px solid gray;flex-grow: 1;}#sk-container-id-1 div.sk-label:hover label.sk-toggleable__label {background-color: #d4ebff;}#sk-container-id-1 div.sk-serial::before {content: \"\";position: absolute;border-left: 1px solid gray;box-sizing: border-box;top: 0;bottom: 0;left: 50%;z-index: 0;}#sk-container-id-1 div.sk-serial {display: flex;flex-direction: column;align-items: center;background-color: white;padding-right: 0.2em;padding-left: 0.2em;position: relative;}#sk-container-id-1 div.sk-item {position: relative;z-index: 1;}#sk-container-id-1 div.sk-parallel {display: flex;align-items: stretch;justify-content: center;background-color: white;position: relative;}#sk-container-id-1 div.sk-item::before, #sk-container-id-1 div.sk-parallel-item::before {content: \"\";position: absolute;border-left: 1px solid gray;box-sizing: border-box;top: 0;bottom: 0;left: 50%;z-index: -1;}#sk-container-id-1 div.sk-parallel-item {display: flex;flex-direction: column;z-index: 1;position: relative;background-color: white;}#sk-container-id-1 div.sk-parallel-item:first-child::after {align-self: flex-end;width: 50%;}#sk-container-id-1 div.sk-parallel-item:last-child::after {align-self: flex-start;width: 50%;}#sk-container-id-1 div.sk-parallel-item:only-child::after {width: 0;}#sk-container-id-1 div.sk-dashed-wrapped {border: 1px dashed gray;margin: 0 0.4em 0.5em 0.4em;box-sizing: border-box;padding-bottom: 0.4em;background-color: white;}#sk-container-id-1 div.sk-label label {font-family: monospace;font-weight: bold;display: inline-block;line-height: 1.2em;}#sk-container-id-1 div.sk-label-container {text-align: center;}#sk-container-id-1 div.sk-container {/* jupyter's `normalize.less` sets `[hidden] { display: none; }` but bootstrap.min.css set `[hidden] { display: none !important; }` so we also need the `!important` here to be able to override the default hidden behavior on the sphinx rendered scikit-learn.org. See: https://github.com/scikit-learn/scikit-learn/issues/21755 */display: inline-block !important;position: relative;}#sk-container-id-1 div.sk-text-repr-fallback {display: none;}</style><div id=\"sk-container-id-1\" class=\"sk-top-container\"><div class=\"sk-text-repr-fallback\"><pre>MLPClassifier(activation=&#x27;logistic&#x27;, alpha=1, learning_rate_init=0.2,\n",
       "              random_state=1, verbose=True)</pre><b>In a Jupyter environment, please rerun this cell to show the HTML representation or trust the notebook. <br />On GitHub, the HTML representation is unable to render, please try loading this page with nbviewer.org.</b></div><div class=\"sk-container\" hidden><div class=\"sk-item\"><div class=\"sk-estimator sk-toggleable\"><input class=\"sk-toggleable__control sk-hidden--visually\" id=\"sk-estimator-id-1\" type=\"checkbox\" checked><label for=\"sk-estimator-id-1\" class=\"sk-toggleable__label sk-toggleable__label-arrow\">MLPClassifier</label><div class=\"sk-toggleable__content\"><pre>MLPClassifier(activation=&#x27;logistic&#x27;, alpha=1, learning_rate_init=0.2,\n",
       "              random_state=1, verbose=True)</pre></div></div></div></div></div>"
      ],
      "text/plain": [
       "MLPClassifier(activation='logistic', alpha=1, learning_rate_init=0.2,\n",
       "              random_state=1, verbose=True)"
      ]
     },
     "execution_count": 23,
     "metadata": {},
     "output_type": "execute_result"
    }
   ],
   "source": [
    "# Training ONLY on the training set:\n",
    "my_ANN.fit(X_train, y_train)\n"
   ]
  },
  {
   "cell_type": "code",
   "execution_count": 24,
   "id": "32c4e83d",
   "metadata": {},
   "outputs": [
    {
     "name": "stdout",
     "output_type": "stream",
     "text": [
      "[array([[-1.16502741e-03, -4.19941793e-04, -1.17942979e-04, ...,\n",
      "        -7.58315209e-04, -3.65806186e-01, -1.06813474e-05],\n",
      "       [ 8.92976958e-04,  3.97991187e-04,  8.94595127e-05, ...,\n",
      "         7.09777393e-04,  4.36608265e-01,  1.61680728e-05],\n",
      "       [ 6.94842979e-05, -2.70745279e-05, -5.68592402e-06, ...,\n",
      "         2.60128256e-04, -5.12998540e-01, -4.00267526e-06],\n",
      "       ...,\n",
      "       [-2.83740242e-04,  6.26411271e-04, -9.50999567e-03, ...,\n",
      "        -4.12788742e-03, -6.40743240e-02, -2.03584073e-04],\n",
      "       [ 4.19983434e-04,  7.49586980e-04, -1.05292189e-05, ...,\n",
      "        -1.21468674e-03, -5.93765321e-02, -8.28794420e-05],\n",
      "       [-4.94559900e-04,  1.71700471e-04, -7.63917621e-07, ...,\n",
      "         3.08849156e-04, -2.79839826e-02,  5.92799176e-05]]), array([[ 1.44265943e-03],\n",
      "       [ 3.45387335e-04],\n",
      "       [ 1.51844265e-04],\n",
      "       [ 3.92937585e-05],\n",
      "       [ 1.68943815e-04],\n",
      "       [ 1.21949593e-05],\n",
      "       [ 8.98057730e-05],\n",
      "       [-1.46040969e-04],\n",
      "       [ 3.00751859e-04],\n",
      "       [ 2.39585849e-04],\n",
      "       [ 8.17287267e-04],\n",
      "       [ 1.38781577e-04],\n",
      "       [ 4.34509555e-04],\n",
      "       [ 1.66529967e-06],\n",
      "       [ 4.14680250e-04],\n",
      "       [ 3.89371579e-04],\n",
      "       [-3.45828416e-04],\n",
      "       [ 3.69082149e-04],\n",
      "       [ 2.24902574e-04],\n",
      "       [-6.43902142e-05],\n",
      "       [ 3.93252157e-04],\n",
      "       [ 3.32404670e-04],\n",
      "       [ 4.76618715e-04],\n",
      "       [ 1.77302712e-04],\n",
      "       [ 7.72192906e-04],\n",
      "       [ 5.81370502e-06],\n",
      "       [ 2.44394918e-05],\n",
      "       [ 1.09652792e+00],\n",
      "       [ 9.65445018e-06],\n",
      "       [-3.56585252e-05],\n",
      "       [ 8.13665416e-04],\n",
      "       [-4.74907656e-04],\n",
      "       [ 8.22366616e-04],\n",
      "       [-5.40989966e-04],\n",
      "       [ 1.17881950e-03],\n",
      "       [ 1.22238115e-04],\n",
      "       [-9.95329454e-01],\n",
      "       [ 7.66110661e-05],\n",
      "       [ 2.61939400e-04],\n",
      "       [-4.55852943e-04],\n",
      "       [-6.34017343e-02],\n",
      "       [-8.74050203e-05],\n",
      "       [ 5.78123095e-04],\n",
      "       [ 5.56766715e-04],\n",
      "       [ 1.02616875e-03],\n",
      "       [-4.68940548e-04],\n",
      "       [-5.99558265e-05],\n",
      "       [-1.61392168e-06],\n",
      "       [ 4.93052615e-04],\n",
      "       [ 6.19415224e-04],\n",
      "       [-3.35461213e-04],\n",
      "       [ 6.42481799e-07],\n",
      "       [ 6.36939821e-04],\n",
      "       [ 2.57979973e-05],\n",
      "       [ 1.54575775e-04],\n",
      "       [ 9.73234754e-05],\n",
      "       [ 3.00485568e-05],\n",
      "       [ 6.06691817e-04],\n",
      "       [ 2.98627074e-04],\n",
      "       [ 2.21981371e-04],\n",
      "       [ 1.44533115e-04],\n",
      "       [ 1.63898901e-04],\n",
      "       [-1.60892636e-04],\n",
      "       [ 3.97357878e-04],\n",
      "       [-6.29369851e-02],\n",
      "       [-1.09374528e+00],\n",
      "       [ 3.77675884e-04],\n",
      "       [ 4.06552500e-04],\n",
      "       [ 3.26067945e-04],\n",
      "       [ 4.64794846e-04],\n",
      "       [ 1.49004337e-06],\n",
      "       [ 7.48767500e-04],\n",
      "       [ 4.69792067e-05],\n",
      "       [ 1.57305966e-05],\n",
      "       [-2.89136341e-04],\n",
      "       [ 5.16149250e-04],\n",
      "       [ 1.19655305e+00],\n",
      "       [-1.70698930e-06],\n",
      "       [ 5.68755040e-04],\n",
      "       [-2.12756694e-04],\n",
      "       [ 8.80613333e-04],\n",
      "       [ 4.05967198e-05],\n",
      "       [ 9.43682313e-05],\n",
      "       [ 5.57296962e-01],\n",
      "       [ 1.09296540e-03],\n",
      "       [ 4.40924342e-07],\n",
      "       [ 3.33205506e-04],\n",
      "       [ 8.62969490e-04],\n",
      "       [ 2.67643342e-04],\n",
      "       [ 7.41333317e-05],\n",
      "       [-1.21898313e-05],\n",
      "       [-2.37474673e-06],\n",
      "       [-1.30686261e-04],\n",
      "       [ 6.14401210e-04],\n",
      "       [-6.63586620e-01],\n",
      "       [ 7.91156436e-05],\n",
      "       [ 1.29774853e-05],\n",
      "       [ 7.64255669e-04],\n",
      "       [ 7.27674752e-01],\n",
      "       [ 1.12538754e-05]])]\n",
      "\n",
      "\n",
      "[array([ -5.49417666,  -5.90142257,  -6.68974862,  -7.93851489,\n",
      "        -6.19329084,  -9.35935539,  -5.71062768,  -5.57522018,\n",
      "        -5.67526454,  -6.10992276,  -5.82816672,  -6.38480724,\n",
      "        -5.4342494 ,  -9.00943315,  -5.66868151,  -5.58424957,\n",
      "        -5.80581584,  -5.9372594 ,  -5.75357929,  -5.86415404,\n",
      "        -5.61736958,  -5.9368212 ,  -5.78327292,  -5.83396557,\n",
      "        -5.69109114,  -9.89405288,  -8.40476468,  -5.01390271,\n",
      "        -9.19440102,  -5.49290915,  -5.29022395,  -5.96197947,\n",
      "        -5.71170607,  -5.94055138,  -5.30280504,  -5.80133826,\n",
      "       -10.45167747,  -7.27073705,  -6.10197399,  -5.90701621,\n",
      "         5.9134919 ,  -5.5466088 ,  -5.51797981,  -5.81903657,\n",
      "        -5.41124369,  -5.78378214,  -5.83418895,  -5.62561633,\n",
      "        -5.84741069,  -5.47577931,  -5.74100093, -10.49634207,\n",
      "        -5.60046481,  -8.03918025,  -5.57911392,  -6.31947467,\n",
      "        -8.24270679,  -5.55837889,  -5.58162692,  -6.14455723,\n",
      "        -6.88367162,  -5.64093392,  -5.77629875,  -5.53898492,\n",
      "         7.61901082,  -5.22177675,  -5.61380357,  -5.74208445,\n",
      "        -5.55859235,  -5.62006215, -11.19147486,  -5.74930367,\n",
      "        -7.28301137,  -8.89861411,  -5.95631473,  -5.76747745,\n",
      "        10.50028391,  -7.13061193,  -5.72808504,  -5.8343049 ,\n",
      "        -5.81998923,  -5.67605299,  -7.05661625,   4.67419822,\n",
      "        -5.7422467 , -11.44737821,  -5.43802997,  -5.54486463,\n",
      "        -5.53084536,  -6.80974474,  -6.77690424,  -9.9289172 ,\n",
      "        -5.70412986,  -5.78644104,  -6.10837337,  -5.99877364,\n",
      "        -8.73548169,  -5.56090385,  -3.53454325,  -7.32639814]), array([-1.4137518])]\n"
     ]
    }
   ],
   "source": [
    "# Weights:\n",
    "print(my_ANN.coefs_)\n",
    "# The ith element in the list represents the weight matrix corresponding to layer i.\n",
    "\n",
    "print('\\n')\n",
    "\n",
    "# Bias weights:\n",
    "print(my_ANN.intercepts_)\n",
    "# The ith element in the list represents the bias vector corresponding to layer i + 1."
   ]
  },
  {
   "cell_type": "code",
   "execution_count": 25,
   "id": "5b705473",
   "metadata": {},
   "outputs": [
    {
     "name": "stdout",
     "output_type": "stream",
     "text": [
      "[1 0 0 ... 0 0 0]\n"
     ]
    }
   ],
   "source": [
    "# Testing on the testing set:\n",
    "y_predict_ann = my_ANN.predict(X_test)\n",
    "print(y_predict_ann)"
   ]
  },
  {
   "cell_type": "code",
   "execution_count": 26,
   "id": "836e2b0c",
   "metadata": {},
   "outputs": [
    {
     "name": "stdout",
     "output_type": "stream",
     "text": [
      "\n",
      " accuracy:  0.7678333333333334\n"
     ]
    }
   ],
   "source": [
    "# We can now compare the \"predicted labels\" for the Testing Set with its \"actual labels\" to evaluate the accuracy \n",
    "\n",
    "score_ann = accuracy_score(y_test, y_predict_ann)\n",
    "print('\\n','accuracy: ',score_ann)\n"
   ]
  },
  {
   "cell_type": "code",
   "execution_count": 27,
   "id": "9083a184",
   "metadata": {
    "scrolled": true
   },
   "outputs": [
    {
     "name": "stdout",
     "output_type": "stream",
     "text": [
      "Iteration 1, loss = 0.54781077\n",
      "Iteration 2, loss = 0.46494686\n",
      "Iteration 3, loss = 0.43922183\n",
      "Iteration 4, loss = 0.41980870\n",
      "Iteration 5, loss = 0.40366788\n",
      "Iteration 6, loss = 0.38898756\n",
      "Iteration 7, loss = 0.38085413\n",
      "Iteration 8, loss = 0.37793107\n",
      "Iteration 9, loss = 0.36361952\n",
      "Iteration 10, loss = 0.35984192\n",
      "Iteration 11, loss = 0.35680155\n",
      "Iteration 12, loss = 0.34851742\n",
      "Iteration 13, loss = 0.34483105\n",
      "Iteration 14, loss = 0.33821728\n",
      "Iteration 15, loss = 0.33412378\n",
      "Iteration 16, loss = 0.32985450\n",
      "Iteration 17, loss = 0.33212524\n",
      "Iteration 18, loss = 0.32418927\n",
      "Iteration 19, loss = 0.32437558\n",
      "Iteration 20, loss = 0.32145871\n",
      "Iteration 21, loss = 0.31628162\n",
      "Iteration 22, loss = 0.31022155\n",
      "Iteration 23, loss = 0.31161955\n",
      "Iteration 24, loss = 0.31366143\n",
      "Iteration 25, loss = 0.31473477\n",
      "Iteration 26, loss = 0.30694341\n",
      "Iteration 27, loss = 0.30620563\n",
      "Iteration 28, loss = 0.30577380\n",
      "Iteration 29, loss = 0.29789846\n",
      "Iteration 30, loss = 0.29849561\n",
      "Iteration 31, loss = 0.29544892\n",
      "Iteration 32, loss = 0.29444807\n",
      "Iteration 33, loss = 0.29362093\n",
      "Iteration 34, loss = 0.29018072\n",
      "Iteration 35, loss = 0.28604585\n",
      "Iteration 36, loss = 0.28589897\n",
      "Iteration 37, loss = 0.28824112\n",
      "Iteration 38, loss = 0.28947417\n",
      "Iteration 39, loss = 0.29269319\n",
      "Iteration 40, loss = 0.28997653\n",
      "Iteration 41, loss = 0.28941815\n",
      "Iteration 42, loss = 0.28831945\n",
      "Iteration 43, loss = 0.28717040\n",
      "Iteration 44, loss = 0.28798468\n",
      "Iteration 45, loss = 0.28433653\n",
      "Iteration 46, loss = 0.28354549\n",
      "Iteration 47, loss = 0.28071815\n",
      "Iteration 48, loss = 0.28116916\n",
      "Iteration 49, loss = 0.28374572\n",
      "Iteration 50, loss = 0.28179466\n",
      "Iteration 51, loss = 0.28584543\n",
      "Iteration 52, loss = 0.28126591\n",
      "Iteration 53, loss = 0.27919271\n",
      "Iteration 54, loss = 0.28007586\n",
      "Iteration 55, loss = 0.27874774\n",
      "Iteration 56, loss = 0.27865795\n",
      "Iteration 57, loss = 0.27971911\n",
      "Iteration 58, loss = 0.28015333\n",
      "Iteration 59, loss = 0.28094150\n",
      "Iteration 60, loss = 0.27943605\n",
      "Iteration 61, loss = 0.27763753\n",
      "Iteration 62, loss = 0.27346781\n",
      "Iteration 63, loss = 0.27635636\n",
      "Iteration 64, loss = 0.27687275\n",
      "Iteration 65, loss = 0.27285726\n",
      "Iteration 66, loss = 0.27291601\n",
      "Iteration 67, loss = 0.27466272\n",
      "Iteration 68, loss = 0.27382725\n",
      "Iteration 69, loss = 0.27570846\n",
      "Iteration 70, loss = 0.27388372\n",
      "Iteration 71, loss = 0.26972500\n",
      "Iteration 72, loss = 0.26987271\n",
      "Iteration 73, loss = 0.26789918\n",
      "Iteration 74, loss = 0.26862575\n",
      "Iteration 75, loss = 0.26353533\n",
      "Iteration 76, loss = 0.26531711\n",
      "Iteration 77, loss = 0.26581218\n",
      "Iteration 78, loss = 0.26726090\n",
      "Iteration 79, loss = 0.27005513\n",
      "Iteration 80, loss = 0.26552172\n",
      "Iteration 81, loss = 0.27408217\n",
      "Iteration 82, loss = 0.26869338\n",
      "Iteration 83, loss = 0.27292971\n",
      "Iteration 84, loss = 0.27287317\n",
      "Iteration 85, loss = 0.26773941\n",
      "Iteration 86, loss = 0.26826008\n",
      "Training loss did not improve more than tol=0.000100 for 10 consecutive epochs. Stopping.\n",
      "\n",
      " accuracy:  0.764\n"
     ]
    }
   ],
   "source": [
    "# \"my_ANN\" is instantiated as an \"object\" of MLPClassifier \"class\". \n",
    "# hidden_layer_sizes: The ith element represents the number of neurons in the ith hidden layer.\n",
    "# activation: the non-linear function. 'logistic' means Sigmoid Function!\n",
    "# solver: the type of minimization problem: ‘sgd’ and 'adam' refer to stochastic gradient descent.\n",
    "# alpha: regularization parameter (L2 penalty term).\n",
    "# learning_rate_init: learning rate.\n",
    "\n",
    "# 2 Hidden Layers, first one with 6 neurons, second with 4 neurons:\n",
    "my_ANN = MLPClassifier(hidden_layer_sizes=(6,4), activation= 'logistic', \n",
    "                       solver='adam', alpha=1e-5, random_state=1, \n",
    "                       learning_rate_init = 0.1, verbose=True, tol=0.0001)\n",
    "\n",
    "# Training ONLY on the training set:\n",
    "my_ANN.fit(X_train, y_train)\n",
    "# Testing on the testing set:\n",
    "y_predict_ann = my_ANN.predict(X_test)\n",
    "#print(y_predict_ann)\n",
    "# We can now compare the \"predicted labels\" for the Testing Set with its \"actual labels\" to evaluate the accuracy \n",
    "score_ann = accuracy_score(y_test, y_predict_ann)\n",
    "print('\\n','accuracy: ',score_ann)"
   ]
  },
  {
   "cell_type": "code",
   "execution_count": 28,
   "id": "f5a37fa9",
   "metadata": {},
   "outputs": [
    {
     "name": "stdout",
     "output_type": "stream",
     "text": [
      "[array([[  5.90522558,   1.31341432,  -0.70385389,   7.22292573,\n",
      "         10.28791275,   3.53532374],\n",
      "       [ -6.26413595,  -4.43375703,   5.04731101,  -5.11951182,\n",
      "         10.00198818,  11.45517235],\n",
      "       [  5.44642967,   5.20662162,  -9.51531198,  11.60744768,\n",
      "         -2.44327674,  11.7160596 ],\n",
      "       ...,\n",
      "       [  4.72999877,  -4.0108808 ,  21.80086065,  -1.26638098,\n",
      "          1.21097855,   5.8592926 ],\n",
      "       [  4.02273125, -12.79988011,   0.30831936,   3.73650598,\n",
      "         -0.79875149,  -8.6467478 ],\n",
      "       [-10.26299206,  -0.66889168,   5.80102826, -11.16989203,\n",
      "          8.52321284,  -4.33646359]]), array([[ -6.0110601 ,   4.36728195,   0.75606254, -11.70019091],\n",
      "       [ -0.9210909 ,   2.43440209,   9.90852348,  -4.95857808],\n",
      "       [ -2.29154314,  -2.59011392,  -9.4593739 ,   4.39759847],\n",
      "       [ -5.96020022,   5.27885049,   6.92107405,  -1.35070729],\n",
      "       [ -5.45715291, -13.16364489,  -5.72030653,   3.5586657 ],\n",
      "       [  7.60980739,  10.8525046 ,  -6.15855564,   4.46203939]]), array([[ 2.66982828],\n",
      "       [-3.31955245],\n",
      "       [-2.30475727],\n",
      "       [ 1.95167222]])]\n",
      "\n",
      "\n",
      "[array([-24.02919508,  -5.35584677, -12.51358156, -22.59531806,\n",
      "         6.67461298,  16.19905117]), array([-2.39877355, -0.59116405, -0.39015347, -5.01919641]), array([1.8188892])]\n"
     ]
    }
   ],
   "source": [
    "# Weights:\n",
    "print(my_ANN.coefs_)\n",
    "# The ith element in the list represents the weight matrix corresponding to layer i.\n",
    "\n",
    "print('\\n')\n",
    "\n",
    "# Bias weights:\n",
    "print(my_ANN.intercepts_)\n",
    "# The ith element in the list represents the bias vector corresponding to layer i + 1."
   ]
  },
  {
   "cell_type": "code",
   "execution_count": 29,
   "id": "7d0a301a",
   "metadata": {},
   "outputs": [
    {
     "name": "stdout",
     "output_type": "stream",
     "text": [
      "[1 0 0 ... 0 0 0] \n",
      "\n",
      "[[0.01886604 0.98113396]\n",
      " [0.97737936 0.02262064]\n",
      " [0.97767317 0.02232683]\n",
      " ...\n",
      " [0.60292261 0.39707739]\n",
      " [0.9782337  0.0217663 ]\n",
      " [0.97798591 0.02201409]]\n"
     ]
    }
   ],
   "source": [
    "# Estimating the probability (likelihood) of Each Label: \n",
    "y_predict_prob_ann = my_ANN.predict_proba(X_test)\n",
    "print(y_predict_ann,'\\n')\n",
    "print(y_predict_prob_ann)"
   ]
  },
  {
   "cell_type": "code",
   "execution_count": 30,
   "id": "734ee4f3",
   "metadata": {},
   "outputs": [
    {
     "name": "stdout",
     "output_type": "stream",
     "text": [
      "[0.00000000e+00 3.31564987e-04 6.63129973e-04 ... 9.83753316e-01\n",
      " 9.99005305e-01 1.00000000e+00]\n",
      "\n",
      "\n",
      "\n",
      "\n",
      "[0.         0.         0.         ... 0.99664879 1.         1.        ]\n"
     ]
    }
   ],
   "source": [
    "from sklearn import metrics\n",
    "\n",
    "fpr, tpr, thresholds = metrics.roc_curve(y_test, y_predict_prob_ann[:,1], pos_label=1)\n",
    "\n",
    "print(fpr)\n",
    "print(\"\\n\\n\\n\")\n",
    "print(tpr)"
   ]
  },
  {
   "cell_type": "code",
   "execution_count": 31,
   "id": "178b5404",
   "metadata": {},
   "outputs": [
    {
     "name": "stdout",
     "output_type": "stream",
     "text": [
      "0.8260195512227904\n"
     ]
    }
   ],
   "source": [
    "# AUC:\n",
    "AUC = metrics.auc(fpr, tpr)\n",
    "print(AUC)"
   ]
  },
  {
   "cell_type": "code",
   "execution_count": 32,
   "id": "515f2bcf",
   "metadata": {},
   "outputs": [
    {
     "data": {
      "image/png": "[encoded data removed]",
      "text/plain": [
       "<Figure size 640x480 with 1 Axes>"
      ]
     },
     "metadata": {},
     "output_type": "display_data"
    }
   ],
   "source": [
    "# Importing the \"pyplot\" package of \"matplotlib\" library of python to generate \n",
    "# graphs and plot curves:\n",
    "import matplotlib.pyplot as plt\n",
    "\n",
    "# The following line will tell Jupyter Notebook to keep the figures inside the explorer page \n",
    "# rather than openng a new figure window:\n",
    "%matplotlib inline\n",
    "\n",
    "plt.figure()\n",
    "\n",
    "# Roc Curve:\n",
    "plt.plot(fpr, tpr, color='red', lw=2, \n",
    "         label='ROC Curve (area = %0.2f)' % AUC)\n",
    "\n",
    "# Random Guess line:\n",
    "plt.plot([0, 1], [0, 1], color='blue', lw=1, linestyle='--')\n",
    "\n",
    "# Defining The Range of X-Axis and Y-Axis:\n",
    "plt.xlim([-0.005, 1.005])\n",
    "plt.ylim([0.0, 1.01])\n",
    "\n",
    "# Labels, Title, Legend:\n",
    "plt.xlabel('False Positive Rate')\n",
    "plt.ylabel('True Positive Rate')\n",
    "plt.title('Receiver operating characteristic')\n",
    "plt.legend(loc=\"lower right\")\n",
    "\n",
    "plt.show()"
   ]
  },
  {
   "cell_type": "code",
   "execution_count": null,
   "id": "b973026d",
   "metadata": {},
   "outputs": [],
   "source": []
  },
  {
   "cell_type": "markdown",
   "id": "cc1edbf5",
   "metadata": {},
   "source": [
    "### Confusion Matrix \n",
    "#### https://scikit-learn.org/stable/modules/generated/sklearn.metrics.ConfusionMatrixDisplay.html\n",
    "#### https://scikit-learn.org/stable/auto_examples/miscellaneous/plot_display_object_visualization.html#sphx-glr-auto-examples-miscellaneous-plot-display-object-visualization-py\n"
   ]
  },
  {
   "cell_type": "code",
   "execution_count": 33,
   "id": "aa61849f",
   "metadata": {},
   "outputs": [],
   "source": [
    "import matplotlib.pyplot as plt\n",
    "from sklearn.datasets import make_classification\n",
    "from sklearn.metrics import confusion_matrix, ConfusionMatrixDisplay\n",
    "from sklearn.model_selection import train_test_split\n",
    "from sklearn.svm import SVC\n",
    "from sklearn.preprocessing import StandardScaler\n",
    "from sklearn.pipeline import make_pipeline\n",
    "from sklearn.linear_model import LogisticRegression\n",
    "from sklearn.model_selection import train_test_split\n",
    " \n",
    "\n",
    "\n",
    "X_train, X_test, y_train, y_test = train_test_split(result, label, random_state=0)"
   ]
  },
  {
   "cell_type": "code",
   "execution_count": 34,
   "id": "d9939ccc",
   "metadata": {},
   "outputs": [],
   "source": [
    "clf = SVC(random_state=0)"
   ]
  },
  {
   "cell_type": "code",
   "execution_count": 35,
   "id": "88c245a2",
   "metadata": {},
   "outputs": [
    {
     "data": {
      "text/html": [
       "<style>#sk-container-id-2 {color: black;background-color: white;}#sk-container-id-2 pre{padding: 0;}#sk-container-id-2 div.sk-toggleable {background-color: white;}#sk-container-id-2 label.sk-toggleable__label {cursor: pointer;display: block;width: 100%;margin-bottom: 0;padding: 0.3em;box-sizing: border-box;text-align: center;}#sk-container-id-2 label.sk-toggleable__label-arrow:before {content: \"▸\";float: left;margin-right: 0.25em;color: #696969;}#sk-container-id-2 label.sk-toggleable__label-arrow:hover:before {color: black;}#sk-container-id-2 div.sk-estimator:hover label.sk-toggleable__label-arrow:before {color: black;}#sk-container-id-2 div.sk-toggleable__content {max-height: 0;max-width: 0;overflow: hidden;text-align: left;background-color: #f0f8ff;}#sk-container-id-2 div.sk-toggleable__content pre {margin: 0.2em;color: black;border-radius: 0.25em;background-color: #f0f8ff;}#sk-container-id-2 input.sk-toggleable__control:checked~div.sk-toggleable__content {max-height: 200px;max-width: 100%;overflow: auto;}#sk-container-id-2 input.sk-toggleable__control:checked~label.sk-toggleable__label-arrow:before {content: \"▾\";}#sk-container-id-2 div.sk-estimator input.sk-toggleable__control:checked~label.sk-toggleable__label {background-color: #d4ebff;}#sk-container-id-2 div.sk-label input.sk-toggleable__control:checked~label.sk-toggleable__label {background-color: #d4ebff;}#sk-container-id-2 input.sk-hidden--visually {border: 0;clip: rect(1px 1px 1px 1px);clip: rect(1px, 1px, 1px, 1px);height: 1px;margin: -1px;overflow: hidden;padding: 0;position: absolute;width: 1px;}#sk-container-id-2 div.sk-estimator {font-family: monospace;background-color: #f0f8ff;border: 1px dotted black;border-radius: 0.25em;box-sizing: border-box;margin-bottom: 0.5em;}#sk-container-id-2 div.sk-estimator:hover {background-color: #d4ebff;}#sk-container-id-2 div.sk-parallel-item::after {content: \"\";width: 100%;border-bottom: 1px solid gray;flex-grow: 1;}#sk-container-id-2 div.sk-label:hover label.sk-toggleable__label {background-color: #d4ebff;}#sk-container-id-2 div.sk-serial::before {content: \"\";position: absolute;border-left: 1px solid gray;box-sizing: border-box;top: 0;bottom: 0;left: 50%;z-index: 0;}#sk-container-id-2 div.sk-serial {display: flex;flex-direction: column;align-items: center;background-color: white;padding-right: 0.2em;padding-left: 0.2em;position: relative;}#sk-container-id-2 div.sk-item {position: relative;z-index: 1;}#sk-container-id-2 div.sk-parallel {display: flex;align-items: stretch;justify-content: center;background-color: white;position: relative;}#sk-container-id-2 div.sk-item::before, #sk-container-id-2 div.sk-parallel-item::before {content: \"\";position: absolute;border-left: 1px solid gray;box-sizing: border-box;top: 0;bottom: 0;left: 50%;z-index: -1;}#sk-container-id-2 div.sk-parallel-item {display: flex;flex-direction: column;z-index: 1;position: relative;background-color: white;}#sk-container-id-2 div.sk-parallel-item:first-child::after {align-self: flex-end;width: 50%;}#sk-container-id-2 div.sk-parallel-item:last-child::after {align-self: flex-start;width: 50%;}#sk-container-id-2 div.sk-parallel-item:only-child::after {width: 0;}#sk-container-id-2 div.sk-dashed-wrapped {border: 1px dashed gray;margin: 0 0.4em 0.5em 0.4em;box-sizing: border-box;padding-bottom: 0.4em;background-color: white;}#sk-container-id-2 div.sk-label label {font-family: monospace;font-weight: bold;display: inline-block;line-height: 1.2em;}#sk-container-id-2 div.sk-label-container {text-align: center;}#sk-container-id-2 div.sk-container {/* jupyter's `normalize.less` sets `[hidden] { display: none; }` but bootstrap.min.css set `[hidden] { display: none !important; }` so we also need the `!important` here to be able to override the default hidden behavior on the sphinx rendered scikit-learn.org. See: https://github.com/scikit-learn/scikit-learn/issues/21755 */display: inline-block !important;position: relative;}#sk-container-id-2 div.sk-text-repr-fallback {display: none;}</style><div id=\"sk-container-id-2\" class=\"sk-top-container\"><div class=\"sk-text-repr-fallback\"><pre>SVC(random_state=0)</pre><b>In a Jupyter environment, please rerun this cell to show the HTML representation or trust the notebook. <br />On GitHub, the HTML representation is unable to render, please try loading this page with nbviewer.org.</b></div><div class=\"sk-container\" hidden><div class=\"sk-item\"><div class=\"sk-estimator sk-toggleable\"><input class=\"sk-toggleable__control sk-hidden--visually\" id=\"sk-estimator-id-2\" type=\"checkbox\" checked><label for=\"sk-estimator-id-2\" class=\"sk-toggleable__label sk-toggleable__label-arrow\">SVC</label><div class=\"sk-toggleable__content\"><pre>SVC(random_state=0)</pre></div></div></div></div></div>"
      ],
      "text/plain": [
       "SVC(random_state=0)"
      ]
     },
     "execution_count": 35,
     "metadata": {},
     "output_type": "execute_result"
    }
   ],
   "source": [
    "clf.fit(X_train, y_train)"
   ]
  },
  {
   "cell_type": "code",
   "execution_count": 36,
   "id": "ca148ca9",
   "metadata": {},
   "outputs": [],
   "source": [
    "predictions = clf.predict(X_test)"
   ]
  },
  {
   "cell_type": "code",
   "execution_count": 37,
   "id": "6b0f7f28",
   "metadata": {},
   "outputs": [],
   "source": [
    "cm = confusion_matrix(y_test, predictions, labels=clf.classes_)"
   ]
  },
  {
   "cell_type": "code",
   "execution_count": 38,
   "id": "4de6bc72",
   "metadata": {},
   "outputs": [],
   "source": [
    "disp = ConfusionMatrixDisplay(confusion_matrix=cm, display_labels=clf.classes_)"
   ]
  },
  {
   "cell_type": "code",
   "execution_count": 39,
   "id": "1a1beef6",
   "metadata": {},
   "outputs": [
    {
     "data": {
      "text/plain": [
       "<sklearn.metrics._plot.confusion_matrix.ConfusionMatrixDisplay at 0x17e2e956dd0>"
      ]
     },
     "execution_count": 39,
     "metadata": {},
     "output_type": "execute_result"
    },
    {
     "data": {
      "image/png": "[encoded data removed]",
      "text/plain": [
       "<Figure size 640x480 with 2 Axes>"
      ]
     },
     "metadata": {},
     "output_type": "display_data"
    }
   ],
   "source": [
    "disp.plot()"
   ]
  },
  {
   "cell_type": "code",
   "execution_count": 40,
   "id": "96d85b83",
   "metadata": {},
   "outputs": [
    {
     "data": {
      "image/png": "[encoded data removed]",
      "text/plain": [
       "<Figure size 640x480 with 2 Axes>"
      ]
     },
     "metadata": {},
     "output_type": "display_data"
    }
   ],
   "source": [
    "from sklearn.metrics import confusion_matrix\n",
    "from sklearn.metrics import ConfusionMatrixDisplay\n",
    "\n",
    "y_pred = clf.predict(X_test)\n",
    "cm = confusion_matrix(y_test, y_pred)\n",
    "\n",
    "cm_display = ConfusionMatrixDisplay(cm).plot()"
   ]
  },
  {
   "cell_type": "code",
   "execution_count": null,
   "id": "a32dfa19",
   "metadata": {},
   "outputs": [],
   "source": []
  },
  {
   "cell_type": "code",
   "execution_count": 41,
   "id": "c0aef3d8",
   "metadata": {},
   "outputs": [
    {
     "data": {
      "image/png": "[encoded data removed]",
      "text/plain": [
       "<Figure size 640x480 with 1 Axes>"
      ]
     },
     "metadata": {},
     "output_type": "display_data"
    }
   ],
   "source": [
    "from sklearn.metrics import roc_curve\n",
    "from sklearn.metrics import RocCurveDisplay\n",
    "\n",
    "y_score = clf.decision_function(X_test)\n",
    "\n",
    "fpr, tpr, _ = roc_curve(y_test, y_score, pos_label=clf.classes_[1])\n",
    "roc_display = RocCurveDisplay(fpr=fpr, tpr=tpr).plot()"
   ]
  },
  {
   "cell_type": "code",
   "execution_count": 42,
   "id": "178efaf2",
   "metadata": {},
   "outputs": [
    {
     "data": {
      "image/png": "[encoded data removed]",
      "text/plain": [
       "<Figure size 640x480 with 1 Axes>"
      ]
     },
     "metadata": {},
     "output_type": "display_data"
    }
   ],
   "source": [
    "from sklearn.metrics import precision_recall_curve\n",
    "from sklearn.metrics import PrecisionRecallDisplay\n",
    "\n",
    "prec, recall, _ = precision_recall_curve(y_test, y_score, pos_label=clf.classes_[1])\n",
    "pr_display = PrecisionRecallDisplay(precision=prec, recall=recall).plot()"
   ]
  },
  {
   "cell_type": "code",
   "execution_count": 43,
   "id": "39da888b",
   "metadata": {},
   "outputs": [
    {
     "data": {
      "image/png": "[encoded data removed]",
      "text/plain": [
       "<Figure size 1200x800 with 2 Axes>"
      ]
     },
     "metadata": {},
     "output_type": "display_data"
    }
   ],
   "source": [
    "import matplotlib.pyplot as plt\n",
    "\n",
    "fig, (ax1, ax2) = plt.subplots(1, 2, figsize=(12, 8))\n",
    "\n",
    "roc_display.plot(ax=ax1)\n",
    "pr_display.plot(ax=ax2)\n",
    "plt.show()"
   ]
  },
  {
   "cell_type": "markdown",
   "id": "62a7c374",
   "metadata": {},
   "source": [
    "# Logistic Regression"
   ]
  },
  {
   "cell_type": "code",
   "execution_count": 44,
   "id": "b413ced1",
   "metadata": {},
   "outputs": [
    {
     "name": "stdout",
     "output_type": "stream",
     "text": [
      "0.92\n"
     ]
    }
   ],
   "source": [
    "# instantiating a LogisticRegression object\n",
    "logReg = LogisticRegression(max_iter = 10000)\n",
    "\n",
    "# fitting\n",
    "logReg.fit(X_train, y_train)\n",
    "\n",
    "# predicting\n",
    "y_predict = logReg.predict(X_test)\n",
    "\n",
    "# calculating accuracy\n",
    "score = accuracy_score(y_test, y_predict)\n",
    "print(score)"
   ]
  },
  {
   "cell_type": "code",
   "execution_count": 45,
   "id": "515bae84",
   "metadata": {},
   "outputs": [
    {
     "name": "stdout",
     "output_type": "stream",
     "text": [
      "[1 1 1 0 0 1 1 0 1 1 1 0 0 0 0 1 0 0 1 1 0 0 1 0 0]\n",
      "[1 0 1 0 0 1 1 0 1 1 1 0 0 0 0 1 0 0 1 1 1 0 1 0 0]\n",
      "[[1.25510009e-02 9.87448999e-01]\n",
      " [9.70018288e-01 2.99817123e-02]\n",
      " [6.69565288e-02 9.33043471e-01]\n",
      " [9.95333401e-01 4.66659913e-03]\n",
      " [8.14141224e-01 1.85858776e-01]\n",
      " [3.16016136e-01 6.83983864e-01]\n",
      " [4.94546733e-03 9.95054533e-01]\n",
      " [8.81296172e-01 1.18703828e-01]\n",
      " [4.70798022e-01 5.29201978e-01]\n",
      " [1.77253399e-01 8.22746601e-01]\n",
      " [7.50276821e-04 9.99249723e-01]\n",
      " [9.66590753e-01 3.34092470e-02]\n",
      " [9.59784299e-01 4.02157010e-02]\n",
      " [8.20035047e-01 1.79964953e-01]\n",
      " [8.52273190e-01 1.47726810e-01]\n",
      " [2.05916357e-02 9.79408364e-01]\n",
      " [9.98757536e-01 1.24246380e-03]\n",
      " [6.61437663e-01 3.38562337e-01]\n",
      " [1.25432495e-07 9.99999875e-01]\n",
      " [1.35502063e-04 9.99864498e-01]\n",
      " [2.29538331e-01 7.70461669e-01]\n",
      " [9.72403942e-01 2.75960577e-02]\n",
      " [8.84395530e-02 9.11560447e-01]\n",
      " [9.93428352e-01 6.57164773e-03]\n",
      " [6.39291216e-01 3.60708784e-01]]\n",
      "[0.987449   0.02998171 0.93304347 0.0046666  0.18585878 0.68398386\n",
      " 0.99505453 0.11870383 0.52920198 0.8227466  0.99924972 0.03340925\n",
      " 0.0402157  0.17996495 0.14772681 0.97940836 0.00124246 0.33856234\n",
      " 0.99999987 0.9998645  0.77046167 0.02759606 0.91156045 0.00657165\n",
      " 0.36070878]\n"
     ]
    }
   ],
   "source": [
    "# estimating the probability of each label\n",
    "y_prob = logReg.predict_proba(X_test)\n",
    "\n",
    "# Prints \"actual label\" of the testing set\n",
    "print(y_test)\n",
    "\n",
    "# Prints \"predicted label\" for the testing set:\n",
    "print(y_predict)\n",
    "\n",
    "# Prints \"estimated likelihood of both label\" for the testing set:\n",
    "print(y_prob)\n",
    "\n",
    "# Pints the \"estimated likelihood of label=1\" for the testing set:\n",
    "print(y_prob[:,1])\n"
   ]
  },
  {
   "cell_type": "code",
   "execution_count": 46,
   "id": "a16bb813",
   "metadata": {},
   "outputs": [],
   "source": [
    "# True positive rate and False positive rate\n",
    "fpr_logisticReg, tpr_logisticReg, thresholds = metrics.roc_curve(y_test, y_prob[:,1], pos_label=1)\n"
   ]
  },
  {
   "cell_type": "code",
   "execution_count": 47,
   "id": "ecaf91bc",
   "metadata": {},
   "outputs": [
    {
     "name": "stdout",
     "output_type": "stream",
     "text": [
      "[0.         0.         0.         0.07692308 0.07692308 0.69230769\n",
      " 0.69230769 1.        ]\n"
     ]
    }
   ],
   "source": [
    "print(fpr_logisticReg)\n",
    "\n"
   ]
  },
  {
   "cell_type": "code",
   "execution_count": 48,
   "id": "c9dd84dc",
   "metadata": {},
   "outputs": [
    {
     "name": "stdout",
     "output_type": "stream",
     "text": [
      "[0.         0.08333333 0.75       0.75       0.91666667 0.91666667\n",
      " 1.         1.        ]\n"
     ]
    }
   ],
   "source": [
    "print(tpr_logisticReg)"
   ]
  },
  {
   "cell_type": "code",
   "execution_count": 49,
   "id": "194dc4cf",
   "metadata": {},
   "outputs": [
    {
     "name": "stdout",
     "output_type": "stream",
     "text": [
      "AUC:0.9294871794871795\n"
     ]
    }
   ],
   "source": [
    "# AUC:\n",
    "AUC_logisticReg = metrics.auc(fpr_logisticReg, tpr_logisticReg)\n",
    "print(\"AUC:\" + str(AUC_logisticReg))"
   ]
  },
  {
   "cell_type": "code",
   "execution_count": 56,
   "id": "0a8ddd67",
   "metadata": {},
   "outputs": [
    {
     "name": "stdout",
     "output_type": "stream",
     "text": [
      "Logistic Regression Accuracy: 0.92\n",
      "AUC Accuracy: 0.9294871794871795\n"
     ]
    }
   ],
   "source": [
    " \n",
    "print(\"Logistic Regression Accuracy: \" + str(score))\n",
    "print(\"AUC Accuracy: \" + str(AUC_logisticReg))\n",
    "\n"
   ]
  },
  {
   "cell_type": "markdown",
   "id": "aadede28",
   "metadata": {},
   "source": [
    "# ADA Boost"
   ]
  },
  {
   "cell_type": "code",
   "execution_count": 60,
   "id": "368fb328",
   "metadata": {},
   "outputs": [
    {
     "name": "stdout",
     "output_type": "stream",
     "text": [
      "Accuracy Score: 0.88\n"
     ]
    }
   ],
   "source": [
    "my_AdaBoost = AdaBoostClassifier(n_estimators = 29,random_state=2)\n",
    "\n",
    "# fitting and training the dataset\n",
    "my_AdaBoost.fit(X_train, y_train)\n",
    "\n",
    "# predicting the labels\n",
    "adaBoostPredict = my_AdaBoost.predict(X_test)\n",
    "\n",
    "# calculating the accuracy\n",
    "score = accuracy_score(y_test, adaBoostPredict)\n",
    "print(\"Accuracy Score: \" + str(score))"
   ]
  },
  {
   "cell_type": "code",
   "execution_count": 61,
   "id": "8bce628b",
   "metadata": {},
   "outputs": [],
   "source": [
    "# estimating the probability \n",
    "y_predict_prob = my_AdaBoost.predict_proba(X_test)\n",
    "\n",
    "# calculating false and true positive rate \n",
    "fpr_adaBoost, tpr_adaBoost, thresholds = metrics.roc_curve(y_test, y_predict_prob[:,1], pos_label=1)\n"
   ]
  },
  {
   "cell_type": "code",
   "execution_count": 62,
   "id": "c0f92d58",
   "metadata": {},
   "outputs": [
    {
     "name": "stdout",
     "output_type": "stream",
     "text": [
      "[0.         0.         0.         0.07692308 0.07692308 0.38461538\n",
      " 0.38461538 1.        ]\n"
     ]
    }
   ],
   "source": [
    "print(fpr_adaBoost)\n"
   ]
  },
  {
   "cell_type": "code",
   "execution_count": 63,
   "id": "8bef6cc2",
   "metadata": {},
   "outputs": [
    {
     "name": "stdout",
     "output_type": "stream",
     "text": [
      "[0.         0.08333333 0.58333333 0.58333333 0.91666667 0.91666667\n",
      " 1.         1.        ]\n"
     ]
    }
   ],
   "source": [
    "print(tpr_adaBoost)"
   ]
  },
  {
   "cell_type": "code",
   "execution_count": 64,
   "id": "03f98925",
   "metadata": {},
   "outputs": [
    {
     "name": "stdout",
     "output_type": "stream",
     "text": [
      "AUC: 0.9423076923076923\n"
     ]
    }
   ],
   "source": [
    "# AUC\n",
    "AUC_adaBoost = metrics.auc(fpr_adaBoost, tpr_adaBoost)\n",
    "print(\"AUC: \" + str(AUC_adaBoost))"
   ]
  },
  {
   "cell_type": "code",
   "execution_count": 66,
   "id": "6ca412c9",
   "metadata": {},
   "outputs": [
    {
     "name": "stdout",
     "output_type": "stream",
     "text": [
      "ADAboost Accuracy: 0.88\n",
      "AUC Accuracy: 0.9423076923076923\n"
     ]
    }
   ],
   "source": [
    "print(\"ADAboost Accuracy: \" + str(score))\n",
    "print(\"AUC Accuracy: \" + str(AUC_adaBoost))"
   ]
  },
  {
   "cell_type": "code",
   "execution_count": null,
   "id": "6ee4f945",
   "metadata": {},
   "outputs": [],
   "source": []
  }
 ],
 "metadata": {
  "kernelspec": {
   "display_name": "Python 3 (ipykernel)",
   "language": "python",
   "name": "python3"
  },
  "language_info": {
   "codemirror_mode": {
    "name": "ipython",
    "version": 3
   },
   "file_extension": ".py",
   "mimetype": "text/x-python",
   "name": "python",
   "nbconvert_exporter": "python",
   "pygments_lexer": "ipython3",
   "version": "3.10.9"
  }
 },
 "nbformat": 4,
 "nbformat_minor": 5
}
